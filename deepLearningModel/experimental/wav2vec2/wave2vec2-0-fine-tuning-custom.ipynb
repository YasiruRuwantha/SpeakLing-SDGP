{
 "cells": [
  {
   "cell_type": "markdown",
   "source": [
    "## Wav2vec2 Fine-tuning notebook (Yasiru)"
   ],
   "metadata": {
    "collapsed": false
   }
  },
  {
   "cell_type": "code",
   "execution_count": 37,
   "id": "respected-distinction",
   "metadata": {
    "execution": {
     "iopub.execute_input": "2021-05-08T19:25:35.573512Z",
     "iopub.status.busy": "2021-05-08T19:25:35.562704Z",
     "iopub.status.idle": "2021-05-08T19:25:57.395459Z",
     "shell.execute_reply": "2021-05-08T19:25:57.394412Z"
    },
    "id": "c8eh87Hoee5d",
    "papermill": {
     "duration": 21.883901,
     "end_time": "2021-05-08T19:25:57.395629",
     "exception": false,
     "start_time": "2021-05-08T19:25:35.511728",
     "status": "completed"
    },
    "tags": []
   },
   "outputs": [],
   "source": [
    "%%capture\n",
    "!pip install datasets==1.18.3\n",
    "!pip install transformers==4.17.0\n",
    "!pip install jiwer"
   ]
  },
  {
   "cell_type": "markdown",
   "id": "sophisticated-leisure",
   "metadata": {
    "papermill": {
     "duration": 0.040294,
     "end_time": "2021-05-08T19:25:57.476514",
     "exception": false,
     "start_time": "2021-05-08T19:25:57.436220",
     "status": "completed"
    },
    "tags": []
   },
   "source": []
  },
  {
   "cell_type": "markdown",
   "id": "multiple-startup",
   "metadata": {
    "id": "0mW-C1Nt-j7k",
    "papermill": {
     "duration": 0.042503,
     "end_time": "2021-05-08T19:25:57.560054",
     "exception": false,
     "start_time": "2021-05-08T19:25:57.517551",
     "status": "completed"
    },
    "tags": []
   },
   "source": [
    "## Prepare Data, Tokenizer, Feature Extractor"
   ]
  },
  {
   "cell_type": "markdown",
   "id": "intellectual-spring",
   "metadata": {
    "id": "bee4g9rpLxll",
    "papermill": {
     "duration": 0.040931,
     "end_time": "2021-05-08T19:25:57.643575",
     "exception": false,
     "start_time": "2021-05-08T19:25:57.602644",
     "status": "completed"
    },
    "tags": []
   },
   "source": [
    "loading the dataset and taking a look at its structure."
   ]
  },
  {
   "cell_type": "code",
   "execution_count": 2,
   "outputs": [],
   "source": [
    "%%capture\n",
    "!apt install git-lfs"
   ],
   "metadata": {
    "collapsed": false
   }
  },
  {
   "cell_type": "markdown",
   "source": [
    "Loading the custom dataset"
   ],
   "metadata": {
    "collapsed": false
   }
  },
  {
   "cell_type": "code",
   "execution_count": 4,
   "id": "miniature-librarian",
   "metadata": {
    "execution": {
     "iopub.execute_input": "2021-05-08T19:25:57.737836Z",
     "iopub.status.busy": "2021-05-08T19:25:57.737011Z",
     "iopub.status.idle": "2021-05-08T19:30:28.846901Z",
     "shell.execute_reply": "2021-05-08T19:30:28.846441Z"
    },
    "id": "2MMXcWFFgCXU",
    "outputId": "552b5d57-ad6f-4383-fadc-506bdd4bfe22",
    "papermill": {
     "duration": 271.155997,
     "end_time": "2021-05-08T19:30:28.847032",
     "exception": false,
     "start_time": "2021-05-08T19:25:57.691035",
     "status": "completed"
    },
    "tags": []
   },
   "outputs": [
    {
     "name": "stderr",
     "output_type": "stream",
     "text": [
      "Found cached dataset csv (C:/Users/Yasiru/.cache/huggingface/datasets/csv/default-03a0222fdd129866/0.0.0/6b34fb8fcf56f7c8ba51dc895bfa2bfbe43546f190a60fcf74bb5e8afdcc2317)\n"
     ]
    },
    {
     "data": {
      "text/plain": "  0%|          | 0/1 [00:00<?, ?it/s]",
      "application/vnd.jupyter.widget-view+json": {
       "version_major": 2,
       "version_minor": 0,
       "model_id": "76b6c812e52b4f1086f28122f993db24"
      }
     },
     "metadata": {},
     "output_type": "display_data"
    },
    {
     "name": "stderr",
     "output_type": "stream",
     "text": [
      "Found cached dataset csv (C:/Users/Yasiru/.cache/huggingface/datasets/csv/default-b4019ba1a5962b11/0.0.0/6b34fb8fcf56f7c8ba51dc895bfa2bfbe43546f190a60fcf74bb5e8afdcc2317)\n"
     ]
    },
    {
     "data": {
      "text/plain": "  0%|          | 0/1 [00:00<?, ?it/s]",
      "application/vnd.jupyter.widget-view+json": {
       "version_major": 2,
       "version_minor": 0,
       "model_id": "60ff5fbfd5544e918ddcfc6e3b639f3d"
      }
     },
     "metadata": {},
     "output_type": "display_data"
    }
   ],
   "source": [
    "from datasets import load_dataset, DatasetDict\n",
    "\n",
    "# Load each CSV file separately\n",
    "train_data = load_dataset(\"csv\", data_files=\"data/train.csv\")\n",
    "test_data = load_dataset(\"csv\", data_files=\"data/test.csv\")\n",
    "\n",
    "\n",
    "# Create splits for each dataset\n",
    "timit = DatasetDict({\n",
    "    \"train\": train_data[\"train\"],\n",
    "    \"test\": test_data[\"train\"],\n",
    "\n",
    "})\n",
    "\n",
    "# Access the splits using the keys\n",
    "train_examples = timit[\"train\"]\n",
    "test_examples = timit[\"test\"]\n"
   ]
  },
  {
   "cell_type": "code",
   "execution_count": 38,
   "outputs": [],
   "source": [
    "%%capture\n",
    "!apt install git-lfs"
   ],
   "metadata": {
    "collapsed": false
   }
  },
  {
   "cell_type": "code",
   "execution_count": 5,
   "id": "satellite-client",
   "metadata": {
    "execution": {
     "iopub.execute_input": "2021-05-08T19:30:28.942932Z",
     "iopub.status.busy": "2021-05-08T19:30:28.942253Z",
     "iopub.status.idle": "2021-05-08T19:30:28.945814Z",
     "shell.execute_reply": "2021-05-08T19:30:28.946233Z"
    },
    "id": "QbIM-L0xdvf4",
    "outputId": "7a6addd6-684e-4e41-8d78-dedaaf209caf",
    "papermill": {
     "duration": 0.054905,
     "end_time": "2021-05-08T19:30:28.946377",
     "exception": false,
     "start_time": "2021-05-08T19:30:28.891472",
     "status": "completed"
    },
    "tags": []
   },
   "outputs": [
    {
     "data": {
      "text/plain": "DatasetDict({\n    train: Dataset({\n        features: ['file', 'text'],\n        num_rows: 751\n    })\n    test: Dataset({\n        features: ['file', 'text'],\n        num_rows: 99\n    })\n})"
     },
     "execution_count": 5,
     "metadata": {},
     "output_type": "execute_result"
    }
   ],
   "source": [
    "\n",
    "timit\n"
   ]
  },
  {
   "cell_type": "markdown",
   "id": "suspended-reliance",
   "metadata": {
    "id": "ri5y5N_HMANq",
    "papermill": {
     "duration": 0.04402,
     "end_time": "2021-05-08T19:30:29.034592",
     "exception": false,
     "start_time": "2021-05-08T19:30:28.990572",
     "status": "completed"
    },
    "tags": []
   },
   "source": [
    "we will only consider the transcribed text for fine-tuning.\n",
    "\n"
   ]
  },
  {
   "cell_type": "markdown",
   "id": "potential-courtesy",
   "metadata": {
    "id": "Go9Hq4e4NDT9",
    "papermill": {
     "duration": 0.043844,
     "end_time": "2021-05-08T19:30:29.224164",
     "exception": false,
     "start_time": "2021-05-08T19:30:29.180320",
     "status": "completed"
    },
    "tags": []
   },
   "source": [
    "display some random samples of the dataset and run it a couple of times to get a feeling for the transcriptions."
   ]
  },
  {
   "cell_type": "code",
   "execution_count": 6,
   "id": "mysterious-gossip",
   "metadata": {
    "execution": {
     "iopub.execute_input": "2021-05-08T19:30:29.319884Z",
     "iopub.status.busy": "2021-05-08T19:30:29.319150Z",
     "iopub.status.idle": "2021-05-08T19:30:29.321698Z",
     "shell.execute_reply": "2021-05-08T19:30:29.322133Z"
    },
    "id": "72737oog2F6U",
    "papermill": {
     "duration": 0.053533,
     "end_time": "2021-05-08T19:30:29.322285",
     "exception": false,
     "start_time": "2021-05-08T19:30:29.268752",
     "status": "completed"
    },
    "tags": []
   },
   "outputs": [],
   "source": [
    "from datasets import ClassLabel\n",
    "import random\n",
    "import pandas as pd\n",
    "from IPython.display import display, HTML\n",
    "\n",
    "def show_random_elements(dataset, num_examples=10):\n",
    "    assert num_examples <= len(dataset), \"Can't pick more elements than there are in the dataset.\"\n",
    "    picks = []\n",
    "    for _ in range(num_examples):\n",
    "        pick = random.randint(0, len(dataset)-1)\n",
    "        while pick in picks:\n",
    "            pick = random.randint(0, len(dataset)-1)\n",
    "        picks.append(pick)\n",
    "    \n",
    "    df = pd.DataFrame(dataset[picks])\n",
    "    display(HTML(df.to_html()))"
   ]
  },
  {
   "cell_type": "code",
   "execution_count": 7,
   "id": "ambient-adult",
   "metadata": {
    "execution": {
     "iopub.execute_input": "2021-05-08T19:30:29.443791Z",
     "iopub.status.busy": "2021-05-08T19:30:29.442826Z",
     "iopub.status.idle": "2021-05-08T19:30:29.458057Z",
     "shell.execute_reply": "2021-05-08T19:30:29.457628Z"
    },
    "id": "K_JUmf3G3b9S",
    "outputId": "5502285b-0cc8-4d8f-b80e-212861a5c3e3",
    "papermill": {
     "duration": 0.071585,
     "end_time": "2021-05-08T19:30:29.458192",
     "exception": false,
     "start_time": "2021-05-08T19:30:29.386607",
     "status": "completed"
    },
    "tags": []
   },
   "outputs": [
    {
     "data": {
      "text/plain": "<IPython.core.display.HTML object>",
      "text/html": "<table border=\"1\" class=\"dataframe\">\n  <thead>\n    <tr style=\"text-align: right;\">\n      <th></th>\n      <th>text</th>\n    </tr>\n  </thead>\n  <tbody>\n    <tr>\n      <th>0</th>\n      <td>pop</td>\n    </tr>\n    <tr>\n      <th>1</th>\n      <td>boat</td>\n    </tr>\n    <tr>\n      <th>2</th>\n      <td>yyy</td>\n    </tr>\n    <tr>\n      <th>3</th>\n      <td>plate</td>\n    </tr>\n    <tr>\n      <th>4</th>\n      <td>pop</td>\n    </tr>\n  </tbody>\n</table>"
     },
     "metadata": {},
     "output_type": "display_data"
    }
   ],
   "source": [
    "show_random_elements(timit[\"train\"].remove_columns([\"file\"]), num_examples=5)"
   ]
  },
  {
   "cell_type": "markdown",
   "id": "designed-mistake",
   "metadata": {
    "id": "fowcOllGNNju",
    "papermill": {
     "duration": 0.053691,
     "end_time": "2021-05-08T19:30:29.562733",
     "exception": false,
     "start_time": "2021-05-08T19:30:29.509042",
     "status": "completed"
    },
    "tags": []
   },
   "source": [
    "transcriptions look very clean"
   ]
  },
  {
   "cell_type": "markdown",
   "id": "resistant-being",
   "metadata": {
    "id": "vq7OR50LN49m",
    "papermill": {
     "duration": 0.052717,
     "end_time": "2021-05-08T19:30:29.669177",
     "exception": false,
     "start_time": "2021-05-08T19:30:29.616460",
     "status": "completed"
    },
    "tags": []
   },
   "source": []
  },
  {
   "cell_type": "code",
   "execution_count": 11,
   "id": "appreciated-margin",
   "metadata": {
    "execution": {
     "iopub.execute_input": "2021-05-08T19:30:29.778215Z",
     "iopub.status.busy": "2021-05-08T19:30:29.777506Z",
     "iopub.status.idle": "2021-05-08T19:30:29.780364Z",
     "shell.execute_reply": "2021-05-08T19:30:29.779917Z"
    },
    "id": "svKzVJ_hQGK6",
    "papermill": {
     "duration": 0.060881,
     "end_time": "2021-05-08T19:30:29.780486",
     "exception": false,
     "start_time": "2021-05-08T19:30:29.719605",
     "status": "completed"
    },
    "tags": []
   },
   "outputs": [],
   "source": [
    "import re\n",
    "chars_to_ignore_regex = '[\\,\\?\\.\\!\\-\\;\\:\\\"]'\n",
    "\n",
    "def remove_special_characters(batch):\n",
    "    batch[\"text\"] = re.sub(chars_to_ignore_regex, '', batch[\"text\"]).lower() + \" \"\n",
    "    return batch"
   ]
  },
  {
   "cell_type": "code",
   "execution_count": 12,
   "id": "complimentary-deposit",
   "metadata": {
    "execution": {
     "iopub.execute_input": "2021-05-08T19:30:29.885524Z",
     "iopub.status.busy": "2021-05-08T19:30:29.884862Z",
     "iopub.status.idle": "2021-05-08T19:30:32.199172Z",
     "shell.execute_reply": "2021-05-08T19:30:32.198439Z"
    },
    "id": "XIHocAuTQbBR",
    "outputId": "5542cd67-240b-4819-ff49-49f65f593559",
    "papermill": {
     "duration": 2.368441,
     "end_time": "2021-05-08T19:30:32.199359",
     "exception": false,
     "start_time": "2021-05-08T19:30:29.830918",
     "status": "completed"
    },
    "tags": []
   },
   "outputs": [
    {
     "data": {
      "text/plain": "Map:   0%|          | 0/751 [00:00<?, ? examples/s]",
      "application/vnd.jupyter.widget-view+json": {
       "version_major": 2,
       "version_minor": 0,
       "model_id": "639b832dd9c546ceafbab3f84bba14c9"
      }
     },
     "metadata": {},
     "output_type": "display_data"
    },
    {
     "data": {
      "text/plain": "Map:   0%|          | 0/99 [00:00<?, ? examples/s]",
      "application/vnd.jupyter.widget-view+json": {
       "version_major": 2,
       "version_minor": 0,
       "model_id": "028fd951f1794d97aeb1c318af21f526"
      }
     },
     "metadata": {},
     "output_type": "display_data"
    }
   ],
   "source": [
    "timit = timit.map(remove_special_characters)"
   ]
  },
  {
   "cell_type": "code",
   "execution_count": 13,
   "id": "confidential-cigarette",
   "metadata": {
    "execution": {
     "iopub.execute_input": "2021-05-08T19:30:32.297413Z",
     "iopub.status.busy": "2021-05-08T19:30:32.296659Z",
     "iopub.status.idle": "2021-05-08T19:30:32.303783Z",
     "shell.execute_reply": "2021-05-08T19:30:32.304186Z"
    },
    "id": "RBDRAAYxRE6n",
    "outputId": "7580c7f7-cf40-49a7-8bb7-963e598c06d9",
    "papermill": {
     "duration": 0.058203,
     "end_time": "2021-05-08T19:30:32.304332",
     "exception": false,
     "start_time": "2021-05-08T19:30:32.246129",
     "status": "completed"
    },
    "tags": []
   },
   "outputs": [
    {
     "data": {
      "text/plain": "<IPython.core.display.HTML object>",
      "text/html": "<table border=\"1\" class=\"dataframe\">\n  <thead>\n    <tr style=\"text-align: right;\">\n      <th></th>\n      <th>text</th>\n    </tr>\n  </thead>\n  <tbody>\n    <tr>\n      <th>0</th>\n      <td>okay</td>\n    </tr>\n    <tr>\n      <th>1</th>\n      <td>cake</td>\n    </tr>\n    <tr>\n      <th>2</th>\n      <td>pop</td>\n    </tr>\n    <tr>\n      <th>3</th>\n      <td>shape</td>\n    </tr>\n    <tr>\n      <th>4</th>\n      <td>yyy</td>\n    </tr>\n    <tr>\n      <th>5</th>\n      <td>plate</td>\n    </tr>\n    <tr>\n      <th>6</th>\n      <td>pop</td>\n    </tr>\n    <tr>\n      <th>7</th>\n      <td>cut</td>\n    </tr>\n    <tr>\n      <th>8</th>\n      <td>bead</td>\n    </tr>\n    <tr>\n      <th>9</th>\n      <td>yyy</td>\n    </tr>\n  </tbody>\n</table>"
     },
     "metadata": {},
     "output_type": "display_data"
    }
   ],
   "source": [
    "show_random_elements(timit[\"train\"].remove_columns([\"file\"]))"
   ]
  },
  {
   "cell_type": "markdown",
   "id": "compliant-grace",
   "metadata": {
    "id": "jwfaptH5RJwA",
    "papermill": {
     "duration": 0.046621,
     "end_time": "2021-05-08T19:30:32.397915",
     "exception": false,
     "start_time": "2021-05-08T19:30:32.351294",
     "status": "completed"
    },
    "tags": []
   },
   "source": [
    "\n",
    "\n",
    "\n",
    "\n",
    "write a mapping function that concatenates all transcriptions into one long transcription and then transforms the string into a set of chars.\n",
    "It is important to pass the argument `batched=True` to the `map(...)` function so that the mapping function has access to all transcriptions at once."
   ]
  },
  {
   "cell_type": "code",
   "execution_count": 14,
   "id": "selective-monkey",
   "metadata": {
    "execution": {
     "iopub.execute_input": "2021-05-08T19:30:32.497090Z",
     "iopub.status.busy": "2021-05-08T19:30:32.496387Z",
     "iopub.status.idle": "2021-05-08T19:30:32.499306Z",
     "shell.execute_reply": "2021-05-08T19:30:32.498886Z"
    },
    "id": "LwCshNbbeRZR",
    "papermill": {
     "duration": 0.054281,
     "end_time": "2021-05-08T19:30:32.499417",
     "exception": false,
     "start_time": "2021-05-08T19:30:32.445136",
     "status": "completed"
    },
    "tags": []
   },
   "outputs": [
    {
     "data": {
      "text/plain": "Map:   0%|          | 0/751 [00:00<?, ? examples/s]",
      "application/vnd.jupyter.widget-view+json": {
       "version_major": 2,
       "version_minor": 0,
       "model_id": "c525b9b9b64543b18a8166b2f8589b4c"
      }
     },
     "metadata": {},
     "output_type": "display_data"
    },
    {
     "data": {
      "text/plain": "Map:   0%|          | 0/99 [00:00<?, ? examples/s]",
      "application/vnd.jupyter.widget-view+json": {
       "version_major": 2,
       "version_minor": 0,
       "model_id": "dc037492cb3e4bd8949c3c9779fccc5a"
      }
     },
     "metadata": {},
     "output_type": "display_data"
    }
   ],
   "source": [
    "def extract_all_chars(batch):\n",
    "  all_text = \" \".join(batch[\"text\"])\n",
    "  vocab = list(set(all_text))\n",
    "  return {\"vocab\": [vocab], \"all_text\": [all_text]}\n",
    "\n",
    "vocabs = timit.map(extract_all_chars, batched=True, batch_size=-1, keep_in_memory=True, remove_columns=timit.column_names[\"train\"])\n"
   ]
  },
  {
   "cell_type": "code",
   "execution_count": 68,
   "id": "radio-healing",
   "metadata": {
    "execution": {
     "iopub.execute_input": "2021-05-08T19:30:32.617786Z",
     "iopub.status.busy": "2021-05-08T19:30:32.616942Z",
     "iopub.status.idle": "2021-05-08T19:30:32.678282Z",
     "shell.execute_reply": "2021-05-08T19:30:32.678871Z"
    },
    "id": "_m6uUjjcfbjH",
    "outputId": "49b69019-0f91-4d73-c19d-61542d1a7f7e",
    "papermill": {
     "duration": 0.132614,
     "end_time": "2021-05-08T19:30:32.679051",
     "exception": false,
     "start_time": "2021-05-08T19:30:32.546437",
     "status": "completed"
    },
    "tags": []
   },
   "outputs": [
    {
     "data": {
      "application/vnd.jupyter.widget-view+json": {
       "model_id": "b3ec90e8ef56431fb34af854001375a0",
       "version_major": 2,
       "version_minor": 0
      },
      "text/plain": [
       "Map:   0%|          | 0/4267 [00:00<?, ? examples/s]"
      ]
     },
     "metadata": {},
     "output_type": "display_data"
    }
   ],
   "source": []
  },
  {
   "cell_type": "markdown",
   "id": "acceptable-leave",
   "metadata": {
    "id": "7oVgE8RZSJNP",
    "papermill": {
     "duration": 0.04847,
     "end_time": "2021-05-08T19:30:32.777193",
     "exception": false,
     "start_time": "2021-05-08T19:30:32.728723",
     "status": "completed"
    },
    "tags": []
   },
   "source": [
    "union of all distinct letters in the training dataset and test dataset and convert the resulting list into an enumerated dictionary."
   ]
  },
  {
   "cell_type": "code",
   "execution_count": 15,
   "id": "billion-pendant",
   "metadata": {
    "execution": {
     "iopub.execute_input": "2021-05-08T19:30:32.880072Z",
     "iopub.status.busy": "2021-05-08T19:30:32.879231Z",
     "iopub.status.idle": "2021-05-08T19:30:32.882029Z",
     "shell.execute_reply": "2021-05-08T19:30:32.881627Z"
    },
    "id": "aQfneNsmlJI0",
    "papermill": {
     "duration": 0.056395,
     "end_time": "2021-05-08T19:30:32.882140",
     "exception": false,
     "start_time": "2021-05-08T19:30:32.825745",
     "status": "completed"
    },
    "tags": []
   },
   "outputs": [],
   "source": [
    "vocab_list = list(set(vocabs[\"train\"][\"vocab\"][0]) | set(vocabs[\"test\"][\"vocab\"][0]))"
   ]
  },
  {
   "cell_type": "code",
   "execution_count": 16,
   "id": "unnecessary-feeding",
   "metadata": {
    "execution": {
     "iopub.execute_input": "2021-05-08T19:30:32.984705Z",
     "iopub.status.busy": "2021-05-08T19:30:32.983972Z",
     "iopub.status.idle": "2021-05-08T19:30:32.987612Z",
     "shell.execute_reply": "2021-05-08T19:30:32.987094Z"
    },
    "id": "_0kRndSvqaKk",
    "outputId": "352477a8-4d15-4af8-c626-841e6d6775a2",
    "papermill": {
     "duration": 0.05708,
     "end_time": "2021-05-08T19:30:32.987717",
     "exception": false,
     "start_time": "2021-05-08T19:30:32.930637",
     "status": "completed"
    },
    "tags": []
   },
   "outputs": [
    {
     "data": {
      "text/plain": "{'c': 0,\n 't': 1,\n ' ': 2,\n 'y': 3,\n 'i': 4,\n 'm': 5,\n 's': 6,\n 'a': 7,\n 'l': 8,\n 'e': 9,\n 'u': 10,\n 'b': 11,\n 'p': 12,\n 'h': 13,\n 'w': 14,\n 'k': 15,\n 'd': 16,\n 'n': 17,\n 'o': 18,\n 'r': 19}"
     },
     "execution_count": 16,
     "metadata": {},
     "output_type": "execute_result"
    }
   ],
   "source": [
    "vocab_dict = {v: k for k, v in enumerate(vocab_list)}\n",
    "vocab_dict"
   ]
  },
  {
   "cell_type": "markdown",
   "id": "dangerous-williams",
   "metadata": {
    "id": "JOSzbvs9SXT1",
    "papermill": {
     "duration": 0.049539,
     "end_time": "2021-05-08T19:30:33.085929",
     "exception": false,
     "start_time": "2021-05-08T19:30:33.036390",
     "status": "completed"
    },
    "tags": []
   },
   "source": [
    "we also extracted the special characters `\" \"` and `'`."
   ]
  },
  {
   "cell_type": "markdown",
   "id": "bibliographic-navigation",
   "metadata": {
    "id": "b1fBRCn-TRaO",
    "papermill": {
     "duration": 0.048454,
     "end_time": "2021-05-08T19:30:33.182872",
     "exception": false,
     "start_time": "2021-05-08T19:30:33.134418",
     "status": "completed"
    },
    "tags": []
   },
   "source": []
  },
  {
   "cell_type": "code",
   "execution_count": 17,
   "id": "recorded-exhibition",
   "metadata": {
    "execution": {
     "iopub.execute_input": "2021-05-08T19:30:33.284531Z",
     "iopub.status.busy": "2021-05-08T19:30:33.283808Z",
     "iopub.status.idle": "2021-05-08T19:30:33.286771Z",
     "shell.execute_reply": "2021-05-08T19:30:33.286372Z"
    },
    "id": "npbIbBoLgaFX",
    "papermill": {
     "duration": 0.05531,
     "end_time": "2021-05-08T19:30:33.286878",
     "exception": false,
     "start_time": "2021-05-08T19:30:33.231568",
     "status": "completed"
    },
    "tags": []
   },
   "outputs": [],
   "source": [
    "vocab_dict[\"|\"] = vocab_dict[\" \"]\n",
    "del vocab_dict[\" \"]"
   ]
  },
  {
   "cell_type": "code",
   "execution_count": 18,
   "id": "attempted-dragon",
   "metadata": {
    "execution": {
     "iopub.execute_input": "2021-05-08T19:30:33.388993Z",
     "iopub.status.busy": "2021-05-08T19:30:33.388207Z",
     "iopub.status.idle": "2021-05-08T19:30:33.391589Z",
     "shell.execute_reply": "2021-05-08T19:30:33.392067Z"
    },
    "id": "znF0bNunsjbl",
    "outputId": "0ec0ba82-367d-480b-cae2-2d0fe45e34c6",
    "papermill": {
     "duration": 0.056438,
     "end_time": "2021-05-08T19:30:33.392184",
     "exception": false,
     "start_time": "2021-05-08T19:30:33.335746",
     "status": "completed"
    },
    "tags": []
   },
   "outputs": [
    {
     "data": {
      "text/plain": "22"
     },
     "execution_count": 18,
     "metadata": {},
     "output_type": "execute_result"
    }
   ],
   "source": [
    "vocab_dict[\"[UNK]\"] = len(vocab_dict)\n",
    "vocab_dict[\"[PAD]\"] = len(vocab_dict)\n",
    "len(vocab_dict)"
   ]
  },
  {
   "cell_type": "markdown",
   "id": "north-strength",
   "metadata": {
    "id": "SFPGfet8U5sL",
    "papermill": {
     "duration": 0.048953,
     "end_time": "2021-05-08T19:30:33.490605",
     "exception": false,
     "start_time": "2021-05-08T19:30:33.441652",
     "status": "completed"
    },
    "tags": []
   },
   "source": []
  },
  {
   "cell_type": "markdown",
   "id": "equipped-relative",
   "metadata": {
    "id": "1CujRgBNVRaD",
    "papermill": {
     "duration": 0.05317,
     "end_time": "2021-05-08T19:30:33.594932",
     "exception": false,
     "start_time": "2021-05-08T19:30:33.541762",
     "status": "completed"
    },
    "tags": []
   },
   "source": [
    "Let's now save the vocabulary as a json file."
   ]
  },
  {
   "cell_type": "code",
   "execution_count": 19,
   "id": "outer-memorial",
   "metadata": {
    "execution": {
     "iopub.execute_input": "2021-05-08T19:30:33.698390Z",
     "iopub.status.busy": "2021-05-08T19:30:33.697723Z",
     "iopub.status.idle": "2021-05-08T19:30:33.700888Z",
     "shell.execute_reply": "2021-05-08T19:30:33.700462Z"
    },
    "id": "ehyUoh9vk191",
    "papermill": {
     "duration": 0.056504,
     "end_time": "2021-05-08T19:30:33.700990",
     "exception": false,
     "start_time": "2021-05-08T19:30:33.644486",
     "status": "completed"
    },
    "tags": []
   },
   "outputs": [],
   "source": [
    "import json\n",
    "with open('vocab.json', 'w') as vocab_file:\n",
    "    json.dump(vocab_dict, vocab_file)"
   ]
  },
  {
   "cell_type": "markdown",
   "id": "considerable-wilson",
   "metadata": {
    "id": "SHJDaKlIVVim",
    "papermill": {
     "duration": 0.04944,
     "end_time": "2021-05-08T19:30:33.800058",
     "exception": false,
     "start_time": "2021-05-08T19:30:33.750618",
     "status": "completed"
    },
    "tags": []
   },
   "source": [
    "In a final step, we use the json file to instantiate an object of the `Wav2Vec2CTCTokenizer` class."
   ]
  },
  {
   "cell_type": "code",
   "execution_count": 20,
   "id": "amazing-upset",
   "metadata": {
    "execution": {
     "iopub.execute_input": "2021-05-08T19:30:33.904620Z",
     "iopub.status.busy": "2021-05-08T19:30:33.903951Z",
     "iopub.status.idle": "2021-05-08T19:30:34.021316Z",
     "shell.execute_reply": "2021-05-08T19:30:34.020845Z"
    },
    "id": "xriFGEWQkO4M",
    "papermill": {
     "duration": 0.171516,
     "end_time": "2021-05-08T19:30:34.021451",
     "exception": false,
     "start_time": "2021-05-08T19:30:33.849935",
     "status": "completed"
    },
    "tags": []
   },
   "outputs": [],
   "source": [
    "from transformers import Wav2Vec2CTCTokenizer\n",
    "\n",
    "tokenizer = Wav2Vec2CTCTokenizer(\"./vocab.json\", unk_token=\"[UNK]\", pad_token=\"[PAD]\", word_delimiter_token=\"|\")"
   ]
  },
  {
   "cell_type": "code",
   "execution_count": 21,
   "id": "scientific-market",
   "metadata": {
    "execution": {
     "iopub.execute_input": "2021-05-08T19:30:34.127097Z",
     "iopub.status.busy": "2021-05-08T19:30:34.126247Z",
     "iopub.status.idle": "2021-05-08T19:30:34.131463Z",
     "shell.execute_reply": "2021-05-08T19:30:34.130920Z"
    },
    "papermill": {
     "duration": 0.059769,
     "end_time": "2021-05-08T19:30:34.131576",
     "exception": false,
     "start_time": "2021-05-08T19:30:34.071807",
     "status": "completed"
    },
    "tags": []
   },
   "outputs": [
    {
     "data": {
      "text/plain": "('./wav2vec2-base-mine/tokenizer_config.json',\n './wav2vec2-base-mine/special_tokens_map.json',\n './wav2vec2-base-mine/vocab.json',\n './wav2vec2-base-mine/added_tokens.json')"
     },
     "execution_count": 21,
     "metadata": {},
     "output_type": "execute_result"
    }
   ],
   "source": [
    "tokenizer.save_pretrained(\"./wav2vec2-base-mine/\")"
   ]
  },
  {
   "cell_type": "markdown",
   "id": "joined-benjamin",
   "metadata": {
    "id": "KvL12DrNV4cx",
    "papermill": {
     "duration": 0.049625,
     "end_time": "2021-05-08T19:30:34.230647",
     "exception": false,
     "start_time": "2021-05-08T19:30:34.181022",
     "status": "completed"
    },
    "tags": []
   },
   "source": [
    "Next, we will create the feature extractor."
   ]
  },
  {
   "cell_type": "markdown",
   "id": "exotic-holiday",
   "metadata": {
    "id": "mYcIiR2FQ96i",
    "papermill": {
     "duration": 0.049878,
     "end_time": "2021-05-08T19:30:34.330038",
     "exception": false,
     "start_time": "2021-05-08T19:30:34.280160",
     "status": "completed"
    },
    "tags": []
   },
   "source": [
    "### Create Wav2Vec2 Feature Extractor"
   ]
  },
  {
   "cell_type": "markdown",
   "id": "written-sector",
   "metadata": {
    "id": "KuUbPW7oV-B5",
    "papermill": {
     "duration": 0.049446,
     "end_time": "2021-05-08T19:30:34.429608",
     "exception": false,
     "start_time": "2021-05-08T19:30:34.380162",
     "status": "completed"
    },
    "tags": []
   },
   "source": []
  },
  {
   "cell_type": "code",
   "execution_count": 31,
   "id": "optical-stake",
   "metadata": {
    "execution": {
     "iopub.execute_input": "2021-05-08T19:30:34.536035Z",
     "iopub.status.busy": "2021-05-08T19:30:34.535229Z",
     "iopub.status.idle": "2021-05-08T19:30:34.542235Z",
     "shell.execute_reply": "2021-05-08T19:30:34.541825Z"
    },
    "id": "kAR0-2KLkopp",
    "papermill": {
     "duration": 0.060889,
     "end_time": "2021-05-08T19:30:34.542377",
     "exception": false,
     "start_time": "2021-05-08T19:30:34.481488",
     "status": "completed"
    },
    "tags": []
   },
   "outputs": [
    {
     "data": {
      "text/plain": "['./wav2vec2-base-mine/preprocessor_config.json']"
     },
     "execution_count": 31,
     "metadata": {},
     "output_type": "execute_result"
    }
   ],
   "source": [
    "from transformers import Wav2Vec2FeatureExtractor\n",
    "\n",
    "feature_extractor = Wav2Vec2FeatureExtractor(feature_size=1, sampling_rate=16000, padding_value=0.0, do_normalize=True, return_attention_mask=False)\n",
    "\n",
    "\n",
    "feature_extractor.save_pretrained(\"./wav2vec2-base-mine/\")"
   ]
  },
  {
   "cell_type": "markdown",
   "id": "tested-township",
   "metadata": {
    "id": "qUETetgqYC3W",
    "papermill": {
     "duration": 0.050316,
     "end_time": "2021-05-08T19:30:34.642621",
     "exception": false,
     "start_time": "2021-05-08T19:30:34.592305",
     "status": "completed"
    },
    "tags": []
   },
   "source": []
  },
  {
   "cell_type": "code",
   "execution_count": 34,
   "id": "hispanic-spokesman",
   "metadata": {
    "execution": {
     "iopub.execute_input": "2021-05-08T19:30:34.746457Z",
     "iopub.status.busy": "2021-05-08T19:30:34.745855Z",
     "iopub.status.idle": "2021-05-08T19:30:34.750855Z",
     "shell.execute_reply": "2021-05-08T19:30:34.750404Z"
    },
    "id": "KYZtoW-tlZgl",
    "papermill": {
     "duration": 0.058528,
     "end_time": "2021-05-08T19:30:34.750959",
     "exception": false,
     "start_time": "2021-05-08T19:30:34.692431",
     "status": "completed"
    },
    "tags": []
   },
   "outputs": [],
   "source": [
    "from transformers import Wav2Vec2Processor\n",
    "\n",
    "processor = Wav2Vec2Processor(feature_extractor=feature_extractor, tokenizer=tokenizer)\n",
    "\n",
    "processor.save_pretrained(\"./wav2vec2-base-mine/\")\n"
   ]
  },
  {
   "cell_type": "markdown",
   "id": "white-drama",
   "metadata": {
    "id": "fTfFDSS0YfMN",
    "papermill": {
     "duration": 0.049652,
     "end_time": "2021-05-08T19:30:34.850679",
     "exception": false,
     "start_time": "2021-05-08T19:30:34.801027",
     "status": "completed"
    },
    "tags": []
   },
   "source": [
    "\n",
    "\n",
    "We will give the fine-tuned model the name `\"wav2vec2-base-timit-demo\"`."
   ]
  },
  {
   "cell_type": "code",
   "execution_count": 24,
   "id": "settled-lighter",
   "metadata": {
    "execution": {
     "iopub.execute_input": "2021-05-08T19:30:34.955557Z",
     "iopub.status.busy": "2021-05-08T19:30:34.954719Z",
     "iopub.status.idle": "2021-05-08T19:30:34.958679Z",
     "shell.execute_reply": "2021-05-08T19:30:34.958131Z"
    },
    "id": "TTCS7W6XJ9BG",
    "outputId": "0d02c51b-844f-4f2b-ff2c-d124317ced9d",
    "papermill": {
     "duration": 0.057701,
     "end_time": "2021-05-08T19:30:34.958783",
     "exception": false,
     "start_time": "2021-05-08T19:30:34.901082",
     "status": "completed"
    },
    "tags": []
   },
   "outputs": [
    {
     "data": {
      "text/plain": "{'file': 'C:/Users/Yasiru/Downloads/dataset/data/dev/040221_278/040221_278.wav',\n 'text': 'cut  '}"
     },
     "execution_count": 24,
     "metadata": {},
     "output_type": "execute_result"
    }
   ],
   "source": [
    "timit[\"train\"][0]"
   ]
  },
  {
   "cell_type": "markdown",
   "id": "reduced-trick",
   "metadata": {
    "id": "wSBIGEiaKHMn",
    "papermill": {
     "duration": 0.051004,
     "end_time": "2021-05-08T19:30:35.059711",
     "exception": false,
     "start_time": "2021-05-08T19:30:35.008707",
     "status": "completed"
    },
    "tags": []
   },
   "source": [
    "Alright, the audio file is saved in the `.WAV` format. There are a couple of python-based libraries to read and process audio files\n",
    "\n",
    "`librosa` seems to be the most active and prominent library, but since it depends on `soundfile` for loading of audio files, we will just use `soundfile` directly in this notebook.\n"
   ]
  },
  {
   "cell_type": "code",
   "execution_count": 112,
   "id": "58deb142",
   "metadata": {},
   "outputs": [
    {
     "name": "stdout",
     "output_type": "stream",
     "text": [
      "Requirement already satisfied: soundfile in c:\\users\\yasiru\\anaconda3\\lib\\site-packages (0.12.1)\n",
      "Requirement already satisfied: cffi>=1.0 in c:\\users\\yasiru\\anaconda3\\lib\\site-packages (from soundfile) (1.15.1)\n",
      "Requirement already satisfied: pycparser in c:\\users\\yasiru\\anaconda3\\lib\\site-packages (from cffi>=1.0->soundfile) (2.21)\n"
     ]
    }
   ],
   "source": [
    "!pip install soundfile"
   ]
  },
  {
   "cell_type": "code",
   "execution_count": 26,
   "outputs": [],
   "source": [
    "%%capture\n",
    "!apt install git-lfs"
   ],
   "metadata": {
    "collapsed": false
   }
  },
  {
   "cell_type": "code",
   "execution_count": 25,
   "id": "muslim-starter",
   "metadata": {
    "execution": {
     "iopub.execute_input": "2021-05-08T19:30:35.167139Z",
     "iopub.status.busy": "2021-05-08T19:30:35.166606Z",
     "iopub.status.idle": "2021-05-08T19:30:35.212900Z",
     "shell.execute_reply": "2021-05-08T19:30:35.212408Z"
    },
    "id": "al9Luo4LPpwJ",
    "papermill": {
     "duration": 0.102772,
     "end_time": "2021-05-08T19:30:35.213021",
     "exception": false,
     "start_time": "2021-05-08T19:30:35.110249",
     "status": "completed"
    },
    "tags": []
   },
   "outputs": [
    {
     "data": {
      "text/plain": "Map (num_proc=4):   0%|          | 0/751 [00:00<?, ? examples/s]",
      "application/vnd.jupyter.widget-view+json": {
       "version_major": 2,
       "version_minor": 0,
       "model_id": "ee18c255400643a19650d42a23666dfa"
      }
     },
     "metadata": {},
     "output_type": "display_data"
    },
    {
     "data": {
      "text/plain": "Map (num_proc=4):   0%|          | 0/99 [00:00<?, ? examples/s]",
      "application/vnd.jupyter.widget-view+json": {
       "version_major": 2,
       "version_minor": 0,
       "model_id": "f6e72300b055418ba41d225ce5e73cb2"
      }
     },
     "metadata": {},
     "output_type": "display_data"
    }
   ],
   "source": [
    "\n",
    "def speech_file_to_array_fn(batch):\n",
    "    import soundfile as sf\n",
    "\n",
    "    speech_array, sampling_rate = sf.read(batch[\"file\"])\n",
    "    batch[\"speech\"] = speech_array\n",
    "    batch[\"sampling_rate\"] = sampling_rate\n",
    "    batch[\"target_text\"] = batch[\"text\"]\n",
    "    return batch\n",
    "\n",
    "timit = timit.map(speech_file_to_array_fn, remove_columns=timit.column_names[\"train\"], num_proc=4)"
   ]
  },
  {
   "cell_type": "code",
   "execution_count": 27,
   "id": "yellow-station",
   "metadata": {
    "execution": {
     "iopub.execute_input": "2021-05-08T19:31:03.774531Z",
     "iopub.status.busy": "2021-05-08T19:31:03.773989Z",
     "iopub.status.idle": "2021-05-08T19:31:03.794823Z",
     "shell.execute_reply": "2021-05-08T19:31:03.795240Z"
    },
    "id": "dueM6U7Ev0OA",
    "outputId": "30295196-e3bc-406a-9351-307460022f6b",
    "papermill": {
     "duration": 0.114719,
     "end_time": "2021-05-08T19:31:03.795411",
     "exception": false,
     "start_time": "2021-05-08T19:31:03.680692",
     "status": "completed"
    },
    "tags": []
   },
   "outputs": [
    {
     "data": {
      "text/plain": "<IPython.lib.display.Audio object>",
      "text/html": "\n                <audio  controls=\"controls\" autoplay=\"autoplay\">\n                    <source src=\"data:audio/wav;base64,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\" type=\"audio/wav\" />\n                    Your browser does not support the audio element.\n                </audio>\n              "
     },
     "execution_count": 27,
     "metadata": {},
     "output_type": "execute_result"
    }
   ],
   "source": [
    "import IPython.display as ipd\n",
    "import numpy as np\n",
    "import random\n",
    "\n",
    "rand_int = random.randint(0, len(timit[\"train\"]))\n",
    "\n",
    "ipd.Audio(data=np.asarray(timit[\"train\"][rand_int][\"speech\"]), autoplay=True, rate=16000)"
   ]
  },
  {
   "cell_type": "markdown",
   "id": "demonstrated-synthetic",
   "metadata": {
    "id": "1MaL9J2dNVtG",
    "papermill": {
     "duration": 0.05547,
     "end_time": "2021-05-08T19:31:03.908703",
     "exception": false,
     "start_time": "2021-05-08T19:31:03.853233",
     "status": "completed"
    },
    "tags": []
   },
   "source": [
    "It can be heard, that the speakers change along with their speaking rate, accent, etc."
   ]
  },
  {
   "cell_type": "code",
   "execution_count": 28,
   "id": "rolled-immigration",
   "metadata": {
    "execution": {
     "iopub.execute_input": "2021-05-08T19:31:04.068423Z",
     "iopub.status.busy": "2021-05-08T19:31:04.063502Z",
     "iopub.status.idle": "2021-05-08T19:31:04.092975Z",
     "shell.execute_reply": "2021-05-08T19:31:04.093589Z"
    },
    "id": "1Po2g7YPuRTx",
    "outputId": "89290291-18ab-41bc-b369-cafe9629060d",
    "papermill": {
     "duration": 0.129822,
     "end_time": "2021-05-08T19:31:04.093766",
     "exception": false,
     "start_time": "2021-05-08T19:31:03.963944",
     "status": "completed"
    },
    "tags": []
   },
   "outputs": [
    {
     "name": "stdout",
     "output_type": "stream",
     "text": [
      "Target text: pop  \n",
      "Input array shape: (15904,)\n",
      "Sampling rate: 16000\n"
     ]
    }
   ],
   "source": [
    "rand_int = random.randint(0, len(timit[\"train\"]))\n",
    "\n",
    "print(\"Target text:\", timit[\"train\"][rand_int][\"target_text\"])\n",
    "print(\"Input array shape:\", np.asarray(timit[\"train\"][rand_int][\"speech\"]).shape)\n",
    "print(\"Sampling rate:\", timit[\"train\"][rand_int][\"sampling_rate\"])"
   ]
  },
  {
   "cell_type": "markdown",
   "id": "introductory-entity",
   "metadata": {
    "id": "k3Pbn5WvOYZF",
    "papermill": {
     "duration": 0.054956,
     "end_time": "2021-05-08T19:31:04.205014",
     "exception": false,
     "start_time": "2021-05-08T19:31:04.150058",
     "status": "completed"
    },
    "tags": []
   },
   "source": [
    "Finally, we can process the dataset to the format expected by the model for training. We will again make use of the `map(...)` function.\n"
   ]
  },
  {
   "cell_type": "code",
   "execution_count": 32,
   "id": "sharing-holocaust",
   "metadata": {
    "execution": {
     "iopub.execute_input": "2021-05-08T19:31:04.321127Z",
     "iopub.status.busy": "2021-05-08T19:31:04.320423Z",
     "iopub.status.idle": "2021-05-08T19:31:04.323319Z",
     "shell.execute_reply": "2021-05-08T19:31:04.322889Z"
    },
    "id": "eJY7I0XAwe9p",
    "papermill": {
     "duration": 0.063482,
     "end_time": "2021-05-08T19:31:04.323433",
     "exception": false,
     "start_time": "2021-05-08T19:31:04.259951",
     "status": "completed"
    },
    "tags": []
   },
   "outputs": [
    {
     "data": {
      "text/plain": "Map (num_proc=4):   0%|          | 0/751 [00:00<?, ? examples/s]",
      "application/vnd.jupyter.widget-view+json": {
       "version_major": 2,
       "version_minor": 0,
       "model_id": "c7ce749eb99a49179dbc7b29c913648a"
      }
     },
     "metadata": {},
     "output_type": "display_data"
    },
    {
     "ename": "NameError",
     "evalue": "name 'processor' is not defined",
     "output_type": "error",
     "traceback": [
      "\u001B[1;31m---------------------------------------------------------------------------\u001B[0m",
      "\u001B[1;31mRemoteTraceback\u001B[0m                           Traceback (most recent call last)",
      "\u001B[1;31mRemoteTraceback\u001B[0m: \n\"\"\"\nTraceback (most recent call last):\n  File \"C:\\Users\\Yasiru\\anaconda3\\lib\\site-packages\\multiprocess\\pool.py\", line 125, in worker\n    result = (True, func(*args, **kwds))\n  File \"C:\\Users\\Yasiru\\anaconda3\\lib\\site-packages\\datasets\\utils\\py_utils.py\", line 1349, in _write_generator_to_queue\n    for i, result in enumerate(func(**kwargs)):\n  File \"C:\\Users\\Yasiru\\anaconda3\\lib\\site-packages\\datasets\\arrow_dataset.py\", line 3329, in _map_single\n    batch = apply_function_on_filtered_inputs(\n  File \"C:\\Users\\Yasiru\\anaconda3\\lib\\site-packages\\datasets\\arrow_dataset.py\", line 3210, in apply_function_on_filtered_inputs\n    processed_inputs = function(*fn_args, *additional_args, **fn_kwargs)\n  File \"C:\\Users\\Yasiru\\AppData\\Local\\Temp\\ipykernel_14784\\2437949468.py\", line 7, in prepare_dataset\nNameError: name 'processor' is not defined\n\"\"\"",
      "\nThe above exception was the direct cause of the following exception:\n",
      "\u001B[1;31mNameError\u001B[0m                                 Traceback (most recent call last)",
      "\u001B[1;32m~\\AppData\\Local\\Temp\\ipykernel_14784\\2437949468.py\u001B[0m in \u001B[0;36m<module>\u001B[1;34m\u001B[0m\n\u001B[0;32m     11\u001B[0m     \u001B[1;32mreturn\u001B[0m \u001B[0mbatch\u001B[0m\u001B[1;33m\u001B[0m\u001B[1;33m\u001B[0m\u001B[0m\n\u001B[0;32m     12\u001B[0m \u001B[1;33m\u001B[0m\u001B[0m\n\u001B[1;32m---> 13\u001B[1;33m \u001B[0mtimit_prepared\u001B[0m \u001B[1;33m=\u001B[0m \u001B[0mtimit\u001B[0m\u001B[1;33m.\u001B[0m\u001B[0mmap\u001B[0m\u001B[1;33m(\u001B[0m\u001B[0mprepare_dataset\u001B[0m\u001B[1;33m,\u001B[0m \u001B[0mremove_columns\u001B[0m\u001B[1;33m=\u001B[0m\u001B[0mtimit\u001B[0m\u001B[1;33m.\u001B[0m\u001B[0mcolumn_names\u001B[0m\u001B[1;33m[\u001B[0m\u001B[1;34m\"train\"\u001B[0m\u001B[1;33m]\u001B[0m\u001B[1;33m,\u001B[0m \u001B[0mbatch_size\u001B[0m\u001B[1;33m=\u001B[0m\u001B[1;36m8\u001B[0m\u001B[1;33m,\u001B[0m \u001B[0mnum_proc\u001B[0m\u001B[1;33m=\u001B[0m\u001B[1;36m4\u001B[0m\u001B[1;33m,\u001B[0m \u001B[0mbatched\u001B[0m\u001B[1;33m=\u001B[0m\u001B[1;32mTrue\u001B[0m\u001B[1;33m)\u001B[0m\u001B[1;33m\u001B[0m\u001B[1;33m\u001B[0m\u001B[0m\n\u001B[0m",
      "\u001B[1;32m~\\anaconda3\\lib\\site-packages\\datasets\\dataset_dict.py\u001B[0m in \u001B[0;36mmap\u001B[1;34m(self, function, with_indices, with_rank, input_columns, batched, batch_size, drop_last_batch, remove_columns, keep_in_memory, load_from_cache_file, cache_file_names, writer_batch_size, features, disable_nullable, fn_kwargs, num_proc, desc)\u001B[0m\n\u001B[0;32m    850\u001B[0m             \u001B[0mcache_file_names\u001B[0m \u001B[1;33m=\u001B[0m \u001B[1;33m{\u001B[0m\u001B[0mk\u001B[0m\u001B[1;33m:\u001B[0m \u001B[1;32mNone\u001B[0m \u001B[1;32mfor\u001B[0m \u001B[0mk\u001B[0m \u001B[1;32min\u001B[0m \u001B[0mself\u001B[0m\u001B[1;33m}\u001B[0m\u001B[1;33m\u001B[0m\u001B[1;33m\u001B[0m\u001B[0m\n\u001B[0;32m    851\u001B[0m         return DatasetDict(\n\u001B[1;32m--> 852\u001B[1;33m             {\n\u001B[0m\u001B[0;32m    853\u001B[0m                 k: dataset.map(\n\u001B[0;32m    854\u001B[0m                     \u001B[0mfunction\u001B[0m\u001B[1;33m=\u001B[0m\u001B[0mfunction\u001B[0m\u001B[1;33m,\u001B[0m\u001B[1;33m\u001B[0m\u001B[1;33m\u001B[0m\u001B[0m\n",
      "\u001B[1;32m~\\anaconda3\\lib\\site-packages\\datasets\\dataset_dict.py\u001B[0m in \u001B[0;36m<dictcomp>\u001B[1;34m(.0)\u001B[0m\n\u001B[0;32m    851\u001B[0m         return DatasetDict(\n\u001B[0;32m    852\u001B[0m             {\n\u001B[1;32m--> 853\u001B[1;33m                 k: dataset.map(\n\u001B[0m\u001B[0;32m    854\u001B[0m                     \u001B[0mfunction\u001B[0m\u001B[1;33m=\u001B[0m\u001B[0mfunction\u001B[0m\u001B[1;33m,\u001B[0m\u001B[1;33m\u001B[0m\u001B[1;33m\u001B[0m\u001B[0m\n\u001B[0;32m    855\u001B[0m                     \u001B[0mwith_indices\u001B[0m\u001B[1;33m=\u001B[0m\u001B[0mwith_indices\u001B[0m\u001B[1;33m,\u001B[0m\u001B[1;33m\u001B[0m\u001B[1;33m\u001B[0m\u001B[0m\n",
      "\u001B[1;32m~\\anaconda3\\lib\\site-packages\\datasets\\arrow_dataset.py\u001B[0m in \u001B[0;36mwrapper\u001B[1;34m(*args, **kwargs)\u001B[0m\n\u001B[0;32m    561\u001B[0m             \u001B[0mself\u001B[0m\u001B[1;33m:\u001B[0m \u001B[1;34m\"Dataset\"\u001B[0m \u001B[1;33m=\u001B[0m \u001B[0mkwargs\u001B[0m\u001B[1;33m.\u001B[0m\u001B[0mpop\u001B[0m\u001B[1;33m(\u001B[0m\u001B[1;34m\"self\"\u001B[0m\u001B[1;33m)\u001B[0m\u001B[1;33m\u001B[0m\u001B[1;33m\u001B[0m\u001B[0m\n\u001B[0;32m    562\u001B[0m         \u001B[1;31m# apply actual function\u001B[0m\u001B[1;33m\u001B[0m\u001B[1;33m\u001B[0m\u001B[0m\n\u001B[1;32m--> 563\u001B[1;33m         \u001B[0mout\u001B[0m\u001B[1;33m:\u001B[0m \u001B[0mUnion\u001B[0m\u001B[1;33m[\u001B[0m\u001B[1;34m\"Dataset\"\u001B[0m\u001B[1;33m,\u001B[0m \u001B[1;34m\"DatasetDict\"\u001B[0m\u001B[1;33m]\u001B[0m \u001B[1;33m=\u001B[0m \u001B[0mfunc\u001B[0m\u001B[1;33m(\u001B[0m\u001B[0mself\u001B[0m\u001B[1;33m,\u001B[0m \u001B[1;33m*\u001B[0m\u001B[0margs\u001B[0m\u001B[1;33m,\u001B[0m \u001B[1;33m**\u001B[0m\u001B[0mkwargs\u001B[0m\u001B[1;33m)\u001B[0m\u001B[1;33m\u001B[0m\u001B[1;33m\u001B[0m\u001B[0m\n\u001B[0m\u001B[0;32m    564\u001B[0m         \u001B[0mdatasets\u001B[0m\u001B[1;33m:\u001B[0m \u001B[0mList\u001B[0m\u001B[1;33m[\u001B[0m\u001B[1;34m\"Dataset\"\u001B[0m\u001B[1;33m]\u001B[0m \u001B[1;33m=\u001B[0m \u001B[0mlist\u001B[0m\u001B[1;33m(\u001B[0m\u001B[0mout\u001B[0m\u001B[1;33m.\u001B[0m\u001B[0mvalues\u001B[0m\u001B[1;33m(\u001B[0m\u001B[1;33m)\u001B[0m\u001B[1;33m)\u001B[0m \u001B[1;32mif\u001B[0m \u001B[0misinstance\u001B[0m\u001B[1;33m(\u001B[0m\u001B[0mout\u001B[0m\u001B[1;33m,\u001B[0m \u001B[0mdict\u001B[0m\u001B[1;33m)\u001B[0m \u001B[1;32melse\u001B[0m \u001B[1;33m[\u001B[0m\u001B[0mout\u001B[0m\u001B[1;33m]\u001B[0m\u001B[1;33m\u001B[0m\u001B[1;33m\u001B[0m\u001B[0m\n\u001B[0;32m    565\u001B[0m         \u001B[1;32mfor\u001B[0m \u001B[0mdataset\u001B[0m \u001B[1;32min\u001B[0m \u001B[0mdatasets\u001B[0m\u001B[1;33m:\u001B[0m\u001B[1;33m\u001B[0m\u001B[1;33m\u001B[0m\u001B[0m\n",
      "\u001B[1;32m~\\anaconda3\\lib\\site-packages\\datasets\\arrow_dataset.py\u001B[0m in \u001B[0;36mwrapper\u001B[1;34m(*args, **kwargs)\u001B[0m\n\u001B[0;32m    526\u001B[0m         }\n\u001B[0;32m    527\u001B[0m         \u001B[1;31m# apply actual function\u001B[0m\u001B[1;33m\u001B[0m\u001B[1;33m\u001B[0m\u001B[0m\n\u001B[1;32m--> 528\u001B[1;33m         \u001B[0mout\u001B[0m\u001B[1;33m:\u001B[0m \u001B[0mUnion\u001B[0m\u001B[1;33m[\u001B[0m\u001B[1;34m\"Dataset\"\u001B[0m\u001B[1;33m,\u001B[0m \u001B[1;34m\"DatasetDict\"\u001B[0m\u001B[1;33m]\u001B[0m \u001B[1;33m=\u001B[0m \u001B[0mfunc\u001B[0m\u001B[1;33m(\u001B[0m\u001B[0mself\u001B[0m\u001B[1;33m,\u001B[0m \u001B[1;33m*\u001B[0m\u001B[0margs\u001B[0m\u001B[1;33m,\u001B[0m \u001B[1;33m**\u001B[0m\u001B[0mkwargs\u001B[0m\u001B[1;33m)\u001B[0m\u001B[1;33m\u001B[0m\u001B[1;33m\u001B[0m\u001B[0m\n\u001B[0m\u001B[0;32m    529\u001B[0m         \u001B[0mdatasets\u001B[0m\u001B[1;33m:\u001B[0m \u001B[0mList\u001B[0m\u001B[1;33m[\u001B[0m\u001B[1;34m\"Dataset\"\u001B[0m\u001B[1;33m]\u001B[0m \u001B[1;33m=\u001B[0m \u001B[0mlist\u001B[0m\u001B[1;33m(\u001B[0m\u001B[0mout\u001B[0m\u001B[1;33m.\u001B[0m\u001B[0mvalues\u001B[0m\u001B[1;33m(\u001B[0m\u001B[1;33m)\u001B[0m\u001B[1;33m)\u001B[0m \u001B[1;32mif\u001B[0m \u001B[0misinstance\u001B[0m\u001B[1;33m(\u001B[0m\u001B[0mout\u001B[0m\u001B[1;33m,\u001B[0m \u001B[0mdict\u001B[0m\u001B[1;33m)\u001B[0m \u001B[1;32melse\u001B[0m \u001B[1;33m[\u001B[0m\u001B[0mout\u001B[0m\u001B[1;33m]\u001B[0m\u001B[1;33m\u001B[0m\u001B[1;33m\u001B[0m\u001B[0m\n\u001B[0;32m    530\u001B[0m         \u001B[1;31m# re-apply format to the output\u001B[0m\u001B[1;33m\u001B[0m\u001B[1;33m\u001B[0m\u001B[0m\n",
      "\u001B[1;32m~\\anaconda3\\lib\\site-packages\\datasets\\arrow_dataset.py\u001B[0m in \u001B[0;36mmap\u001B[1;34m(self, function, with_indices, with_rank, input_columns, batched, batch_size, drop_last_batch, remove_columns, keep_in_memory, load_from_cache_file, cache_file_name, writer_batch_size, features, disable_nullable, fn_kwargs, num_proc, suffix_template, new_fingerprint, desc)\u001B[0m\n\u001B[0;32m   3044\u001B[0m                         \u001B[0mdesc\u001B[0m\u001B[1;33m=\u001B[0m\u001B[1;33m(\u001B[0m\u001B[0mdesc\u001B[0m \u001B[1;32mor\u001B[0m \u001B[1;34m\"Map\"\u001B[0m\u001B[1;33m)\u001B[0m \u001B[1;33m+\u001B[0m \u001B[1;34mf\" (num_proc={num_proc})\"\u001B[0m\u001B[1;33m,\u001B[0m\u001B[1;33m\u001B[0m\u001B[1;33m\u001B[0m\u001B[0m\n\u001B[0;32m   3045\u001B[0m                     ) as pbar:\n\u001B[1;32m-> 3046\u001B[1;33m                         for rank, done, content in iflatmap_unordered(\n\u001B[0m\u001B[0;32m   3047\u001B[0m                             \u001B[0mpool\u001B[0m\u001B[1;33m,\u001B[0m \u001B[0mDataset\u001B[0m\u001B[1;33m.\u001B[0m\u001B[0m_map_single\u001B[0m\u001B[1;33m,\u001B[0m \u001B[0mkwargs_iterable\u001B[0m\u001B[1;33m=\u001B[0m\u001B[0mkwargs_per_job\u001B[0m\u001B[1;33m\u001B[0m\u001B[1;33m\u001B[0m\u001B[0m\n\u001B[0;32m   3048\u001B[0m                         ):\n",
      "\u001B[1;32m~\\anaconda3\\lib\\site-packages\\datasets\\utils\\py_utils.py\u001B[0m in \u001B[0;36miflatmap_unordered\u001B[1;34m(pool, func, kwargs_iterable)\u001B[0m\n\u001B[0;32m   1371\u001B[0m                     \u001B[1;32mbreak\u001B[0m\u001B[1;33m\u001B[0m\u001B[1;33m\u001B[0m\u001B[0m\n\u001B[0;32m   1372\u001B[0m         \u001B[1;31m# we get the result in case there's an error to raise\u001B[0m\u001B[1;33m\u001B[0m\u001B[1;33m\u001B[0m\u001B[0m\n\u001B[1;32m-> 1373\u001B[1;33m         \u001B[1;33m[\u001B[0m\u001B[0masync_result\u001B[0m\u001B[1;33m.\u001B[0m\u001B[0mget\u001B[0m\u001B[1;33m(\u001B[0m\u001B[1;33m)\u001B[0m \u001B[1;32mfor\u001B[0m \u001B[0masync_result\u001B[0m \u001B[1;32min\u001B[0m \u001B[0masync_results\u001B[0m\u001B[1;33m]\u001B[0m\u001B[1;33m\u001B[0m\u001B[1;33m\u001B[0m\u001B[0m\n\u001B[0m",
      "\u001B[1;32m~\\anaconda3\\lib\\site-packages\\datasets\\utils\\py_utils.py\u001B[0m in \u001B[0;36m<listcomp>\u001B[1;34m(.0)\u001B[0m\n\u001B[0;32m   1371\u001B[0m                     \u001B[1;32mbreak\u001B[0m\u001B[1;33m\u001B[0m\u001B[1;33m\u001B[0m\u001B[0m\n\u001B[0;32m   1372\u001B[0m         \u001B[1;31m# we get the result in case there's an error to raise\u001B[0m\u001B[1;33m\u001B[0m\u001B[1;33m\u001B[0m\u001B[0m\n\u001B[1;32m-> 1373\u001B[1;33m         \u001B[1;33m[\u001B[0m\u001B[0masync_result\u001B[0m\u001B[1;33m.\u001B[0m\u001B[0mget\u001B[0m\u001B[1;33m(\u001B[0m\u001B[1;33m)\u001B[0m \u001B[1;32mfor\u001B[0m \u001B[0masync_result\u001B[0m \u001B[1;32min\u001B[0m \u001B[0masync_results\u001B[0m\u001B[1;33m]\u001B[0m\u001B[1;33m\u001B[0m\u001B[1;33m\u001B[0m\u001B[0m\n\u001B[0m",
      "\u001B[1;32m~\\anaconda3\\lib\\site-packages\\multiprocess\\pool.py\u001B[0m in \u001B[0;36mget\u001B[1;34m(self, timeout)\u001B[0m\n\u001B[0;32m    769\u001B[0m             \u001B[1;32mreturn\u001B[0m \u001B[0mself\u001B[0m\u001B[1;33m.\u001B[0m\u001B[0m_value\u001B[0m\u001B[1;33m\u001B[0m\u001B[1;33m\u001B[0m\u001B[0m\n\u001B[0;32m    770\u001B[0m         \u001B[1;32melse\u001B[0m\u001B[1;33m:\u001B[0m\u001B[1;33m\u001B[0m\u001B[1;33m\u001B[0m\u001B[0m\n\u001B[1;32m--> 771\u001B[1;33m             \u001B[1;32mraise\u001B[0m \u001B[0mself\u001B[0m\u001B[1;33m.\u001B[0m\u001B[0m_value\u001B[0m\u001B[1;33m\u001B[0m\u001B[1;33m\u001B[0m\u001B[0m\n\u001B[0m\u001B[0;32m    772\u001B[0m \u001B[1;33m\u001B[0m\u001B[0m\n\u001B[0;32m    773\u001B[0m     \u001B[1;32mdef\u001B[0m \u001B[0m_set\u001B[0m\u001B[1;33m(\u001B[0m\u001B[0mself\u001B[0m\u001B[1;33m,\u001B[0m \u001B[0mi\u001B[0m\u001B[1;33m,\u001B[0m \u001B[0mobj\u001B[0m\u001B[1;33m)\u001B[0m\u001B[1;33m:\u001B[0m\u001B[1;33m\u001B[0m\u001B[1;33m\u001B[0m\u001B[0m\n",
      "\u001B[1;31mNameError\u001B[0m: name 'processor' is not defined"
     ]
    }
   ],
   "source": [
    "\n",
    "def prepare_dataset(batch):\n",
    "    # check that all files have the correct sampling rate\n",
    "    assert (\n",
    "            len(set(batch[\"sampling_rate\"])) == 1\n",
    "    ), f\"Make sure all inputs have the same sampling rate of {processor.feature_extractor.sampling_rate}.\"\n",
    "\n",
    "    batch[\"input_values\"] = processor(batch[\"speech\"], sampling_rate=batch[\"sampling_rate\"][0]).input_values\n",
    "\n",
    "    with processor.as_target_processor():\n",
    "        batch[\"labels\"] = processor(batch[\"target_text\"]).input_ids\n",
    "    return batch\n",
    "\n",
    "timit_prepared = timit.map(prepare_dataset, remove_columns=timit.column_names[\"train\"], batch_size=8, num_proc=4, batched=True)"
   ]
  },
  {
   "cell_type": "code",
   "execution_count": 1,
   "id": "wanted-mexico",
   "metadata": {
    "execution": {
     "iopub.execute_input": "2021-05-08T19:31:04.485526Z",
     "iopub.status.busy": "2021-05-08T19:31:04.484671Z",
     "iopub.status.idle": "2021-05-08T19:34:12.113133Z",
     "shell.execute_reply": "2021-05-08T19:34:12.112644Z"
    },
    "id": "-np9xYK-wl8q",
    "outputId": "0ec9790f-989b-4894-f2d1-88af97f4e962",
    "papermill": {
     "duration": 187.734767,
     "end_time": "2021-05-08T19:34:12.113302",
     "exception": false,
     "start_time": "2021-05-08T19:31:04.378535",
     "status": "completed"
    },
    "tags": []
   },
   "outputs": [
    {
     "ename": "NameError",
     "evalue": "name 'timit' is not defined",
     "output_type": "error",
     "traceback": [
      "\u001B[1;31m---------------------------------------------------------------------------\u001B[0m",
      "\u001B[1;31mNameError\u001B[0m                                 Traceback (most recent call last)",
      "\u001B[1;32m~\\AppData\\Local\\Temp\\ipykernel_14784\\978412846.py\u001B[0m in \u001B[0;36m<module>\u001B[1;34m\u001B[0m\n\u001B[0;32m      2\u001B[0m \u001B[1;33m\u001B[0m\u001B[0m\n\u001B[0;32m      3\u001B[0m \u001B[1;31m# add an input_length column to the dataset\u001B[0m\u001B[1;33m\u001B[0m\u001B[1;33m\u001B[0m\u001B[0m\n\u001B[1;32m----> 4\u001B[1;33m \u001B[0mtimit\u001B[0m \u001B[1;33m=\u001B[0m \u001B[0mtimit\u001B[0m\u001B[1;33m.\u001B[0m\u001B[0mmap\u001B[0m\u001B[1;33m(\u001B[0m\u001B[1;32mlambda\u001B[0m \u001B[0mx\u001B[0m\u001B[1;33m:\u001B[0m \u001B[1;33m{\u001B[0m\u001B[1;34m\"input_length\"\u001B[0m\u001B[1;33m:\u001B[0m \u001B[0mlen\u001B[0m\u001B[1;33m(\u001B[0m\u001B[0mx\u001B[0m\u001B[1;33m[\u001B[0m\u001B[1;34m\"audio\"\u001B[0m\u001B[1;33m]\u001B[0m\u001B[1;33m)\u001B[0m\u001B[1;33m}\u001B[0m\u001B[1;33m,\u001B[0m \u001B[0mnum_proc\u001B[0m\u001B[1;33m=\u001B[0m\u001B[1;36m4\u001B[0m\u001B[1;33m)\u001B[0m\u001B[1;33m\u001B[0m\u001B[1;33m\u001B[0m\u001B[0m\n\u001B[0m",
      "\u001B[1;31mNameError\u001B[0m: name 'timit' is not defined"
     ]
    }
   ],
   "source": [
    "max_input_length_in_sec = 4.0\n",
    "\n",
    "# add an input_length column to the dataset\n",
    "timit = timit.map(lambda x: {\"input_length\": len(x[\"audio\"])}, num_proc=4)"
   ]
  },
  {
   "cell_type": "markdown",
   "id": "silver-airplane",
   "metadata": {
    "id": "gYlQkKVoRUos",
    "papermill": {
     "duration": 0.057308,
     "end_time": "2021-05-08T19:34:12.228887",
     "exception": false,
     "start_time": "2021-05-08T19:34:12.171579",
     "status": "completed"
    },
    "tags": []
   },
   "source": [
    "## Training & Evaluation\n",
    "\n",
    "\n",
    "- Define a data collator. In contrast to most NLP models, Wav2Vec2 has a much larger input length than output length. *E.g.*, a sample of input length 50000 has an output length of no more than 100. Given the large input sizes, it is much more efficient to pad the training batches dynamically meaning that all training samples should only be padded to the longest sample in their batch and not the overall longest sample. Therefore, fine-tuning Wav2Vec2 requires a special padding data collator, which we will define below\n",
    "\n",
    "- Evaluation metric. During training, the model should be evaluated on the word error rate. We should define a `compute_metrics` function accordingly\n",
    "\n",
    "- Load a pretrained checkpoint. We need to load a pretrained checkpoint and configure it correctly for training.\n",
    "\n",
    "- Define the training configuration.\n",
    "\n",
    "After having fine-tuned the model, we will correctly evaluate it on the test data and verify that it has indeed learned to correctly transcribe speech."
   ]
  },
  {
   "cell_type": "code",
   "execution_count": 98,
   "id": "expected-world",
   "metadata": {
    "execution": {
     "iopub.execute_input": "2021-05-08T19:34:12.355901Z",
     "iopub.status.busy": "2021-05-08T19:34:12.355177Z",
     "iopub.status.idle": "2021-05-08T19:34:12.358740Z",
     "shell.execute_reply": "2021-05-08T19:34:12.358329Z"
    },
    "id": "tborvC9hx88e",
    "papermill": {
     "duration": 0.072691,
     "end_time": "2021-05-08T19:34:12.358849",
     "exception": false,
     "start_time": "2021-05-08T19:34:12.286158",
     "status": "completed"
    },
    "tags": []
   },
   "outputs": [],
   "source": [
    "import torch\n",
    "\n",
    "from dataclasses import dataclass, field\n",
    "from typing import Any, Dict, List, Optional, Union\n",
    "\n",
    "@dataclass\n",
    "class DataCollatorCTCWithPadding:\n",
    "    \"\"\"\n",
    "    Data collator that will dynamically pad the inputs received.\n",
    "    Args:\n",
    "        processor (:class:`~transformers.Wav2Vec2Processor`)\n",
    "            The processor used for proccessing the data.\n",
    "        padding (:obj:`bool`, :obj:`str` or :class:`~transformers.tokenization_utils_base.PaddingStrategy`, `optional`, defaults to :obj:`True`):\n",
    "            Select a strategy to pad the returned sequences (according to the model's padding side and padding index)\n",
    "            among:\n",
    "            * :obj:`True` or :obj:`'longest'`: Pad to the longest sequence in the batch (or no padding if only a single\n",
    "              sequence if provided).\n",
    "            * :obj:`'max_length'`: Pad to a maximum length specified with the argument :obj:`max_length` or to the\n",
    "              maximum acceptable input length for the model if that argument is not provided.\n",
    "            * :obj:`False` or :obj:`'do_not_pad'` (default): No padding (i.e., can output a batch with sequences of\n",
    "              different lengths).\n",
    "        max_length (:obj:`int`, `optional`):\n",
    "            Maximum length of the ``input_values`` of the returned list and optionally padding length (see above).\n",
    "        max_length_labels (:obj:`int`, `optional`):\n",
    "            Maximum length of the ``labels`` returned list and optionally padding length (see above).\n",
    "        pad_to_multiple_of (:obj:`int`, `optional`):\n",
    "            If set will pad the sequence to a multiple of the provided value.\n",
    "            This is especially useful to enable the use of Tensor Cores on NVIDIA hardware with compute capability >=\n",
    "            7.5 (Volta).\n",
    "    \"\"\"\n",
    "\n",
    "    processor: Wav2Vec2Processor\n",
    "    padding: Union[bool, str] = True\n",
    "    max_length: Optional[int] = None\n",
    "    max_length_labels: Optional[int] = None\n",
    "    pad_to_multiple_of: Optional[int] = None\n",
    "    pad_to_multiple_of_labels: Optional[int] = None\n",
    "\n",
    "    def __call__(self, features: List[Dict[str, Union[List[int], torch.Tensor]]]) -> Dict[str, torch.Tensor]:\n",
    "        # split inputs and labels since they have to be of different lenghts and need\n",
    "        # different padding methods\n",
    "        input_features = [{\"input_values\": feature[\"input_values\"]} for feature in features]\n",
    "        label_features = [{\"input_ids\": feature[\"labels\"]} for feature in features]\n",
    "\n",
    "        batch = self.processor.pad(\n",
    "            input_features,\n",
    "            padding=self.padding,\n",
    "            max_length=self.max_length,\n",
    "            pad_to_multiple_of=self.pad_to_multiple_of,\n",
    "            return_tensors=\"pt\",\n",
    "        )\n",
    "        with self.processor.as_target_processor():\n",
    "            labels_batch = self.processor.pad(\n",
    "                label_features,\n",
    "                padding=self.padding,\n",
    "                max_length=self.max_length_labels,\n",
    "                pad_to_multiple_of=self.pad_to_multiple_of_labels,\n",
    "                return_tensors=\"pt\",\n",
    "            )\n",
    "\n",
    "        # replace padding with -100 to ignore loss correctly\n",
    "        labels = labels_batch[\"input_ids\"].masked_fill(labels_batch.attention_mask.ne(1), -100)\n",
    "\n",
    "        batch[\"labels\"] = labels\n",
    "\n",
    "        return batch"
   ]
  },
  {
   "cell_type": "code",
   "execution_count": 77,
   "id": "beautiful-belfast",
   "metadata": {
    "execution": {
     "iopub.execute_input": "2021-05-08T19:34:12.477256Z",
     "iopub.status.busy": "2021-05-08T19:34:12.476770Z",
     "iopub.status.idle": "2021-05-08T19:34:12.480504Z",
     "shell.execute_reply": "2021-05-08T19:34:12.480065Z"
    },
    "id": "lbQf5GuZyQ4_",
    "papermill": {
     "duration": 0.064263,
     "end_time": "2021-05-08T19:34:12.480615",
     "exception": false,
     "start_time": "2021-05-08T19:34:12.416352",
     "status": "completed"
    },
    "tags": []
   },
   "outputs": [],
   "source": [
    "data_collator = DataCollatorCTCWithPadding(processor=processor, padding=True)"
   ]
  },
  {
   "cell_type": "markdown",
   "id": "flexible-symphony",
   "metadata": {
    "id": "xO-Zdj-5cxXp",
    "papermill": {
     "duration": 0.057337,
     "end_time": "2021-05-08T19:34:12.596176",
     "exception": false,
     "start_time": "2021-05-08T19:34:12.538839",
     "status": "completed"
    },
    "tags": []
   },
   "source": [
    "Next, the evaluation metric is defined. As mentioned earlier, the \n",
    "predominant metric in ASR is the word error rate (WER)"
   ]
  },
  {
   "cell_type": "code",
   "execution_count": 78,
   "id": "mexican-forum",
   "metadata": {
    "execution": {
     "iopub.execute_input": "2021-05-08T19:34:12.716610Z",
     "iopub.status.busy": "2021-05-08T19:34:12.715787Z",
     "iopub.status.idle": "2021-05-08T19:34:13.510378Z",
     "shell.execute_reply": "2021-05-08T19:34:13.509670Z"
    },
    "id": "9Xsux2gmyXso",
    "papermill": {
     "duration": 0.856497,
     "end_time": "2021-05-08T19:34:13.510507",
     "exception": false,
     "start_time": "2021-05-08T19:34:12.654010",
     "status": "completed"
    },
    "tags": []
   },
   "outputs": [],
   "source": [
    "from datasets import load_metric\n",
    "\n",
    "wer_metric = load_metric(\"wer\")"
   ]
  },
  {
   "cell_type": "markdown",
   "id": "classical-citizen",
   "metadata": {
    "id": "E1qZU5p-deqB",
    "papermill": {
     "duration": 0.058237,
     "end_time": "2021-05-08T19:34:13.629959",
     "exception": false,
     "start_time": "2021-05-08T19:34:13.571722",
     "status": "completed"
    },
    "tags": []
   },
   "source": []
  },
  {
   "cell_type": "code",
   "execution_count": 79,
   "id": "subsequent-folder",
   "metadata": {
    "execution": {
     "iopub.execute_input": "2021-05-08T19:34:13.755335Z",
     "iopub.status.busy": "2021-05-08T19:34:13.753569Z",
     "iopub.status.idle": "2021-05-08T19:34:13.756015Z",
     "shell.execute_reply": "2021-05-08T19:34:13.756430Z"
    },
    "id": "1XZ-kjweyTy_",
    "papermill": {
     "duration": 0.067651,
     "end_time": "2021-05-08T19:34:13.756564",
     "exception": false,
     "start_time": "2021-05-08T19:34:13.688913",
     "status": "completed"
    },
    "tags": []
   },
   "outputs": [],
   "source": [
    "def compute_metrics(pred):\n",
    "    pred_logits = pred.predictions\n",
    "    pred_ids = np.argmax(pred_logits, axis=-1)\n",
    "\n",
    "    pred.label_ids[pred.label_ids == -100] = processor.tokenizer.pad_token_id\n",
    "\n",
    "    pred_str = processor.batch_decode(pred_ids)\n",
    "    # we do not want to group tokens when computing the metrics\n",
    "    label_str = processor.batch_decode(pred.label_ids, group_tokens=False)\n",
    "\n",
    "    wer = wer_metric.compute(predictions=pred_str, references=label_str)\n",
    "\n",
    "    return {\"wer\": wer}"
   ]
  },
  {
   "cell_type": "markdown",
   "id": "statutory-treasure",
   "metadata": {
    "id": "Xmgrx4bRwLIH",
    "papermill": {
     "duration": 0.058333,
     "end_time": "2021-05-08T19:34:13.873487",
     "exception": false,
     "start_time": "2021-05-08T19:34:13.815154",
     "status": "completed"
    },
    "tags": []
   },
   "source": [
    "Now, we can load the pretrained `Wav2Vec2` checkpoint."
   ]
  },
  {
   "cell_type": "code",
   "execution_count": 39,
   "id": "dressed-treatment",
   "metadata": {
    "execution": {
     "iopub.execute_input": "2021-05-08T19:34:13.996606Z",
     "iopub.status.busy": "2021-05-08T19:34:13.996015Z",
     "iopub.status.idle": "2021-05-08T19:34:27.611982Z",
     "shell.execute_reply": "2021-05-08T19:34:27.611011Z"
    },
    "id": "e7cqAWIayn6w",
    "outputId": "058979ad-ca6b-483c-9c71-b14584099f70",
    "papermill": {
     "duration": 13.678802,
     "end_time": "2021-05-08T19:34:27.612156",
     "exception": false,
     "start_time": "2021-05-08T19:34:13.933354",
     "status": "completed"
    },
    "tags": []
   },
   "outputs": [
    {
     "name": "stderr",
     "output_type": "stream",
     "text": [
      "Some weights of the model checkpoint at facebook/wav2vec2-base were not used when initializing Wav2Vec2ForCTC: ['quantizer.weight_proj.bias', 'quantizer.codevectors', 'project_hid.bias', 'project_hid.weight', 'project_q.weight', 'quantizer.weight_proj.weight', 'project_q.bias']\n",
      "- This IS expected if you are initializing Wav2Vec2ForCTC from the checkpoint of a model trained on another task or with another architecture (e.g. initializing a BertForSequenceClassification model from a BertForPreTraining model).\n",
      "- This IS NOT expected if you are initializing Wav2Vec2ForCTC from the checkpoint of a model that you expect to be exactly identical (initializing a BertForSequenceClassification model from a BertForSequenceClassification model).\n",
      "Some weights of Wav2Vec2ForCTC were not initialized from the model checkpoint at facebook/wav2vec2-base and are newly initialized: ['lm_head.bias', 'lm_head.weight']\n",
      "You should probably TRAIN this model on a down-stream task to be able to use it for predictions and inference.\n"
     ]
    }
   ],
   "source": [
    "from transformers import Wav2Vec2ForCTC\n",
    "\n",
    "model = Wav2Vec2ForCTC.from_pretrained(\n",
    "    \"facebook/wav2vec2-base\",\n",
    "    ctc_loss_reduction=\"mean\",\n",
    "    pad_token_id=processor.tokenizer.pad_token_id,\n",
    ")"
   ]
  },
  {
   "cell_type": "markdown",
   "id": "younger-cleaners",
   "metadata": {
    "id": "1DwR3XLSzGDD",
    "papermill": {
     "duration": 0.104029,
     "end_time": "2021-05-08T19:34:27.779205",
     "exception": false,
     "start_time": "2021-05-08T19:34:27.675176",
     "status": "completed"
    },
    "tags": []
   },
   "source": [
    "\n",
    "Thus, we can set the `requires_grad` to `False` for all parameters of the *feature extraction* part."
   ]
  },
  {
   "cell_type": "code",
   "execution_count": 81,
   "id": "competitive-revelation",
   "metadata": {
    "execution": {
     "iopub.execute_input": "2021-05-08T19:34:28.471999Z",
     "iopub.status.busy": "2021-05-08T19:34:28.470344Z",
     "iopub.status.idle": "2021-05-08T19:34:28.551145Z",
     "shell.execute_reply": "2021-05-08T19:34:28.551913Z"
    },
    "id": "oGI8zObtZ3V0",
    "papermill": {
     "duration": 0.672527,
     "end_time": "2021-05-08T19:34:28.552151",
     "exception": false,
     "start_time": "2021-05-08T19:34:27.879624",
     "status": "completed"
    },
    "tags": []
   },
   "outputs": [
    {
     "name": "stderr",
     "output_type": "stream",
     "text": [
      "C:\\Users\\Yasiru\\anaconda3\\lib\\site-packages\\transformers\\models\\wav2vec2\\modeling_wav2vec2.py:1639: FutureWarning: The method `freeze_feature_extractor` is deprecated and will be removed in Transformers v5.Please use the equivalent `freeze_feature_encoder` method instead.\n",
      "  warnings.warn(\n"
     ]
    }
   ],
   "source": [
    "model.freeze_feature_extractor()"
   ]
  },
  {
   "cell_type": "markdown",
   "id": "thirty-allen",
   "metadata": {
    "id": "lD4aGhQM0K-D",
    "papermill": {
     "duration": 0.124347,
     "end_time": "2021-05-08T19:34:28.787944",
     "exception": false,
     "start_time": "2021-05-08T19:34:28.663597",
     "status": "completed"
    },
    "tags": []
   },
   "source": [
    "In a final step, we define all parameters related to training. \n",
    "To give more explanation on some of the parameters:\n",
    "- `group_by_length` makes training more efficient by grouping training samples of similar input length into one batch. This can significantly speed up training time by heavily reducing the overall number of useless padding tokens that are passed through the model\n",
    "- `learning_rate` and `weight_decay` were heuristically tuned until fine-tuning has become stable. Note that those parameters strongly depend on the Timit dataset and might be suboptimal for other speech datasets.\n",
    "\n",
    "For more explanations on other parameters, one can take a look at the [docs](https://huggingface.co/transformers/master/main_classes/trainer.html?highlight=trainer#trainingarguments).\n",
    "\n",
    "**Note**: If one wants to save the trained models in his/her google drive the commented-out `output_dir` can be used instead."
   ]
  },
  {
   "cell_type": "code",
   "execution_count": 43,
   "id": "03fa5faf",
   "metadata": {},
   "outputs": [
    {
     "name": "stdout",
     "output_type": "stream",
     "text": [
      "Requirement already satisfied: torchvision in c:\\users\\yasiru\\anaconda3\\lib\\site-packages (0.14.1)\n",
      "Requirement already satisfied: typing_extensions in c:\\users\\yasiru\\anaconda3\\lib\\site-packages (from torchvision) (4.4.0)\n",
      "Requirement already satisfied: numpy in c:\\users\\yasiru\\anaconda3\\lib\\site-packages (from torchvision) (1.23.5)\n",
      "Requirement already satisfied: requests in c:\\users\\yasiru\\anaconda3\\lib\\site-packages (from torchvision) (2.28.1)\n",
      "Requirement already satisfied: torch==1.13.1 in c:\\users\\yasiru\\anaconda3\\lib\\site-packages (from torchvision) (1.13.1)\n",
      "Requirement already satisfied: pillow!=8.3.*,>=5.3.0 in c:\\users\\yasiru\\anaconda3\\lib\\site-packages (from torchvision) (9.4.0)\n",
      "Requirement already satisfied: idna<4,>=2.5 in c:\\users\\yasiru\\anaconda3\\lib\\site-packages (from requests->torchvision) (3.4)\n",
      "Requirement already satisfied: certifi>=2017.4.17 in c:\\users\\yasiru\\anaconda3\\lib\\site-packages (from requests->torchvision) (2022.12.7)\n",
      "Requirement already satisfied: charset-normalizer<3,>=2 in c:\\users\\yasiru\\anaconda3\\lib\\site-packages (from requests->torchvision) (2.0.4)\n",
      "Requirement already satisfied: urllib3<1.27,>=1.21.1 in c:\\users\\yasiru\\anaconda3\\lib\\site-packages (from requests->torchvision) (1.26.14)\n"
     ]
    }
   ],
   "source": [
    "\n",
    "!pip install torchvision\n"
   ]
  },
  {
   "cell_type": "code",
   "execution_count": 9,
   "outputs": [
    {
     "name": "stdout",
     "output_type": "stream",
     "text": [
      "Collecting package metadata (repodata.json): ...working... done\n",
      "Note: you may need to restart the kernel to use updated packages.\n"
     ]
    },
    {
     "name": "stderr",
     "output_type": "stream",
     "text": [
      "\n",
      "PackagesNotFoundError: The following packages are missing from the target environment:\n",
      "  - cpuonly\n",
      "\n",
      "\n"
     ]
    },
    {
     "name": "stdout",
     "output_type": "stream",
     "text": [
      "\n",
      "Solving environment: ...working... failed\n"
     ]
    }
   ],
   "source": [],
   "metadata": {
    "collapsed": false
   }
  },
  {
   "cell_type": "code",
   "execution_count": 44,
   "outputs": [
    {
     "name": "stdout",
     "output_type": "stream",
     "text": [
      "Requirement already satisfied: torch in c:\\users\\yasiru\\anaconda3\\lib\\site-packages (1.13.1)\n",
      "Requirement already satisfied: typing_extensions in c:\\users\\yasiru\\anaconda3\\lib\\site-packages (from torch) (4.4.0)\n"
     ]
    }
   ],
   "source": [
    "!pip install torch\n"
   ],
   "metadata": {
    "collapsed": false
   }
  },
  {
   "cell_type": "code",
   "execution_count": 82,
   "id": "c95ac693",
   "metadata": {},
   "outputs": [
    {
     "name": "stdout",
     "output_type": "stream",
     "text": [
      "11.6\n",
      "8302\n"
     ]
    }
   ],
   "source": [
    "import torch\n",
    "\n",
    "if torch.cuda.is_available():\n",
    "    print(torch.version.cuda)  # print CUDA version\n",
    "    print(torch.backends.cudnn.version())  # print cuDNN version\n",
    "else:\n",
    "    print(\"No GPU available\")"
   ]
  },
  {
   "cell_type": "code",
   "execution_count": 58,
   "outputs": [
    {
     "name": "stdout",
     "output_type": "stream",
     "text": [
      "Requirement already satisfied: transformers in c:\\users\\yasiru\\anaconda3\\lib\\site-packages (4.26.1)\n",
      "Requirement already satisfied: regex!=2019.12.17 in c:\\users\\yasiru\\anaconda3\\lib\\site-packages (from transformers) (2022.7.9)\n",
      "Requirement already satisfied: numpy>=1.17 in c:\\users\\yasiru\\anaconda3\\lib\\site-packages (from transformers) (1.23.5)\n",
      "Requirement already satisfied: filelock in c:\\users\\yasiru\\anaconda3\\lib\\site-packages (from transformers) (3.9.0)\n",
      "Requirement already satisfied: tqdm>=4.27 in c:\\users\\yasiru\\anaconda3\\lib\\site-packages (from transformers) (4.64.1)\n",
      "Requirement already satisfied: pyyaml>=5.1 in c:\\users\\yasiru\\anaconda3\\lib\\site-packages (from transformers) (6.0)\n",
      "Requirement already satisfied: packaging>=20.0 in c:\\users\\yasiru\\anaconda3\\lib\\site-packages (from transformers) (22.0)\n",
      "Requirement already satisfied: huggingface-hub<1.0,>=0.11.0 in c:\\users\\yasiru\\anaconda3\\lib\\site-packages (from transformers) (0.13.2)\n",
      "Requirement already satisfied: requests in c:\\users\\yasiru\\anaconda3\\lib\\site-packages (from transformers) (2.28.1)\n",
      "Requirement already satisfied: tokenizers!=0.11.3,<0.14,>=0.11.1 in c:\\users\\yasiru\\anaconda3\\lib\\site-packages (from transformers) (0.13.2)\n",
      "Requirement already satisfied: typing-extensions>=3.7.4.3 in c:\\users\\yasiru\\anaconda3\\lib\\site-packages (from huggingface-hub<1.0,>=0.11.0->transformers) (4.4.0)\n",
      "Requirement already satisfied: colorama in c:\\users\\yasiru\\anaconda3\\lib\\site-packages (from tqdm>=4.27->transformers) (0.4.6)\n",
      "Requirement already satisfied: urllib3<1.27,>=1.21.1 in c:\\users\\yasiru\\anaconda3\\lib\\site-packages (from requests->transformers) (1.26.14)\n",
      "Requirement already satisfied: charset-normalizer<3,>=2 in c:\\users\\yasiru\\anaconda3\\lib\\site-packages (from requests->transformers) (2.0.4)\n",
      "Requirement already satisfied: certifi>=2017.4.17 in c:\\users\\yasiru\\anaconda3\\lib\\site-packages (from requests->transformers) (2022.12.7)\n",
      "Requirement already satisfied: idna<4,>=2.5 in c:\\users\\yasiru\\anaconda3\\lib\\site-packages (from requests->transformers) (3.4)\n"
     ]
    }
   ],
   "source": [
    "!pip install --upgrade transformers"
   ],
   "metadata": {
    "collapsed": false
   }
  },
  {
   "cell_type": "code",
   "execution_count": 37,
   "outputs": [],
   "source": [
    "import torch\n",
    "torch.cuda.empty_cache()"
   ],
   "metadata": {
    "collapsed": false
   }
  },
  {
   "cell_type": "code",
   "execution_count": 90,
   "id": "clean-verification",
   "metadata": {
    "execution": {
     "iopub.execute_input": "2021-05-08T19:34:29.274088Z",
     "iopub.status.busy": "2021-05-08T19:34:29.273257Z",
     "iopub.status.idle": "2021-05-08T19:34:29.685317Z",
     "shell.execute_reply": "2021-05-08T19:34:29.684257Z"
    },
    "id": "KbeKSV7uzGPP",
    "papermill": {
     "duration": 0.74315,
     "end_time": "2021-05-08T19:34:29.685453",
     "exception": false,
     "start_time": "2021-05-08T19:34:28.942303",
     "status": "completed"
    },
    "tags": []
   },
   "outputs": [
    {
     "name": "stderr",
     "output_type": "stream",
     "text": [
      "PyTorch: setting up devices\n",
      "The default value for the training argument `--report_to` will change in v5 (from all installed integrations to none). In v5, you will need to use `--report_to all` to get the same behavior as now. You should start updating your code and make this info disappear :-).\n"
     ]
    }
   ],
   "source": [
    "from transformers import TrainingArguments, Trainer\n",
    "\n",
    "training_args = TrainingArguments(\n",
    "    output_dir=\"./wav2vec2-base-mine/\",\n",
    "    group_by_length=True,\n",
    "    per_device_train_batch_size=8,\n",
    "    evaluation_strategy=\"steps\",\n",
    "    num_train_epochs=2,\n",
    "    fp16=True,\n",
    "    save_steps=250,\n",
    "    eval_steps=500,\n",
    "    logging_steps=100,\n",
    "    learning_rate=1e-4,\n",
    "    weight_decay=0.005,\n",
    "    warmup_steps=100,\n",
    "    save_total_limit=2,\n",
    "\n",
    ")\n",
    "\n"
   ]
  },
  {
   "cell_type": "markdown",
   "id": "hairy-issue",
   "metadata": {
    "id": "OsW-WZcL1ZtN",
    "papermill": {
     "duration": 0.061466,
     "end_time": "2021-05-08T19:34:29.807903",
     "exception": false,
     "start_time": "2021-05-08T19:34:29.746437",
     "status": "completed"
    },
    "tags": []
   },
   "source": [
    "Now, all instances can be passed to Trainer and we are ready to start training!"
   ]
  },
  {
   "cell_type": "code",
   "execution_count": 91,
   "id": "awful-supply",
   "metadata": {
    "execution": {
     "iopub.execute_input": "2021-05-08T19:34:29.934666Z",
     "iopub.status.busy": "2021-05-08T19:34:29.933959Z",
     "iopub.status.idle": "2021-05-08T19:34:37.664403Z",
     "shell.execute_reply": "2021-05-08T19:34:37.662932Z"
    },
    "id": "rY7vBmFCPFgC",
    "papermill": {
     "duration": 7.795734,
     "end_time": "2021-05-08T19:34:37.664543",
     "exception": false,
     "start_time": "2021-05-08T19:34:29.868809",
     "status": "completed"
    },
    "tags": []
   },
   "outputs": [
    {
     "name": "stderr",
     "output_type": "stream",
     "text": [
      "Using cuda_amp half precision backend\n"
     ]
    }
   ],
   "source": [
    "from transformers import Trainer\n",
    "\n",
    "trainer = Trainer(\n",
    "    model=model,\n",
    "    data_collator=data_collator,\n",
    "    args=training_args,\n",
    "    compute_metrics=compute_metrics,\n",
    "    train_dataset=timit_prepared[\"train\"],\n",
    "    eval_dataset=timit_prepared[\"test\"],\n",
    "    tokenizer=processor.feature_extractor,\n",
    ")"
   ]
  },
  {
   "cell_type": "markdown",
   "id": "particular-geneva",
   "metadata": {
    "id": "UoXBx1JAA0DX",
    "papermill": {
     "duration": 0.066117,
     "end_time": "2021-05-08T19:34:37.807831",
     "exception": false,
     "start_time": "2021-05-08T19:34:37.741714",
     "status": "completed"
    },
    "tags": []
   },
   "source": [
    "\n",
    "\n",
    "---\n",
    "\n",
    "${}^1$ To allow models to become independent of the speaker rate, in CTC, consecutive tokens that are identical are simply grouped as a single token. However, the encoded labels\n"
   ]
  },
  {
   "cell_type": "markdown",
   "id": "friendly-carolina",
   "metadata": {
    "id": "rpvZHM1xReIW",
    "papermill": {
     "duration": 0.060857,
     "end_time": "2021-05-08T19:34:37.930921",
     "exception": false,
     "start_time": "2021-05-08T19:34:37.870064",
     "status": "completed"
    },
    "tags": []
   },
   "source": [
    "### Training"
   ]
  },
  {
   "cell_type": "markdown",
   "id": "lyric-morgan",
   "metadata": {
    "id": "j-3oKSzZ1hGq",
    "papermill": {
     "duration": 0.060757,
     "end_time": "2021-05-08T19:34:38.053084",
     "exception": false,
     "start_time": "2021-05-08T19:34:37.992327",
     "status": "completed"
    },
    "tags": []
   },
   "source": [
    "\n"
   ]
  },
  {
   "cell_type": "code",
   "execution_count": 92,
   "id": "cloudy-curve",
   "metadata": {
    "execution": {
     "iopub.execute_input": "2021-05-08T19:34:38.646205Z",
     "iopub.status.busy": "2021-05-08T19:34:38.337674Z",
     "iopub.status.idle": "2021-05-08T19:49:22.651663Z",
     "shell.execute_reply": "2021-05-08T19:49:22.651191Z"
    },
    "id": "_UEjJqGsQw24",
    "outputId": "adc5a597-7f5a-403d-b061-f8701a237f48",
    "papermill": {
     "duration": 884.537172,
     "end_time": "2021-05-08T19:49:22.651802",
     "exception": false,
     "start_time": "2021-05-08T19:34:38.114630",
     "status": "completed"
    },
    "tags": []
   },
   "outputs": [
    {
     "name": "stderr",
     "output_type": "stream",
     "text": [
      "C:\\Users\\Yasiru\\anaconda3\\lib\\site-packages\\transformers\\optimization.py:306: FutureWarning: This implementation of AdamW is deprecated and will be removed in a future version. Use the PyTorch implementation torch.optim.AdamW instead, or set `no_deprecation_warning=True` to disable this warning\n",
      "  warnings.warn(\n",
      "***** Running training *****\n",
      "  Num examples = 751\n",
      "  Num Epochs = 2\n",
      "  Instantaneous batch size per device = 8\n",
      "  Total train batch size (w. parallel, distributed & accumulation) = 8\n",
      "  Gradient Accumulation steps = 1\n",
      "  Total optimization steps = 188\n",
      "  Number of trainable parameters = 90195872\n",
      "C:\\Users\\Yasiru\\anaconda3\\lib\\site-packages\\transformers\\models\\wav2vec2\\processing_wav2vec2.py:155: UserWarning: `as_target_processor` is deprecated and will be removed in v5 of Transformers. You can process your labels by using the argument `text` of the regular `__call__` method (either in the same call as your audio inputs, or in a separate call.\n",
      "  warnings.warn(\n"
     ]
    },
    {
     "data": {
      "text/plain": "<IPython.core.display.HTML object>",
      "text/html": "\n    <div>\n      \n      <progress value='2' max='188' style='width:300px; height:20px; vertical-align: middle;'></progress>\n      [  2/188 : < :, Epoch 0.01/2]\n    </div>\n    <table border=\"1\" class=\"dataframe\">\n  <thead>\n <tr style=\"text-align: left;\">\n      <th>Step</th>\n      <th>Training Loss</th>\n      <th>Validation Loss</th>\n    </tr>\n  </thead>\n  <tbody>\n  </tbody>\n</table><p>"
     },
     "metadata": {},
     "output_type": "display_data"
    },
    {
     "ename": "ValueError",
     "evalue": "`mask_length` has to be smaller than `sequence_length`, but got `mask_length`: 10 and `sequence_length`: 4`",
     "output_type": "error",
     "traceback": [
      "\u001B[1;31m---------------------------------------------------------------------------\u001B[0m",
      "\u001B[1;31mValueError\u001B[0m                                Traceback (most recent call last)",
      "\u001B[1;32m~\\AppData\\Local\\Temp\\ipykernel_9804\\3352579090.py\u001B[0m in \u001B[0;36m<module>\u001B[1;34m\u001B[0m\n\u001B[1;32m----> 1\u001B[1;33m \u001B[0mtrainer\u001B[0m\u001B[1;33m.\u001B[0m\u001B[0mtrain\u001B[0m\u001B[1;33m(\u001B[0m\u001B[1;33m)\u001B[0m\u001B[1;33m\u001B[0m\u001B[1;33m\u001B[0m\u001B[0m\n\u001B[0m\u001B[0;32m      2\u001B[0m \u001B[1;33m\u001B[0m\u001B[0m\n",
      "\u001B[1;32m~\\anaconda3\\lib\\site-packages\\transformers\\trainer.py\u001B[0m in \u001B[0;36mtrain\u001B[1;34m(self, resume_from_checkpoint, trial, ignore_keys_for_eval, **kwargs)\u001B[0m\n\u001B[0;32m   1541\u001B[0m             \u001B[0mself\u001B[0m\u001B[1;33m.\u001B[0m\u001B[0m_inner_training_loop\u001B[0m\u001B[1;33m,\u001B[0m \u001B[0mself\u001B[0m\u001B[1;33m.\u001B[0m\u001B[0m_train_batch_size\u001B[0m\u001B[1;33m,\u001B[0m \u001B[0margs\u001B[0m\u001B[1;33m.\u001B[0m\u001B[0mauto_find_batch_size\u001B[0m\u001B[1;33m\u001B[0m\u001B[1;33m\u001B[0m\u001B[0m\n\u001B[0;32m   1542\u001B[0m         )\n\u001B[1;32m-> 1543\u001B[1;33m         return inner_training_loop(\n\u001B[0m\u001B[0;32m   1544\u001B[0m             \u001B[0margs\u001B[0m\u001B[1;33m=\u001B[0m\u001B[0margs\u001B[0m\u001B[1;33m,\u001B[0m\u001B[1;33m\u001B[0m\u001B[1;33m\u001B[0m\u001B[0m\n\u001B[0;32m   1545\u001B[0m             \u001B[0mresume_from_checkpoint\u001B[0m\u001B[1;33m=\u001B[0m\u001B[0mresume_from_checkpoint\u001B[0m\u001B[1;33m,\u001B[0m\u001B[1;33m\u001B[0m\u001B[1;33m\u001B[0m\u001B[0m\n",
      "\u001B[1;32m~\\anaconda3\\lib\\site-packages\\transformers\\trainer.py\u001B[0m in \u001B[0;36m_inner_training_loop\u001B[1;34m(self, batch_size, args, resume_from_checkpoint, trial, ignore_keys_for_eval)\u001B[0m\n\u001B[0;32m   1789\u001B[0m                         \u001B[0mtr_loss_step\u001B[0m \u001B[1;33m=\u001B[0m \u001B[0mself\u001B[0m\u001B[1;33m.\u001B[0m\u001B[0mtraining_step\u001B[0m\u001B[1;33m(\u001B[0m\u001B[0mmodel\u001B[0m\u001B[1;33m,\u001B[0m \u001B[0minputs\u001B[0m\u001B[1;33m)\u001B[0m\u001B[1;33m\u001B[0m\u001B[1;33m\u001B[0m\u001B[0m\n\u001B[0;32m   1790\u001B[0m                 \u001B[1;32melse\u001B[0m\u001B[1;33m:\u001B[0m\u001B[1;33m\u001B[0m\u001B[1;33m\u001B[0m\u001B[0m\n\u001B[1;32m-> 1791\u001B[1;33m                     \u001B[0mtr_loss_step\u001B[0m \u001B[1;33m=\u001B[0m \u001B[0mself\u001B[0m\u001B[1;33m.\u001B[0m\u001B[0mtraining_step\u001B[0m\u001B[1;33m(\u001B[0m\u001B[0mmodel\u001B[0m\u001B[1;33m,\u001B[0m \u001B[0minputs\u001B[0m\u001B[1;33m)\u001B[0m\u001B[1;33m\u001B[0m\u001B[1;33m\u001B[0m\u001B[0m\n\u001B[0m\u001B[0;32m   1792\u001B[0m \u001B[1;33m\u001B[0m\u001B[0m\n\u001B[0;32m   1793\u001B[0m                 if (\n",
      "\u001B[1;32m~\\anaconda3\\lib\\site-packages\\transformers\\trainer.py\u001B[0m in \u001B[0;36mtraining_step\u001B[1;34m(self, model, inputs)\u001B[0m\n\u001B[0;32m   2537\u001B[0m \u001B[1;33m\u001B[0m\u001B[0m\n\u001B[0;32m   2538\u001B[0m         \u001B[1;32mwith\u001B[0m \u001B[0mself\u001B[0m\u001B[1;33m.\u001B[0m\u001B[0mcompute_loss_context_manager\u001B[0m\u001B[1;33m(\u001B[0m\u001B[1;33m)\u001B[0m\u001B[1;33m:\u001B[0m\u001B[1;33m\u001B[0m\u001B[1;33m\u001B[0m\u001B[0m\n\u001B[1;32m-> 2539\u001B[1;33m             \u001B[0mloss\u001B[0m \u001B[1;33m=\u001B[0m \u001B[0mself\u001B[0m\u001B[1;33m.\u001B[0m\u001B[0mcompute_loss\u001B[0m\u001B[1;33m(\u001B[0m\u001B[0mmodel\u001B[0m\u001B[1;33m,\u001B[0m \u001B[0minputs\u001B[0m\u001B[1;33m)\u001B[0m\u001B[1;33m\u001B[0m\u001B[1;33m\u001B[0m\u001B[0m\n\u001B[0m\u001B[0;32m   2540\u001B[0m \u001B[1;33m\u001B[0m\u001B[0m\n\u001B[0;32m   2541\u001B[0m         \u001B[1;32mif\u001B[0m \u001B[0mself\u001B[0m\u001B[1;33m.\u001B[0m\u001B[0margs\u001B[0m\u001B[1;33m.\u001B[0m\u001B[0mn_gpu\u001B[0m \u001B[1;33m>\u001B[0m \u001B[1;36m1\u001B[0m\u001B[1;33m:\u001B[0m\u001B[1;33m\u001B[0m\u001B[1;33m\u001B[0m\u001B[0m\n",
      "\u001B[1;32m~\\anaconda3\\lib\\site-packages\\transformers\\trainer.py\u001B[0m in \u001B[0;36mcompute_loss\u001B[1;34m(self, model, inputs, return_outputs)\u001B[0m\n\u001B[0;32m   2569\u001B[0m         \u001B[1;32melse\u001B[0m\u001B[1;33m:\u001B[0m\u001B[1;33m\u001B[0m\u001B[1;33m\u001B[0m\u001B[0m\n\u001B[0;32m   2570\u001B[0m             \u001B[0mlabels\u001B[0m \u001B[1;33m=\u001B[0m \u001B[1;32mNone\u001B[0m\u001B[1;33m\u001B[0m\u001B[1;33m\u001B[0m\u001B[0m\n\u001B[1;32m-> 2571\u001B[1;33m         \u001B[0moutputs\u001B[0m \u001B[1;33m=\u001B[0m \u001B[0mmodel\u001B[0m\u001B[1;33m(\u001B[0m\u001B[1;33m**\u001B[0m\u001B[0minputs\u001B[0m\u001B[1;33m)\u001B[0m\u001B[1;33m\u001B[0m\u001B[1;33m\u001B[0m\u001B[0m\n\u001B[0m\u001B[0;32m   2572\u001B[0m         \u001B[1;31m# Save past state if it exists\u001B[0m\u001B[1;33m\u001B[0m\u001B[1;33m\u001B[0m\u001B[0m\n\u001B[0;32m   2573\u001B[0m         \u001B[1;31m# TODO: this needs to be fixed and made cleaner later.\u001B[0m\u001B[1;33m\u001B[0m\u001B[1;33m\u001B[0m\u001B[0m\n",
      "\u001B[1;32m~\\anaconda3\\lib\\site-packages\\torch\\nn\\modules\\module.py\u001B[0m in \u001B[0;36m_call_impl\u001B[1;34m(self, *input, **kwargs)\u001B[0m\n\u001B[0;32m   1192\u001B[0m         if not (self._backward_hooks or self._forward_hooks or self._forward_pre_hooks or _global_backward_hooks\n\u001B[0;32m   1193\u001B[0m                 or _global_forward_hooks or _global_forward_pre_hooks):\n\u001B[1;32m-> 1194\u001B[1;33m             \u001B[1;32mreturn\u001B[0m \u001B[0mforward_call\u001B[0m\u001B[1;33m(\u001B[0m\u001B[1;33m*\u001B[0m\u001B[0minput\u001B[0m\u001B[1;33m,\u001B[0m \u001B[1;33m**\u001B[0m\u001B[0mkwargs\u001B[0m\u001B[1;33m)\u001B[0m\u001B[1;33m\u001B[0m\u001B[1;33m\u001B[0m\u001B[0m\n\u001B[0m\u001B[0;32m   1195\u001B[0m         \u001B[1;31m# Do not call functions when jit is used\u001B[0m\u001B[1;33m\u001B[0m\u001B[1;33m\u001B[0m\u001B[0m\n\u001B[0;32m   1196\u001B[0m         \u001B[0mfull_backward_hooks\u001B[0m\u001B[1;33m,\u001B[0m \u001B[0mnon_full_backward_hooks\u001B[0m \u001B[1;33m=\u001B[0m \u001B[1;33m[\u001B[0m\u001B[1;33m]\u001B[0m\u001B[1;33m,\u001B[0m \u001B[1;33m[\u001B[0m\u001B[1;33m]\u001B[0m\u001B[1;33m\u001B[0m\u001B[1;33m\u001B[0m\u001B[0m\n",
      "\u001B[1;32m~\\anaconda3\\lib\\site-packages\\transformers\\models\\wav2vec2\\modeling_wav2vec2.py\u001B[0m in \u001B[0;36mforward\u001B[1;34m(self, input_values, attention_mask, output_attentions, output_hidden_states, return_dict, labels)\u001B[0m\n\u001B[0;32m   1678\u001B[0m         \u001B[0mreturn_dict\u001B[0m \u001B[1;33m=\u001B[0m \u001B[0mreturn_dict\u001B[0m \u001B[1;32mif\u001B[0m \u001B[0mreturn_dict\u001B[0m \u001B[1;32mis\u001B[0m \u001B[1;32mnot\u001B[0m \u001B[1;32mNone\u001B[0m \u001B[1;32melse\u001B[0m \u001B[0mself\u001B[0m\u001B[1;33m.\u001B[0m\u001B[0mconfig\u001B[0m\u001B[1;33m.\u001B[0m\u001B[0muse_return_dict\u001B[0m\u001B[1;33m\u001B[0m\u001B[1;33m\u001B[0m\u001B[0m\n\u001B[0;32m   1679\u001B[0m \u001B[1;33m\u001B[0m\u001B[0m\n\u001B[1;32m-> 1680\u001B[1;33m         outputs = self.wav2vec2(\n\u001B[0m\u001B[0;32m   1681\u001B[0m             \u001B[0minput_values\u001B[0m\u001B[1;33m,\u001B[0m\u001B[1;33m\u001B[0m\u001B[1;33m\u001B[0m\u001B[0m\n\u001B[0;32m   1682\u001B[0m             \u001B[0mattention_mask\u001B[0m\u001B[1;33m=\u001B[0m\u001B[0mattention_mask\u001B[0m\u001B[1;33m,\u001B[0m\u001B[1;33m\u001B[0m\u001B[1;33m\u001B[0m\u001B[0m\n",
      "\u001B[1;32m~\\anaconda3\\lib\\site-packages\\torch\\nn\\modules\\module.py\u001B[0m in \u001B[0;36m_call_impl\u001B[1;34m(self, *input, **kwargs)\u001B[0m\n\u001B[0;32m   1192\u001B[0m         if not (self._backward_hooks or self._forward_hooks or self._forward_pre_hooks or _global_backward_hooks\n\u001B[0;32m   1193\u001B[0m                 or _global_forward_hooks or _global_forward_pre_hooks):\n\u001B[1;32m-> 1194\u001B[1;33m             \u001B[1;32mreturn\u001B[0m \u001B[0mforward_call\u001B[0m\u001B[1;33m(\u001B[0m\u001B[1;33m*\u001B[0m\u001B[0minput\u001B[0m\u001B[1;33m,\u001B[0m \u001B[1;33m**\u001B[0m\u001B[0mkwargs\u001B[0m\u001B[1;33m)\u001B[0m\u001B[1;33m\u001B[0m\u001B[1;33m\u001B[0m\u001B[0m\n\u001B[0m\u001B[0;32m   1195\u001B[0m         \u001B[1;31m# Do not call functions when jit is used\u001B[0m\u001B[1;33m\u001B[0m\u001B[1;33m\u001B[0m\u001B[0m\n\u001B[0;32m   1196\u001B[0m         \u001B[0mfull_backward_hooks\u001B[0m\u001B[1;33m,\u001B[0m \u001B[0mnon_full_backward_hooks\u001B[0m \u001B[1;33m=\u001B[0m \u001B[1;33m[\u001B[0m\u001B[1;33m]\u001B[0m\u001B[1;33m,\u001B[0m \u001B[1;33m[\u001B[0m\u001B[1;33m]\u001B[0m\u001B[1;33m\u001B[0m\u001B[1;33m\u001B[0m\u001B[0m\n",
      "\u001B[1;32m~\\anaconda3\\lib\\site-packages\\transformers\\models\\wav2vec2\\modeling_wav2vec2.py\u001B[0m in \u001B[0;36mforward\u001B[1;34m(self, input_values, attention_mask, mask_time_indices, output_attentions, output_hidden_states, return_dict)\u001B[0m\n\u001B[0;32m   1309\u001B[0m \u001B[1;33m\u001B[0m\u001B[0m\n\u001B[0;32m   1310\u001B[0m         \u001B[0mhidden_states\u001B[0m\u001B[1;33m,\u001B[0m \u001B[0mextract_features\u001B[0m \u001B[1;33m=\u001B[0m \u001B[0mself\u001B[0m\u001B[1;33m.\u001B[0m\u001B[0mfeature_projection\u001B[0m\u001B[1;33m(\u001B[0m\u001B[0mextract_features\u001B[0m\u001B[1;33m)\u001B[0m\u001B[1;33m\u001B[0m\u001B[1;33m\u001B[0m\u001B[0m\n\u001B[1;32m-> 1311\u001B[1;33m         hidden_states = self._mask_hidden_states(\n\u001B[0m\u001B[0;32m   1312\u001B[0m             \u001B[0mhidden_states\u001B[0m\u001B[1;33m,\u001B[0m \u001B[0mmask_time_indices\u001B[0m\u001B[1;33m=\u001B[0m\u001B[0mmask_time_indices\u001B[0m\u001B[1;33m,\u001B[0m \u001B[0mattention_mask\u001B[0m\u001B[1;33m=\u001B[0m\u001B[0mattention_mask\u001B[0m\u001B[1;33m\u001B[0m\u001B[1;33m\u001B[0m\u001B[0m\n\u001B[0;32m   1313\u001B[0m         )\n",
      "\u001B[1;32m~\\anaconda3\\lib\\site-packages\\transformers\\models\\wav2vec2\\modeling_wav2vec2.py\u001B[0m in \u001B[0;36m_mask_hidden_states\u001B[1;34m(self, hidden_states, mask_time_indices, attention_mask)\u001B[0m\n\u001B[0;32m   1252\u001B[0m             \u001B[0mhidden_states\u001B[0m\u001B[1;33m[\u001B[0m\u001B[0mmask_time_indices\u001B[0m\u001B[1;33m]\u001B[0m \u001B[1;33m=\u001B[0m \u001B[0mself\u001B[0m\u001B[1;33m.\u001B[0m\u001B[0mmasked_spec_embed\u001B[0m\u001B[1;33m.\u001B[0m\u001B[0mto\u001B[0m\u001B[1;33m(\u001B[0m\u001B[0mhidden_states\u001B[0m\u001B[1;33m.\u001B[0m\u001B[0mdtype\u001B[0m\u001B[1;33m)\u001B[0m\u001B[1;33m\u001B[0m\u001B[1;33m\u001B[0m\u001B[0m\n\u001B[0;32m   1253\u001B[0m         \u001B[1;32melif\u001B[0m \u001B[0mself\u001B[0m\u001B[1;33m.\u001B[0m\u001B[0mconfig\u001B[0m\u001B[1;33m.\u001B[0m\u001B[0mmask_time_prob\u001B[0m \u001B[1;33m>\u001B[0m \u001B[1;36m0\u001B[0m \u001B[1;32mand\u001B[0m \u001B[0mself\u001B[0m\u001B[1;33m.\u001B[0m\u001B[0mtraining\u001B[0m\u001B[1;33m:\u001B[0m\u001B[1;33m\u001B[0m\u001B[1;33m\u001B[0m\u001B[0m\n\u001B[1;32m-> 1254\u001B[1;33m             mask_time_indices = _compute_mask_indices(\n\u001B[0m\u001B[0;32m   1255\u001B[0m                 \u001B[1;33m(\u001B[0m\u001B[0mbatch_size\u001B[0m\u001B[1;33m,\u001B[0m \u001B[0msequence_length\u001B[0m\u001B[1;33m)\u001B[0m\u001B[1;33m,\u001B[0m\u001B[1;33m\u001B[0m\u001B[1;33m\u001B[0m\u001B[0m\n\u001B[0;32m   1256\u001B[0m                 \u001B[0mmask_prob\u001B[0m\u001B[1;33m=\u001B[0m\u001B[0mself\u001B[0m\u001B[1;33m.\u001B[0m\u001B[0mconfig\u001B[0m\u001B[1;33m.\u001B[0m\u001B[0mmask_time_prob\u001B[0m\u001B[1;33m,\u001B[0m\u001B[1;33m\u001B[0m\u001B[1;33m\u001B[0m\u001B[0m\n",
      "\u001B[1;32m~\\anaconda3\\lib\\site-packages\\transformers\\models\\wav2vec2\\modeling_wav2vec2.py\u001B[0m in \u001B[0;36m_compute_mask_indices\u001B[1;34m(shape, mask_prob, mask_length, attention_mask, min_masks)\u001B[0m\n\u001B[0;32m    161\u001B[0m \u001B[1;33m\u001B[0m\u001B[0m\n\u001B[0;32m    162\u001B[0m     \u001B[1;32mif\u001B[0m \u001B[0mmask_length\u001B[0m \u001B[1;33m>\u001B[0m \u001B[0msequence_length\u001B[0m\u001B[1;33m:\u001B[0m\u001B[1;33m\u001B[0m\u001B[1;33m\u001B[0m\u001B[0m\n\u001B[1;32m--> 163\u001B[1;33m         raise ValueError(\n\u001B[0m\u001B[0;32m    164\u001B[0m             \u001B[1;34mf\"`mask_length` has to be smaller than `sequence_length`, but got `mask_length`: {mask_length}\"\u001B[0m\u001B[1;33m\u001B[0m\u001B[1;33m\u001B[0m\u001B[0m\n\u001B[0;32m    165\u001B[0m             \u001B[1;34mf\" and `sequence_length`: {sequence_length}`\"\u001B[0m\u001B[1;33m\u001B[0m\u001B[1;33m\u001B[0m\u001B[0m\n",
      "\u001B[1;31mValueError\u001B[0m: `mask_length` has to be smaller than `sequence_length`, but got `mask_length`: 10 and `sequence_length`: 4`"
     ]
    }
   ],
   "source": [
    "trainer.train()\n"
   ]
  },
  {
   "cell_type": "code",
   "execution_count": 37,
   "id": "miniature-mouse",
   "metadata": {
    "execution": {
     "iopub.execute_input": "2021-05-08T19:49:22.782451Z",
     "iopub.status.busy": "2021-05-08T19:49:22.781906Z",
     "iopub.status.idle": "2021-05-08T19:49:23.458106Z",
     "shell.execute_reply": "2021-05-08T19:49:23.458588Z"
    },
    "papermill": {
     "duration": 0.743555,
     "end_time": "2021-05-08T19:49:23.458768",
     "exception": false,
     "start_time": "2021-05-08T19:49:22.715213",
     "status": "completed"
    },
    "tags": []
   },
   "outputs": [
    {
     "name": "stdout",
     "output_type": "stream",
     "text": [
      "checkpoint-250\t\t  special_tokens_map.json  vocab.json\r\n",
      "preprocessor_config.json  tokenizer_config.json\r\n"
     ]
    }
   ],
   "source": [
    "!ls /kaggle/working/wav2vec2-base-mine"
   ]
  },
  {
   "cell_type": "code",
   "execution_count": 38,
   "id": "postal-milan",
   "metadata": {
    "execution": {
     "iopub.execute_input": "2021-05-08T19:49:23.596524Z",
     "iopub.status.busy": "2021-05-08T19:49:23.595721Z",
     "iopub.status.idle": "2021-05-08T19:49:24.265643Z",
     "shell.execute_reply": "2021-05-08T19:49:24.266469Z"
    },
    "papermill": {
     "duration": 0.74402,
     "end_time": "2021-05-08T19:49:24.266640",
     "exception": false,
     "start_time": "2021-05-08T19:49:23.522620",
     "status": "completed"
    },
    "tags": []
   },
   "outputs": [
    {
     "name": "stdout",
     "output_type": "stream",
     "text": [
      "config.json   preprocessor_config.json\tscheduler.pt\t    training_args.bin\r\n",
      "optimizer.pt  pytorch_model.bin\t\ttrainer_state.json\r\n"
     ]
    }
   ],
   "source": [
    "!ls /kaggle/working/wav2vec2-base-mine/checkpoint-250"
   ]
  },
  {
   "cell_type": "markdown",
   "id": "executive-square",
   "metadata": {
    "id": "UCyp-v3n4Zlt",
    "papermill": {
     "duration": 0.063046,
     "end_time": "2021-05-08T19:49:24.393888",
     "exception": false,
     "start_time": "2021-05-08T19:49:24.330842",
     "status": "completed"
    },
    "tags": []
   },
   "source": [
    "The final WER should be below 0.3 which is reasonable given that state-of-the-art phoneme error rates (PER) are just below 0.1 (see [leaderboard](https://paperswithcode.com/sota/speech-recognition-on-timit)) and that WER is usually worse than PER."
   ]
  },
  {
   "cell_type": "code",
   "execution_count": 39,
   "id": "liked-ballot",
   "metadata": {
    "execution": {
     "iopub.execute_input": "2021-05-08T19:49:24.523558Z",
     "iopub.status.busy": "2021-05-08T19:49:24.522744Z",
     "iopub.status.idle": "2021-05-08T19:49:24.529351Z",
     "shell.execute_reply": "2021-05-08T19:49:24.528560Z"
    },
    "id": "-rg0USDCnbo6",
    "outputId": "8a60c4a5-c57e-43e7-be3f-482a94471488",
    "papermill": {
     "duration": 0.073505,
     "end_time": "2021-05-08T19:49:24.529502",
     "exception": false,
     "start_time": "2021-05-08T19:49:24.455997",
     "status": "completed"
    },
    "tags": []
   },
   "outputs": [
    {
     "name": "stderr",
     "output_type": "stream",
     "text": [
      "Special tokens have been added in the vocabulary, make sure the associated word embedding are fine-tuned or trained.\n"
     ]
    }
   ],
   "source": [
    "processor = Wav2Vec2Processor.from_pretrained(\"./wav2vec2-base-mine/\")"
   ]
  },
  {
   "cell_type": "code",
   "execution_count": 40,
   "id": "juvenile-hopkins",
   "metadata": {
    "execution": {
     "iopub.execute_input": "2021-05-08T19:49:24.663511Z",
     "iopub.status.busy": "2021-05-08T19:49:24.660992Z",
     "iopub.status.idle": "2021-05-08T19:49:27.561421Z",
     "shell.execute_reply": "2021-05-08T19:49:27.560920Z"
    },
    "id": "sSpFW3pDn23P",
    "papermill": {
     "duration": 2.967814,
     "end_time": "2021-05-08T19:49:27.561560",
     "exception": false,
     "start_time": "2021-05-08T19:49:24.593746",
     "status": "completed"
    },
    "tags": []
   },
   "outputs": [],
   "source": [
    "model = Wav2Vec2ForCTC.from_pretrained(\"./wav2vec2-base-mine/checkpoint-250\")"
   ]
  },
  {
   "cell_type": "markdown",
   "id": "unnecessary-physiology",
   "metadata": {
    "id": "TUuZpB0v5jn_",
    "papermill": {
     "duration": 0.080153,
     "end_time": "2021-05-08T19:49:27.708666",
     "exception": false,
     "start_time": "2021-05-08T19:49:27.628513",
     "status": "completed"
    },
    "tags": []
   },
   "source": [
    "Now, we will make use of the `map(...)` function to predict the transcription of every test sample and to save the prediction in the dataset itself. We will call the resulting dictionary `\"results\"`. \n",
    "\n",
    "**Note**: we evaluate the test data set with `batch_size=1` on purpose due to this [issue](https://github.com/pytorch/fairseq/issues/3227). Since padded inputs don't yield the exact same output as non-padded inputs, a better WER can be achieved by not padding the input at all."
   ]
  },
  {
   "cell_type": "code",
   "execution_count": 41,
   "id": "integrated-script",
   "metadata": {
    "execution": {
     "iopub.execute_input": "2021-05-08T19:49:27.856748Z",
     "iopub.status.busy": "2021-05-08T19:49:27.856006Z",
     "iopub.status.idle": "2021-05-08T19:49:27.858918Z",
     "shell.execute_reply": "2021-05-08T19:49:27.858417Z"
    },
    "id": "40naJl53n7jT",
    "papermill": {
     "duration": 0.071461,
     "end_time": "2021-05-08T19:49:27.859026",
     "exception": false,
     "start_time": "2021-05-08T19:49:27.787565",
     "status": "completed"
    },
    "tags": []
   },
   "outputs": [],
   "source": [
    "def map_to_result(batch):\n",
    "  model.to(\"cuda\")\n",
    "  input_values = processor(\n",
    "      batch[\"speech\"], \n",
    "      sampling_rate=batch[\"sampling_rate\"], \n",
    "      return_tensors=\"pt\"\n",
    "  ).input_values.to(\"cuda\")\n",
    "\n",
    "  with torch.no_grad():\n",
    "    logits = model(input_values).logits\n",
    "\n",
    "  pred_ids = torch.argmax(logits, dim=-1)\n",
    "  batch[\"pred_str\"] = processor.batch_decode(pred_ids)[0]\n",
    "  \n",
    "  return batch"
   ]
  },
  {
   "cell_type": "code",
   "execution_count": 42,
   "id": "hairy-examination",
   "metadata": {
    "execution": {
     "iopub.execute_input": "2021-05-08T19:49:28.015061Z",
     "iopub.status.busy": "2021-05-08T19:49:28.014064Z",
     "iopub.status.idle": "2021-05-08T19:51:12.013784Z",
     "shell.execute_reply": "2021-05-08T19:51:12.012642Z"
    },
    "id": "uPqH7gZqrGPi",
    "outputId": "021bbd87-00ba-47fe-a7fb-a0924cc8724b",
    "papermill": {
     "duration": 104.09169,
     "end_time": "2021-05-08T19:51:12.013946",
     "exception": false,
     "start_time": "2021-05-08T19:49:27.922256",
     "status": "completed"
    },
    "tags": []
   },
   "outputs": [
    {
     "data": {
      "application/vnd.jupyter.widget-view+json": {
       "model_id": "193fb76cb9f2419889d71f8f59f2699b",
       "version_major": 2,
       "version_minor": 0
      },
      "text/plain": [
       "HBox(children=(FloatProgress(value=0.0, max=1680.0), HTML(value='')))"
      ]
     },
     "metadata": {},
     "output_type": "display_data"
    },
    {
     "name": "stdout",
     "output_type": "stream",
     "text": [
      "\n"
     ]
    }
   ],
   "source": [
    "results = timit[\"test\"].map(map_to_result)"
   ]
  },
  {
   "cell_type": "markdown",
   "id": "municipal-boston",
   "metadata": {
    "id": "-mqpdB8R6rty",
    "papermill": {
     "duration": 0.064281,
     "end_time": "2021-05-08T19:51:12.142724",
     "exception": false,
     "start_time": "2021-05-08T19:51:12.078443",
     "status": "completed"
    },
    "tags": []
   },
   "source": [
    "Let's compute the overall WER now."
   ]
  },
  {
   "cell_type": "code",
   "execution_count": 43,
   "id": "suffering-aspect",
   "metadata": {
    "execution": {
     "iopub.execute_input": "2021-05-08T19:51:12.286147Z",
     "iopub.status.busy": "2021-05-08T19:51:12.285320Z",
     "iopub.status.idle": "2021-05-08T19:51:13.194809Z",
     "shell.execute_reply": "2021-05-08T19:51:13.194138Z"
    },
    "id": "PmqAb4Isx8OK",
    "outputId": "a081a8a2-e59f-4054-d057-0e28dad9a6c2",
    "papermill": {
     "duration": 0.988874,
     "end_time": "2021-05-08T19:51:13.194973",
     "exception": false,
     "start_time": "2021-05-08T19:51:12.206099",
     "status": "completed"
    },
    "tags": []
   },
   "outputs": [
    {
     "name": "stdout",
     "output_type": "stream",
     "text": [
      "Test WER: 1.000\n"
     ]
    }
   ],
   "source": [
    "print(\"Test WER: {:.3f}\".format(wer_metric.compute(predictions=results[\"pred_str\"], references=results[\"target_text\"])))"
   ]
  },
  {
   "cell_type": "code",
   "execution_count": 44,
   "id": "secondary-field",
   "metadata": {
    "execution": {
     "iopub.execute_input": "2021-05-08T19:51:13.331822Z",
     "iopub.status.busy": "2021-05-08T19:51:13.331026Z",
     "iopub.status.idle": "2021-05-08T19:51:13.346902Z",
     "shell.execute_reply": "2021-05-08T19:51:13.346497Z"
    },
    "id": "odNDiFVRy53w",
    "outputId": "05b21744-7e3b-49a3-e801-487fff92dd1a",
    "papermill": {
     "duration": 0.086592,
     "end_time": "2021-05-08T19:51:13.347012",
     "exception": false,
     "start_time": "2021-05-08T19:51:13.260420",
     "status": "completed"
    },
    "tags": []
   },
   "outputs": [
    {
     "data": {
      "text/html": [
       "<table border=\"1\" class=\"dataframe\">\n",
       "  <thead>\n",
       "    <tr style=\"text-align: right;\">\n",
       "      <th></th>\n",
       "      <th>pred_str</th>\n",
       "      <th>target_text</th>\n",
       "    </tr>\n",
       "  </thead>\n",
       "  <tbody>\n",
       "    <tr>\n",
       "      <th>0</th>\n",
       "      <td>ouluusual uds  sful tlal  ful  w</td>\n",
       "      <td>the bungalow was pleasantly situated near the shore</td>\n",
       "    </tr>\n",
       "    <tr>\n",
       "      <th>1</th>\n",
       "      <td>ouluusual uds  sful tlal  ful  w</td>\n",
       "      <td>the bungalow was pleasantly situated near the shore</td>\n",
       "    </tr>\n",
       "    <tr>\n",
       "      <th>2</th>\n",
       "      <td>ouluusual uds  sful tlal  ful  w</td>\n",
       "      <td>the bungalow was pleasantly situated near the shore</td>\n",
       "    </tr>\n",
       "    <tr>\n",
       "      <th>3</th>\n",
       "      <td>ouluusual uds  sful tlal  ful  w</td>\n",
       "      <td>the bungalow was pleasantly situated near the shore</td>\n",
       "    </tr>\n",
       "    <tr>\n",
       "      <th>4</th>\n",
       "      <td>ouluusual uds  sful tlal  ful  w</td>\n",
       "      <td>the bungalow was pleasantly situated near the shore</td>\n",
       "    </tr>\n",
       "    <tr>\n",
       "      <th>5</th>\n",
       "      <td>ouluusual uds  sful tlal  ful  w</td>\n",
       "      <td>the bungalow was pleasantly situated near the shore</td>\n",
       "    </tr>\n",
       "    <tr>\n",
       "      <th>6</th>\n",
       "      <td>ouluusual uds  sful tlal  ful  w</td>\n",
       "      <td>the bungalow was pleasantly situated near the shore</td>\n",
       "    </tr>\n",
       "    <tr>\n",
       "      <th>7</th>\n",
       "      <td>ouluusual uds  sful tlal  ful  w</td>\n",
       "      <td>the bungalow was pleasantly situated near the shore</td>\n",
       "    </tr>\n",
       "    <tr>\n",
       "      <th>8</th>\n",
       "      <td>ouluusual uds  sful tlal  ful  w</td>\n",
       "      <td>the bungalow was pleasantly situated near the shore</td>\n",
       "    </tr>\n",
       "    <tr>\n",
       "      <th>9</th>\n",
       "      <td>ouluusual uds  sful tlal  ful  w</td>\n",
       "      <td>the bungalow was pleasantly situated near the shore</td>\n",
       "    </tr>\n",
       "  </tbody>\n",
       "</table>"
      ],
      "text/plain": [
       "<IPython.core.display.HTML object>"
      ]
     },
     "metadata": {},
     "output_type": "display_data"
    }
   ],
   "source": [
    "show_random_elements(results.remove_columns([\"speech\", \"sampling_rate\"]))"
   ]
  },
  {
   "cell_type": "code",
   "execution_count": 45,
   "id": "resistant-sponsorship",
   "metadata": {
    "execution": {
     "iopub.execute_input": "2021-05-08T19:51:13.487361Z",
     "iopub.status.busy": "2021-05-08T19:51:13.486535Z",
     "iopub.status.idle": "2021-05-08T19:51:13.570529Z",
     "shell.execute_reply": "2021-05-08T19:51:13.570948Z"
    },
    "id": "AqaM45t87uM4",
    "outputId": "43695fa3-12d3-4de9-a5fe-c946dd0a05b0",
    "papermill": {
     "duration": 0.15728,
     "end_time": "2021-05-08T19:51:13.571094",
     "exception": false,
     "start_time": "2021-05-08T19:51:13.413814",
     "status": "completed"
    },
    "tags": []
   },
   "outputs": [
    {
     "data": {
      "text/plain": [
       "'[PAD] [PAD] o o o o [PAD] [PAD] u l l [PAD] [PAD] [PAD] [PAD] [PAD] u u u u [PAD] [PAD] [PAD] u s s u u u u u u a l l l l l [PAD] [PAD] [PAD] [PAD] [PAD] [PAD] [PAD] [PAD] | [PAD] u u [PAD] [PAD] d [PAD] [PAD] [PAD] [PAD] s [PAD] [PAD] [PAD] | | [PAD] [PAD] [PAD] [PAD] [PAD] [PAD] | | [PAD] s [PAD] [PAD] [PAD] [PAD] [PAD] [PAD] [PAD] [PAD] f f u u l | [PAD] [PAD] [PAD] [PAD] [PAD] [PAD] [PAD] [PAD] [PAD] [PAD] [PAD] [PAD] [PAD] [PAD] [PAD] [PAD] [PAD] t t l a a a l | [PAD] [PAD] [PAD] [PAD] [PAD] [PAD] | f u u u u u l l l | [PAD] [PAD] | | | | [PAD] w w w'"
      ]
     },
     "execution_count": 45,
     "metadata": {},
     "output_type": "execute_result"
    }
   ],
   "source": [
    "model.to(\"cuda\")\n",
    "input_values = processor(timit[\"test\"][0][\"speech\"], sampling_rate=timit[\"test\"][0][\"sampling_rate\"], return_tensors=\"pt\").input_values.to(\"cuda\")\n",
    "\n",
    "with torch.no_grad():\n",
    "  logits = model(input_values).logits\n",
    "\n",
    "pred_ids = torch.argmax(logits, dim=-1)\n",
    "\n",
    "# convert ids to tokens\n",
    "\" \".join(processor.tokenizer.convert_ids_to_tokens(pred_ids[0].tolist()))"
   ]
  },
  {
   "cell_type": "code",
   "execution_count": 46,
   "id": "tight-storm",
   "metadata": {
    "execution": {
     "iopub.execute_input": "2021-05-08T19:51:13.763401Z",
     "iopub.status.busy": "2021-05-08T19:51:13.762511Z",
     "iopub.status.idle": "2021-05-08T19:51:13.792342Z",
     "shell.execute_reply": "2021-05-08T19:51:13.791884Z"
    },
    "papermill": {
     "duration": 0.152915,
     "end_time": "2021-05-08T19:51:13.792476",
     "exception": false,
     "start_time": "2021-05-08T19:51:13.639561",
     "status": "completed"
    },
    "tags": []
   },
   "outputs": [
    {
     "data": {
      "text/plain": [
       "'[PAD] [PAD] o o o o [PAD] [PAD] u l l [PAD] [PAD] [PAD] [PAD] [PAD] u u u u [PAD] [PAD] [PAD] u s s u u u u u u a l l l l l [PAD] [PAD] [PAD] [PAD] [PAD] [PAD] [PAD] [PAD] | [PAD] u u [PAD] [PAD] d [PAD] [PAD] [PAD] [PAD] s [PAD] [PAD] [PAD] | | [PAD] [PAD] [PAD] [PAD] [PAD] [PAD] | | [PAD] s [PAD] [PAD] [PAD] [PAD] [PAD] [PAD] [PAD] [PAD] f f u u l | [PAD] [PAD] [PAD] [PAD] [PAD] [PAD] [PAD] [PAD] [PAD] [PAD] [PAD] [PAD] [PAD] [PAD] [PAD] [PAD] [PAD] t t l a a a l | [PAD] [PAD] [PAD] [PAD] [PAD] [PAD] | f u u u u u l l l | [PAD] [PAD] | | | | [PAD] w w w'"
      ]
     },
     "execution_count": 46,
     "metadata": {},
     "output_type": "execute_result"
    }
   ],
   "source": [
    "input_values = processor(timit[\"test\"][1][\"speech\"], sampling_rate=timit[\"test\"][1][\"sampling_rate\"], return_tensors=\"pt\").input_values.to(\"cuda\")\n",
    "\n",
    "with torch.no_grad():\n",
    "  logits = model(input_values).logits\n",
    "\n",
    "pred_ids = torch.argmax(logits, dim=-1)\n",
    "\n",
    "# convert ids to tokens\n",
    "\" \".join(processor.tokenizer.convert_ids_to_tokens(pred_ids[0].tolist()))"
   ]
  },
  {
   "cell_type": "code",
   "execution_count": 47,
   "id": "interested-montgomery",
   "metadata": {
    "execution": {
     "iopub.execute_input": "2021-05-08T19:51:13.983669Z",
     "iopub.status.busy": "2021-05-08T19:51:13.982902Z",
     "iopub.status.idle": "2021-05-08T19:51:14.012163Z",
     "shell.execute_reply": "2021-05-08T19:51:14.011750Z"
    },
    "papermill": {
     "duration": 0.151201,
     "end_time": "2021-05-08T19:51:14.012302",
     "exception": false,
     "start_time": "2021-05-08T19:51:13.861101",
     "status": "completed"
    },
    "tags": []
   },
   "outputs": [
    {
     "data": {
      "text/plain": [
       "'[PAD] [PAD] o o o o [PAD] [PAD] u l l [PAD] [PAD] [PAD] [PAD] [PAD] u u u u [PAD] [PAD] [PAD] u s s u u u u u u a l l l l l [PAD] [PAD] [PAD] [PAD] [PAD] [PAD] [PAD] [PAD] | [PAD] u u [PAD] [PAD] d [PAD] [PAD] [PAD] [PAD] s [PAD] [PAD] [PAD] | | [PAD] [PAD] [PAD] [PAD] [PAD] [PAD] | | [PAD] s [PAD] [PAD] [PAD] [PAD] [PAD] [PAD] [PAD] [PAD] f f u u l | [PAD] [PAD] [PAD] [PAD] [PAD] [PAD] [PAD] [PAD] [PAD] [PAD] [PAD] [PAD] [PAD] [PAD] [PAD] [PAD] [PAD] t t l a a a l | [PAD] [PAD] [PAD] [PAD] [PAD] [PAD] | f u u u u u l l l | [PAD] [PAD] | | | | [PAD] w w w'"
      ]
     },
     "execution_count": 47,
     "metadata": {},
     "output_type": "execute_result"
    }
   ],
   "source": [
    "input_values = processor(timit[\"test\"][2][\"speech\"], sampling_rate=timit[\"test\"][2][\"sampling_rate\"], return_tensors=\"pt\").input_values.to(\"cuda\")\n",
    "\n",
    "with torch.no_grad():\n",
    "  logits = model(input_values).logits\n",
    "\n",
    "pred_ids = torch.argmax(logits, dim=-1)\n",
    "\n",
    "# convert ids to tokens\n",
    "\" \".join(processor.tokenizer.convert_ids_to_tokens(pred_ids[0].tolist()))"
   ]
  }
 ],
 "metadata": {
  "kernelspec": {
   "display_name": "Python 3 (ipykernel)",
   "language": "python",
   "name": "python3"
  },
  "language_info": {
   "codemirror_mode": {
    "name": "ipython",
    "version": 3
   },
   "file_extension": ".py",
   "mimetype": "text/x-python",
   "name": "python",
   "nbconvert_exporter": "python",
   "pygments_lexer": "ipython3",
   "version": "3.9.13"
  },
  "papermill": {
   "default_parameters": {},
   "duration": 1547.003786,
   "end_time": "2021-05-08T19:51:17.323741",
   "environment_variables": {},
   "exception": null,
   "input_path": "__notebook__.ipynb",
   "output_path": "__notebook__.ipynb",
   "parameters": {},
   "start_time": "2021-05-08T19:25:30.319955",
   "version": "2.3.2"
  },
  "widgets": {
   "application/vnd.jupyter.widget-state+json": {
    "state": {
     "021aa6fff72d4436ac5bf1a9c7e8de3a": {
      "model_module": "@jupyter-widgets/controls",
      "model_module_version": "1.5.0",
      "model_name": "DescriptionStyleModel",
      "state": {
       "_model_module": "@jupyter-widgets/controls",
       "_model_module_version": "1.5.0",
       "_model_name": "DescriptionStyleModel",
       "_view_count": null,
       "_view_module": "@jupyter-widgets/base",
       "_view_module_version": "1.2.0",
       "_view_name": "StyleView",
       "description_width": ""
      }
     },
     "038d9e08831645898c1ea0032b207c8e": {
      "model_module": "@jupyter-widgets/controls",
      "model_module_version": "1.5.0",
      "model_name": "HBoxModel",
      "state": {
       "_dom_classes": [],
       "_model_module": "@jupyter-widgets/controls",
       "_model_module_version": "1.5.0",
       "_model_name": "HBoxModel",
       "_view_count": null,
       "_view_module": "@jupyter-widgets/controls",
       "_view_module_version": "1.5.0",
       "_view_name": "HBoxView",
       "box_style": "",
       "children": [
        "IPY_MODEL_d160104f1a3d441cbdd3e9602dd51749",
        "IPY_MODEL_87189d6d344b48a4b893d8a344c2a538"
       ],
       "layout": "IPY_MODEL_b9d9374318d44dbd8ec6d716728fccd1"
      }
     },
     "09626b389b8a4df3a66e6e23b38b05fb": {
      "model_module": "@jupyter-widgets/controls",
      "model_module_version": "1.5.0",
      "model_name": "ProgressStyleModel",
      "state": {
       "_model_module": "@jupyter-widgets/controls",
       "_model_module_version": "1.5.0",
       "_model_name": "ProgressStyleModel",
       "_view_count": null,
       "_view_module": "@jupyter-widgets/base",
       "_view_module_version": "1.2.0",
       "_view_name": "StyleView",
       "bar_color": null,
       "description_width": "initial"
      }
     },
     "0bea67d8c8044d87806776164f558d39": {
      "model_module": "@jupyter-widgets/controls",
      "model_module_version": "1.5.0",
      "model_name": "HBoxModel",
      "state": {
       "_dom_classes": [],
       "_model_module": "@jupyter-widgets/controls",
       "_model_module_version": "1.5.0",
       "_model_name": "HBoxModel",
       "_view_count": null,
       "_view_module": "@jupyter-widgets/controls",
       "_view_module_version": "1.5.0",
       "_view_name": "HBoxView",
       "box_style": "",
       "children": [
        "IPY_MODEL_14e3c8936e594e3fa902ca6f8bccc378",
        "IPY_MODEL_7ff98ab710634d808be93053d5ca1739"
       ],
       "layout": "IPY_MODEL_9533d72bed16441cb8bfe7a99355e0f5"
      }
     },
     "0dfb31135d334d6b82d5bbe4c27e31d5": {
      "model_module": "@jupyter-widgets/controls",
      "model_module_version": "1.5.0",
      "model_name": "HBoxModel",
      "state": {
       "_dom_classes": [],
       "_model_module": "@jupyter-widgets/controls",
       "_model_module_version": "1.5.0",
       "_model_name": "HBoxModel",
       "_view_count": null,
       "_view_module": "@jupyter-widgets/controls",
       "_view_module_version": "1.5.0",
       "_view_name": "HBoxView",
       "box_style": "",
       "children": [
        "IPY_MODEL_656b9e6a5b7b43b089417de306523de8",
        "IPY_MODEL_f76cb8a0a6f74b8ab05b744a4142f7f3"
       ],
       "layout": "IPY_MODEL_eba346ae4e4a4c56abfc79979c835c77"
      }
     },
     "100023d572dc44b99707a1174776e6a3": {
      "model_module": "@jupyter-widgets/base",
      "model_module_version": "1.2.0",
      "model_name": "LayoutModel",
      "state": {
       "_model_module": "@jupyter-widgets/base",
       "_model_module_version": "1.2.0",
       "_model_name": "LayoutModel",
       "_view_count": null,
       "_view_module": "@jupyter-widgets/base",
       "_view_module_version": "1.2.0",
       "_view_name": "LayoutView",
       "align_content": null,
       "align_items": null,
       "align_self": null,
       "border": null,
       "bottom": null,
       "display": null,
       "flex": null,
       "flex_flow": null,
       "grid_area": null,
       "grid_auto_columns": null,
       "grid_auto_flow": null,
       "grid_auto_rows": null,
       "grid_column": null,
       "grid_gap": null,
       "grid_row": null,
       "grid_template_areas": null,
       "grid_template_columns": null,
       "grid_template_rows": null,
       "height": null,
       "justify_content": null,
       "justify_items": null,
       "left": null,
       "margin": null,
       "max_height": null,
       "max_width": null,
       "min_height": null,
       "min_width": null,
       "object_fit": null,
       "object_position": null,
       "order": null,
       "overflow": null,
       "overflow_x": null,
       "overflow_y": null,
       "padding": null,
       "right": null,
       "top": null,
       "visibility": null,
       "width": null
      }
     },
     "11571697ccf84680a4bad7554a50f02e": {
      "model_module": "@jupyter-widgets/base",
      "model_module_version": "1.2.0",
      "model_name": "LayoutModel",
      "state": {
       "_model_module": "@jupyter-widgets/base",
       "_model_module_version": "1.2.0",
       "_model_name": "LayoutModel",
       "_view_count": null,
       "_view_module": "@jupyter-widgets/base",
       "_view_module_version": "1.2.0",
       "_view_name": "LayoutView",
       "align_content": null,
       "align_items": null,
       "align_self": null,
       "border": null,
       "bottom": null,
       "display": null,
       "flex": null,
       "flex_flow": null,
       "grid_area": null,
       "grid_auto_columns": null,
       "grid_auto_flow": null,
       "grid_auto_rows": null,
       "grid_column": null,
       "grid_gap": null,
       "grid_row": null,
       "grid_template_areas": null,
       "grid_template_columns": null,
       "grid_template_rows": null,
       "height": null,
       "justify_content": null,
       "justify_items": null,
       "left": null,
       "margin": null,
       "max_height": null,
       "max_width": null,
       "min_height": null,
       "min_width": null,
       "object_fit": null,
       "object_position": null,
       "order": null,
       "overflow": null,
       "overflow_x": null,
       "overflow_y": null,
       "padding": null,
       "right": null,
       "top": null,
       "visibility": null,
       "width": null
      }
     },
     "13209840ce814df5810212d8c5614c09": {
      "model_module": "@jupyter-widgets/base",
      "model_module_version": "1.2.0",
      "model_name": "LayoutModel",
      "state": {
       "_model_module": "@jupyter-widgets/base",
       "_model_module_version": "1.2.0",
       "_model_name": "LayoutModel",
       "_view_count": null,
       "_view_module": "@jupyter-widgets/base",
       "_view_module_version": "1.2.0",
       "_view_name": "LayoutView",
       "align_content": null,
       "align_items": null,
       "align_self": null,
       "border": null,
       "bottom": null,
       "display": null,
       "flex": null,
       "flex_flow": null,
       "grid_area": null,
       "grid_auto_columns": null,
       "grid_auto_flow": null,
       "grid_auto_rows": null,
       "grid_column": null,
       "grid_gap": null,
       "grid_row": null,
       "grid_template_areas": null,
       "grid_template_columns": null,
       "grid_template_rows": null,
       "height": null,
       "justify_content": null,
       "justify_items": null,
       "left": null,
       "margin": null,
       "max_height": null,
       "max_width": null,
       "min_height": null,
       "min_width": null,
       "object_fit": null,
       "object_position": null,
       "order": null,
       "overflow": null,
       "overflow_x": null,
       "overflow_y": null,
       "padding": null,
       "right": null,
       "top": null,
       "visibility": null,
       "width": null
      }
     },
     "14e3c8936e594e3fa902ca6f8bccc378": {
      "model_module": "@jupyter-widgets/controls",
      "model_module_version": "1.5.0",
      "model_name": "FloatProgressModel",
      "state": {
       "_dom_classes": [],
       "_model_module": "@jupyter-widgets/controls",
       "_model_module_version": "1.5.0",
       "_model_name": "FloatProgressModel",
       "_view_count": null,
       "_view_module": "@jupyter-widgets/controls",
       "_view_module_version": "1.5.0",
       "_view_name": "ProgressView",
       "bar_style": "success",
       "description": "",
       "description_tooltip": null,
       "layout": "IPY_MODEL_77d2ddb85ec041cca3deec25f09b0c78",
       "max": 1465,
       "min": 0,
       "orientation": "horizontal",
       "style": "IPY_MODEL_1c1367e1a0b24cc8b52d4ba7adf52ac4",
       "value": 1465
      }
     },
     "14ef159cb86045a1af4f7dd4ba7a4c97": {
      "model_module": "@jupyter-widgets/base",
      "model_module_version": "1.2.0",
      "model_name": "LayoutModel",
      "state": {
       "_model_module": "@jupyter-widgets/base",
       "_model_module_version": "1.2.0",
       "_model_name": "LayoutModel",
       "_view_count": null,
       "_view_module": "@jupyter-widgets/base",
       "_view_module_version": "1.2.0",
       "_view_name": "LayoutView",
       "align_content": null,
       "align_items": null,
       "align_self": null,
       "border": null,
       "bottom": null,
       "display": null,
       "flex": null,
       "flex_flow": null,
       "grid_area": null,
       "grid_auto_columns": null,
       "grid_auto_flow": null,
       "grid_auto_rows": null,
       "grid_column": null,
       "grid_gap": null,
       "grid_row": null,
       "grid_template_areas": null,
       "grid_template_columns": null,
       "grid_template_rows": null,
       "height": null,
       "justify_content": null,
       "justify_items": null,
       "left": null,
       "margin": null,
       "max_height": null,
       "max_width": null,
       "min_height": null,
       "min_width": null,
       "object_fit": null,
       "object_position": null,
       "order": null,
       "overflow": null,
       "overflow_x": null,
       "overflow_y": null,
       "padding": null,
       "right": null,
       "top": null,
       "visibility": null,
       "width": null
      }
     },
     "1637014efdda4a47a5c37ca43525da5e": {
      "model_module": "@jupyter-widgets/controls",
      "model_module_version": "1.5.0",
      "model_name": "FloatProgressModel",
      "state": {
       "_dom_classes": [],
       "_model_module": "@jupyter-widgets/controls",
       "_model_module_version": "1.5.0",
       "_model_name": "FloatProgressModel",
       "_view_count": null,
       "_view_module": "@jupyter-widgets/controls",
       "_view_module_version": "1.5.0",
       "_view_name": "ProgressView",
       "bar_style": "success",
       "description": "",
       "description_tooltip": null,
       "layout": "IPY_MODEL_630bea444f1a4f9fb631567f9b980e9d",
       "max": 1,
       "min": 0,
       "orientation": "horizontal",
       "style": "IPY_MODEL_c5e511d66ad143d2976ef81f2dd8dcf1",
       "value": 1
      }
     },
     "18d6bdd0c32c442ebc2f625364ef566e": {
      "model_module": "@jupyter-widgets/base",
      "model_module_version": "1.2.0",
      "model_name": "LayoutModel",
      "state": {
       "_model_module": "@jupyter-widgets/base",
       "_model_module_version": "1.2.0",
       "_model_name": "LayoutModel",
       "_view_count": null,
       "_view_module": "@jupyter-widgets/base",
       "_view_module_version": "1.2.0",
       "_view_name": "LayoutView",
       "align_content": null,
       "align_items": null,
       "align_self": null,
       "border": null,
       "bottom": null,
       "display": null,
       "flex": null,
       "flex_flow": null,
       "grid_area": null,
       "grid_auto_columns": null,
       "grid_auto_flow": null,
       "grid_auto_rows": null,
       "grid_column": null,
       "grid_gap": null,
       "grid_row": null,
       "grid_template_areas": null,
       "grid_template_columns": null,
       "grid_template_rows": null,
       "height": null,
       "justify_content": null,
       "justify_items": null,
       "left": null,
       "margin": null,
       "max_height": null,
       "max_width": null,
       "min_height": null,
       "min_width": null,
       "object_fit": null,
       "object_position": null,
       "order": null,
       "overflow": null,
       "overflow_x": null,
       "overflow_y": null,
       "padding": null,
       "right": null,
       "top": null,
       "visibility": null,
       "width": null
      }
     },
     "193fb76cb9f2419889d71f8f59f2699b": {
      "model_module": "@jupyter-widgets/controls",
      "model_module_version": "1.5.0",
      "model_name": "HBoxModel",
      "state": {
       "_dom_classes": [],
       "_model_module": "@jupyter-widgets/controls",
       "_model_module_version": "1.5.0",
       "_model_name": "HBoxModel",
       "_view_count": null,
       "_view_module": "@jupyter-widgets/controls",
       "_view_module_version": "1.5.0",
       "_view_name": "HBoxView",
       "box_style": "",
       "children": [
        "IPY_MODEL_8406b58e6b0149ccac1b1d76d5002a11",
        "IPY_MODEL_9563c14e19754be4ba171efb64970283"
       ],
       "layout": "IPY_MODEL_fa69c046780448c7bee7880805196fb9"
      }
     },
     "1c1367e1a0b24cc8b52d4ba7adf52ac4": {
      "model_module": "@jupyter-widgets/controls",
      "model_module_version": "1.5.0",
      "model_name": "ProgressStyleModel",
      "state": {
       "_model_module": "@jupyter-widgets/controls",
       "_model_module_version": "1.5.0",
       "_model_name": "ProgressStyleModel",
       "_view_count": null,
       "_view_module": "@jupyter-widgets/base",
       "_view_module_version": "1.2.0",
       "_view_name": "StyleView",
       "bar_color": null,
       "description_width": "initial"
      }
     },
     "1ddb2250cf064f1c93875b5170232196": {
      "model_module": "@jupyter-widgets/base",
      "model_module_version": "1.2.0",
      "model_name": "LayoutModel",
      "state": {
       "_model_module": "@jupyter-widgets/base",
       "_model_module_version": "1.2.0",
       "_model_name": "LayoutModel",
       "_view_count": null,
       "_view_module": "@jupyter-widgets/base",
       "_view_module_version": "1.2.0",
       "_view_name": "LayoutView",
       "align_content": null,
       "align_items": null,
       "align_self": null,
       "border": null,
       "bottom": null,
       "display": null,
       "flex": null,
       "flex_flow": null,
       "grid_area": null,
       "grid_auto_columns": null,
       "grid_auto_flow": null,
       "grid_auto_rows": null,
       "grid_column": null,
       "grid_gap": null,
       "grid_row": null,
       "grid_template_areas": null,
       "grid_template_columns": null,
       "grid_template_rows": null,
       "height": null,
       "justify_content": null,
       "justify_items": null,
       "left": null,
       "margin": null,
       "max_height": null,
       "max_width": null,
       "min_height": null,
       "min_width": null,
       "object_fit": null,
       "object_position": null,
       "order": null,
       "overflow": null,
       "overflow_x": null,
       "overflow_y": null,
       "padding": null,
       "right": null,
       "top": null,
       "visibility": null,
       "width": null
      }
     },
     "2140705c120946cda01ffffa82e975d7": {
      "model_module": "@jupyter-widgets/controls",
      "model_module_version": "1.5.0",
      "model_name": "HTMLModel",
      "state": {
       "_dom_classes": [],
       "_model_module": "@jupyter-widgets/controls",
       "_model_module_version": "1.5.0",
       "_model_name": "HTMLModel",
       "_view_count": null,
       "_view_module": "@jupyter-widgets/controls",
       "_view_module_version": "1.5.0",
       "_view_name": "HTMLView",
       "description": "",
       "description_tooltip": null,
       "layout": "IPY_MODEL_ae70a771c8394ba3902d1ca5fd5742ef",
       "placeholder": "​",
       "style": "IPY_MODEL_94faa46ce57e4169a78fc351cd2eb2b6",
       "value": "&lt;tqdm.auto.tqdm object at 0x7f7944561590&gt;"
      }
     },
     "245c286837914044b50f15537bd199ff": {
      "model_module": "@jupyter-widgets/base",
      "model_module_version": "1.2.0",
      "model_name": "LayoutModel",
      "state": {
       "_model_module": "@jupyter-widgets/base",
       "_model_module_version": "1.2.0",
       "_model_name": "LayoutModel",
       "_view_count": null,
       "_view_module": "@jupyter-widgets/base",
       "_view_module_version": "1.2.0",
       "_view_name": "LayoutView",
       "align_content": null,
       "align_items": null,
       "align_self": null,
       "border": null,
       "bottom": null,
       "display": null,
       "flex": null,
       "flex_flow": null,
       "grid_area": null,
       "grid_auto_columns": null,
       "grid_auto_flow": null,
       "grid_auto_rows": null,
       "grid_column": null,
       "grid_gap": null,
       "grid_row": null,
       "grid_template_areas": null,
       "grid_template_columns": null,
       "grid_template_rows": null,
       "height": null,
       "justify_content": null,
       "justify_items": null,
       "left": null,
       "margin": null,
       "max_height": null,
       "max_width": null,
       "min_height": null,
       "min_width": null,
       "object_fit": null,
       "object_position": null,
       "order": null,
       "overflow": null,
       "overflow_x": null,
       "overflow_y": null,
       "padding": null,
       "right": null,
       "top": null,
       "visibility": null,
       "width": null
      }
     },
     "285f8a97341a4048b18d05de91174fcd": {
      "model_module": "@jupyter-widgets/controls",
      "model_module_version": "1.5.0",
      "model_name": "ProgressStyleModel",
      "state": {
       "_model_module": "@jupyter-widgets/controls",
       "_model_module_version": "1.5.0",
       "_model_name": "ProgressStyleModel",
       "_view_count": null,
       "_view_module": "@jupyter-widgets/base",
       "_view_module_version": "1.2.0",
       "_view_name": "StyleView",
       "bar_color": null,
       "description_width": "initial"
      }
     },
     "28e9b53a41254ca49bfb06309270779f": {
      "model_module": "@jupyter-widgets/controls",
      "model_module_version": "1.5.0",
      "model_name": "DescriptionStyleModel",
      "state": {
       "_model_module": "@jupyter-widgets/controls",
       "_model_module_version": "1.5.0",
       "_model_name": "DescriptionStyleModel",
       "_view_count": null,
       "_view_module": "@jupyter-widgets/base",
       "_view_module_version": "1.2.0",
       "_view_name": "StyleView",
       "description_width": ""
      }
     },
     "2c1709378c434d5b999eddf9127b3716": {
      "model_module": "@jupyter-widgets/base",
      "model_module_version": "1.2.0",
      "model_name": "LayoutModel",
      "state": {
       "_model_module": "@jupyter-widgets/base",
       "_model_module_version": "1.2.0",
       "_model_name": "LayoutModel",
       "_view_count": null,
       "_view_module": "@jupyter-widgets/base",
       "_view_module_version": "1.2.0",
       "_view_name": "LayoutView",
       "align_content": null,
       "align_items": null,
       "align_self": null,
       "border": null,
       "bottom": null,
       "display": null,
       "flex": null,
       "flex_flow": null,
       "grid_area": null,
       "grid_auto_columns": null,
       "grid_auto_flow": null,
       "grid_auto_rows": null,
       "grid_column": null,
       "grid_gap": null,
       "grid_row": null,
       "grid_template_areas": null,
       "grid_template_columns": null,
       "grid_template_rows": null,
       "height": null,
       "justify_content": null,
       "justify_items": null,
       "left": null,
       "margin": null,
       "max_height": null,
       "max_width": null,
       "min_height": null,
       "min_width": null,
       "object_fit": null,
       "object_position": null,
       "order": null,
       "overflow": null,
       "overflow_x": null,
       "overflow_y": null,
       "padding": null,
       "right": null,
       "top": null,
       "visibility": null,
       "width": null
      }
     },
     "2e2eaf99ea174366870d92a9465da87a": {
      "model_module": "@jupyter-widgets/controls",
      "model_module_version": "1.5.0",
      "model_name": "HBoxModel",
      "state": {
       "_dom_classes": [],
       "_model_module": "@jupyter-widgets/controls",
       "_model_module_version": "1.5.0",
       "_model_name": "HBoxModel",
       "_view_count": null,
       "_view_module": "@jupyter-widgets/controls",
       "_view_module_version": "1.5.0",
       "_view_name": "HBoxView",
       "box_style": "",
       "children": [
        "IPY_MODEL_1637014efdda4a47a5c37ca43525da5e",
        "IPY_MODEL_eeef411232964d52961279ab858dcd45"
       ],
       "layout": "IPY_MODEL_dd802aad132a4c17b2ecb916af3d61af"
      }
     },
     "2fdb2e73cc064b8d9383a7f636421620": {
      "model_module": "@jupyter-widgets/base",
      "model_module_version": "1.2.0",
      "model_name": "LayoutModel",
      "state": {
       "_model_module": "@jupyter-widgets/base",
       "_model_module_version": "1.2.0",
       "_model_name": "LayoutModel",
       "_view_count": null,
       "_view_module": "@jupyter-widgets/base",
       "_view_module_version": "1.2.0",
       "_view_name": "LayoutView",
       "align_content": null,
       "align_items": null,
       "align_self": null,
       "border": null,
       "bottom": null,
       "display": null,
       "flex": null,
       "flex_flow": null,
       "grid_area": null,
       "grid_auto_columns": null,
       "grid_auto_flow": null,
       "grid_auto_rows": null,
       "grid_column": null,
       "grid_gap": null,
       "grid_row": null,
       "grid_template_areas": null,
       "grid_template_columns": null,
       "grid_template_rows": null,
       "height": null,
       "justify_content": null,
       "justify_items": null,
       "left": null,
       "margin": null,
       "max_height": null,
       "max_width": null,
       "min_height": null,
       "min_width": null,
       "object_fit": null,
       "object_position": null,
       "order": null,
       "overflow": null,
       "overflow_x": null,
       "overflow_y": null,
       "padding": null,
       "right": null,
       "top": null,
       "visibility": null,
       "width": null
      }
     },
     "309c3fad264a4b8aa0cb6bf2211370ed": {
      "model_module": "@jupyter-widgets/controls",
      "model_module_version": "1.5.0",
      "model_name": "FloatProgressModel",
      "state": {
       "_dom_classes": [],
       "_model_module": "@jupyter-widgets/controls",
       "_model_module_version": "1.5.0",
       "_model_name": "FloatProgressModel",
       "_view_count": null,
       "_view_module": "@jupyter-widgets/controls",
       "_view_module_version": "1.5.0",
       "_view_name": "ProgressView",
       "bar_style": "success",
       "description": "",
       "description_tooltip": null,
       "layout": "IPY_MODEL_3ad016b316504b8cb340916a5f021871",
       "max": 2348,
       "min": 0,
       "orientation": "horizontal",
       "style": "IPY_MODEL_68ea400e04464ef994e880b79ddf8968",
       "value": 2348
      }
     },
     "39c07bae21944a19b9675c18741f6dbe": {
      "model_module": "@jupyter-widgets/base",
      "model_module_version": "1.2.0",
      "model_name": "LayoutModel",
      "state": {
       "_model_module": "@jupyter-widgets/base",
       "_model_module_version": "1.2.0",
       "_model_name": "LayoutModel",
       "_view_count": null,
       "_view_module": "@jupyter-widgets/base",
       "_view_module_version": "1.2.0",
       "_view_name": "LayoutView",
       "align_content": null,
       "align_items": null,
       "align_self": null,
       "border": null,
       "bottom": null,
       "display": null,
       "flex": null,
       "flex_flow": null,
       "grid_area": null,
       "grid_auto_columns": null,
       "grid_auto_flow": null,
       "grid_auto_rows": null,
       "grid_column": null,
       "grid_gap": null,
       "grid_row": null,
       "grid_template_areas": null,
       "grid_template_columns": null,
       "grid_template_rows": null,
       "height": null,
       "justify_content": null,
       "justify_items": null,
       "left": null,
       "margin": null,
       "max_height": null,
       "max_width": null,
       "min_height": null,
       "min_width": null,
       "object_fit": null,
       "object_position": null,
       "order": null,
       "overflow": null,
       "overflow_x": null,
       "overflow_y": null,
       "padding": null,
       "right": null,
       "top": null,
       "visibility": null,
       "width": null
      }
     },
     "3ad016b316504b8cb340916a5f021871": {
      "model_module": "@jupyter-widgets/base",
      "model_module_version": "1.2.0",
      "model_name": "LayoutModel",
      "state": {
       "_model_module": "@jupyter-widgets/base",
       "_model_module_version": "1.2.0",
       "_model_name": "LayoutModel",
       "_view_count": null,
       "_view_module": "@jupyter-widgets/base",
       "_view_module_version": "1.2.0",
       "_view_name": "LayoutView",
       "align_content": null,
       "align_items": null,
       "align_self": null,
       "border": null,
       "bottom": null,
       "display": null,
       "flex": null,
       "flex_flow": null,
       "grid_area": null,
       "grid_auto_columns": null,
       "grid_auto_flow": null,
       "grid_auto_rows": null,
       "grid_column": null,
       "grid_gap": null,
       "grid_row": null,
       "grid_template_areas": null,
       "grid_template_columns": null,
       "grid_template_rows": null,
       "height": null,
       "justify_content": null,
       "justify_items": null,
       "left": null,
       "margin": null,
       "max_height": null,
       "max_width": null,
       "min_height": null,
       "min_width": null,
       "object_fit": null,
       "object_position": null,
       "order": null,
       "overflow": null,
       "overflow_x": null,
       "overflow_y": null,
       "padding": null,
       "right": null,
       "top": null,
       "visibility": null,
       "width": null
      }
     },
     "3c6c6af4aee74ecd90e07e7659d74fcd": {
      "model_module": "@jupyter-widgets/controls",
      "model_module_version": "1.5.0",
      "model_name": "HBoxModel",
      "state": {
       "_dom_classes": [],
       "_model_module": "@jupyter-widgets/controls",
       "_model_module_version": "1.5.0",
       "_model_name": "HBoxModel",
       "_view_count": null,
       "_view_module": "@jupyter-widgets/controls",
       "_view_module_version": "1.5.0",
       "_view_name": "HBoxView",
       "box_style": "",
       "children": [
        "IPY_MODEL_a4ff6471eb884b86a119b686fbd73c7e",
        "IPY_MODEL_f345519973834d8d806991930f789527"
       ],
       "layout": "IPY_MODEL_d79d974cf51e4d719c1571a71ab2a959"
      }
     },
     "3e19ee81e14745c584106f88ac400d37": {
      "model_module": "@jupyter-widgets/base",
      "model_module_version": "1.2.0",
      "model_name": "LayoutModel",
      "state": {
       "_model_module": "@jupyter-widgets/base",
       "_model_module_version": "1.2.0",
       "_model_name": "LayoutModel",
       "_view_count": null,
       "_view_module": "@jupyter-widgets/base",
       "_view_module_version": "1.2.0",
       "_view_name": "LayoutView",
       "align_content": null,
       "align_items": null,
       "align_self": null,
       "border": null,
       "bottom": null,
       "display": null,
       "flex": null,
       "flex_flow": null,
       "grid_area": null,
       "grid_auto_columns": null,
       "grid_auto_flow": null,
       "grid_auto_rows": null,
       "grid_column": null,
       "grid_gap": null,
       "grid_row": null,
       "grid_template_areas": null,
       "grid_template_columns": null,
       "grid_template_rows": null,
       "height": null,
       "justify_content": null,
       "justify_items": null,
       "left": null,
       "margin": null,
       "max_height": null,
       "max_width": null,
       "min_height": null,
       "min_width": null,
       "object_fit": null,
       "object_position": null,
       "order": null,
       "overflow": null,
       "overflow_x": null,
       "overflow_y": null,
       "padding": null,
       "right": null,
       "top": null,
       "visibility": null,
       "width": null
      }
     },
     "3fed48911f444c1f8599ef8bd46b7a13": {
      "model_module": "@jupyter-widgets/controls",
      "model_module_version": "1.5.0",
      "model_name": "DescriptionStyleModel",
      "state": {
       "_model_module": "@jupyter-widgets/controls",
       "_model_module_version": "1.5.0",
       "_model_name": "DescriptionStyleModel",
       "_view_count": null,
       "_view_module": "@jupyter-widgets/base",
       "_view_module_version": "1.2.0",
       "_view_name": "StyleView",
       "description_width": ""
      }
     },
     "4181e97a87d745b3a6282fa78a505155": {
      "model_module": "@jupyter-widgets/controls",
      "model_module_version": "1.5.0",
      "model_name": "DescriptionStyleModel",
      "state": {
       "_model_module": "@jupyter-widgets/controls",
       "_model_module_version": "1.5.0",
       "_model_name": "DescriptionStyleModel",
       "_view_count": null,
       "_view_module": "@jupyter-widgets/base",
       "_view_module_version": "1.2.0",
       "_view_name": "StyleView",
       "description_width": ""
      }
     },
     "43a69ea64fb141e08ea3f78e62a7c9ec": {
      "model_module": "@jupyter-widgets/controls",
      "model_module_version": "1.5.0",
      "model_name": "FloatProgressModel",
      "state": {
       "_dom_classes": [],
       "_model_module": "@jupyter-widgets/controls",
       "_model_module_version": "1.5.0",
       "_model_name": "FloatProgressModel",
       "_view_count": null,
       "_view_module": "@jupyter-widgets/controls",
       "_view_module_version": "1.5.0",
       "_view_name": "ProgressView",
       "bar_style": "success",
       "description": "",
       "description_tooltip": null,
       "layout": "IPY_MODEL_5025266a849b4511b93658697c895ce8",
       "max": 869007403,
       "min": 0,
       "orientation": "horizontal",
       "style": "IPY_MODEL_d26f27b150874bec9ecb906ea0d549fc",
       "value": 869007403
      }
     },
     "4d72150b08744cb8b26d907097be1612": {
      "model_module": "@jupyter-widgets/controls",
      "model_module_version": "1.5.0",
      "model_name": "DescriptionStyleModel",
      "state": {
       "_model_module": "@jupyter-widgets/controls",
       "_model_module_version": "1.5.0",
       "_model_name": "DescriptionStyleModel",
       "_view_count": null,
       "_view_module": "@jupyter-widgets/base",
       "_view_module_version": "1.2.0",
       "_view_name": "StyleView",
       "description_width": ""
      }
     },
     "5025266a849b4511b93658697c895ce8": {
      "model_module": "@jupyter-widgets/base",
      "model_module_version": "1.2.0",
      "model_name": "LayoutModel",
      "state": {
       "_model_module": "@jupyter-widgets/base",
       "_model_module_version": "1.2.0",
       "_model_name": "LayoutModel",
       "_view_count": null,
       "_view_module": "@jupyter-widgets/base",
       "_view_module_version": "1.2.0",
       "_view_name": "LayoutView",
       "align_content": null,
       "align_items": null,
       "align_self": null,
       "border": null,
       "bottom": null,
       "display": null,
       "flex": null,
       "flex_flow": null,
       "grid_area": null,
       "grid_auto_columns": null,
       "grid_auto_flow": null,
       "grid_auto_rows": null,
       "grid_column": null,
       "grid_gap": null,
       "grid_row": null,
       "grid_template_areas": null,
       "grid_template_columns": null,
       "grid_template_rows": null,
       "height": null,
       "justify_content": null,
       "justify_items": null,
       "left": null,
       "margin": null,
       "max_height": null,
       "max_width": null,
       "min_height": null,
       "min_width": null,
       "object_fit": null,
       "object_position": null,
       "order": null,
       "overflow": null,
       "overflow_x": null,
       "overflow_y": null,
       "padding": null,
       "right": null,
       "top": null,
       "visibility": null,
       "width": null
      }
     },
     "5054f64b06fe47058f89a7deba802ba5": {
      "model_module": "@jupyter-widgets/controls",
      "model_module_version": "1.5.0",
      "model_name": "ProgressStyleModel",
      "state": {
       "_model_module": "@jupyter-widgets/controls",
       "_model_module_version": "1.5.0",
       "_model_name": "ProgressStyleModel",
       "_view_count": null,
       "_view_module": "@jupyter-widgets/base",
       "_view_module_version": "1.2.0",
       "_view_name": "StyleView",
       "bar_color": null,
       "description_width": "initial"
      }
     },
     "516c22456f05406badd3f046de5f5483": {
      "model_module": "@jupyter-widgets/controls",
      "model_module_version": "1.5.0",
      "model_name": "HTMLModel",
      "state": {
       "_dom_classes": [],
       "_model_module": "@jupyter-widgets/controls",
       "_model_module_version": "1.5.0",
       "_model_name": "HTMLModel",
       "_view_count": null,
       "_view_module": "@jupyter-widgets/controls",
       "_view_module_version": "1.5.0",
       "_view_name": "HTMLView",
       "description": "",
       "description_tooltip": null,
       "layout": "IPY_MODEL_669940f613614588821ac4113d4c19ca",
       "placeholder": "​",
       "style": "IPY_MODEL_9b4b789b15374fb995ad4cc629128c28",
       "value": "&lt;tqdm.auto.tqdm object at 0x7f79431dffd0&gt;"
      }
     },
     "53bdc52a8af943d9830f686500e05e98": {
      "model_module": "@jupyter-widgets/base",
      "model_module_version": "1.2.0",
      "model_name": "LayoutModel",
      "state": {
       "_model_module": "@jupyter-widgets/base",
       "_model_module_version": "1.2.0",
       "_model_name": "LayoutModel",
       "_view_count": null,
       "_view_module": "@jupyter-widgets/base",
       "_view_module_version": "1.2.0",
       "_view_name": "LayoutView",
       "align_content": null,
       "align_items": null,
       "align_self": null,
       "border": null,
       "bottom": null,
       "display": null,
       "flex": null,
       "flex_flow": null,
       "grid_area": null,
       "grid_auto_columns": null,
       "grid_auto_flow": null,
       "grid_auto_rows": null,
       "grid_column": null,
       "grid_gap": null,
       "grid_row": null,
       "grid_template_areas": null,
       "grid_template_columns": null,
       "grid_template_rows": null,
       "height": null,
       "justify_content": null,
       "justify_items": null,
       "left": null,
       "margin": null,
       "max_height": null,
       "max_width": null,
       "min_height": null,
       "min_width": null,
       "object_fit": null,
       "object_position": null,
       "order": null,
       "overflow": null,
       "overflow_x": null,
       "overflow_y": null,
       "padding": null,
       "right": null,
       "top": null,
       "visibility": null,
       "width": null
      }
     },
     "5a2e1a59c38548f2b15cb01307706538": {
      "model_module": "@jupyter-widgets/controls",
      "model_module_version": "1.5.0",
      "model_name": "HBoxModel",
      "state": {
       "_dom_classes": [],
       "_model_module": "@jupyter-widgets/controls",
       "_model_module_version": "1.5.0",
       "_model_name": "HBoxModel",
       "_view_count": null,
       "_view_module": "@jupyter-widgets/controls",
       "_view_module_version": "1.5.0",
       "_view_name": "HBoxView",
       "box_style": "",
       "children": [
        "IPY_MODEL_43a69ea64fb141e08ea3f78e62a7c9ec",
        "IPY_MODEL_ac9c0cad4ec34d5196888dc922c7b26e"
       ],
       "layout": "IPY_MODEL_2c1709378c434d5b999eddf9127b3716"
      }
     },
     "5a36b005f63d4514af68fba4f74f36ed": {
      "model_module": "@jupyter-widgets/controls",
      "model_module_version": "1.5.0",
      "model_name": "HBoxModel",
      "state": {
       "_dom_classes": [],
       "_model_module": "@jupyter-widgets/controls",
       "_model_module_version": "1.5.0",
       "_model_name": "HBoxModel",
       "_view_count": null,
       "_view_module": "@jupyter-widgets/controls",
       "_view_module_version": "1.5.0",
       "_view_name": "HBoxView",
       "box_style": "",
       "children": [
        "IPY_MODEL_309c3fad264a4b8aa0cb6bf2211370ed",
        "IPY_MODEL_99368dbed120407ea575e2aa0a51ec96"
       ],
       "layout": "IPY_MODEL_e2b39acfb90940f8ae2c7303e3c51962"
      }
     },
     "6042ad7350224c7488c8c4828437ef6a": {
      "model_module": "@jupyter-widgets/base",
      "model_module_version": "1.2.0",
      "model_name": "LayoutModel",
      "state": {
       "_model_module": "@jupyter-widgets/base",
       "_model_module_version": "1.2.0",
       "_model_name": "LayoutModel",
       "_view_count": null,
       "_view_module": "@jupyter-widgets/base",
       "_view_module_version": "1.2.0",
       "_view_name": "LayoutView",
       "align_content": null,
       "align_items": null,
       "align_self": null,
       "border": null,
       "bottom": null,
       "display": null,
       "flex": null,
       "flex_flow": null,
       "grid_area": null,
       "grid_auto_columns": null,
       "grid_auto_flow": null,
       "grid_auto_rows": null,
       "grid_column": null,
       "grid_gap": null,
       "grid_row": null,
       "grid_template_areas": null,
       "grid_template_columns": null,
       "grid_template_rows": null,
       "height": null,
       "justify_content": null,
       "justify_items": null,
       "left": null,
       "margin": null,
       "max_height": null,
       "max_width": null,
       "min_height": null,
       "min_width": null,
       "object_fit": null,
       "object_position": null,
       "order": null,
       "overflow": null,
       "overflow_x": null,
       "overflow_y": null,
       "padding": null,
       "right": null,
       "top": null,
       "visibility": null,
       "width": null
      }
     },
     "630bea444f1a4f9fb631567f9b980e9d": {
      "model_module": "@jupyter-widgets/base",
      "model_module_version": "1.2.0",
      "model_name": "LayoutModel",
      "state": {
       "_model_module": "@jupyter-widgets/base",
       "_model_module_version": "1.2.0",
       "_model_name": "LayoutModel",
       "_view_count": null,
       "_view_module": "@jupyter-widgets/base",
       "_view_module_version": "1.2.0",
       "_view_name": "LayoutView",
       "align_content": null,
       "align_items": null,
       "align_self": null,
       "border": null,
       "bottom": null,
       "display": null,
       "flex": null,
       "flex_flow": null,
       "grid_area": null,
       "grid_auto_columns": null,
       "grid_auto_flow": null,
       "grid_auto_rows": null,
       "grid_column": null,
       "grid_gap": null,
       "grid_row": null,
       "grid_template_areas": null,
       "grid_template_columns": null,
       "grid_template_rows": null,
       "height": null,
       "justify_content": null,
       "justify_items": null,
       "left": null,
       "margin": null,
       "max_height": null,
       "max_width": null,
       "min_height": null,
       "min_width": null,
       "object_fit": null,
       "object_position": null,
       "order": null,
       "overflow": null,
       "overflow_x": null,
       "overflow_y": null,
       "padding": null,
       "right": null,
       "top": null,
       "visibility": null,
       "width": null
      }
     },
     "656b9e6a5b7b43b089417de306523de8": {
      "model_module": "@jupyter-widgets/controls",
      "model_module_version": "1.5.0",
      "model_name": "FloatProgressModel",
      "state": {
       "_dom_classes": [],
       "_model_module": "@jupyter-widgets/controls",
       "_model_module_version": "1.5.0",
       "_model_name": "FloatProgressModel",
       "_view_count": null,
       "_view_module": "@jupyter-widgets/controls",
       "_view_module_version": "1.5.0",
       "_view_name": "ProgressView",
       "bar_style": "info",
       "description": "",
       "description_tooltip": null,
       "layout": "IPY_MODEL_d1e47b8969794548a92bf51f8a3247b3",
       "max": 1,
       "min": 0,
       "orientation": "horizontal",
       "style": "IPY_MODEL_7c561dd3549e49aca600562ecbbdd54c",
       "value": 1
      }
     },
     "669940f613614588821ac4113d4c19ca": {
      "model_module": "@jupyter-widgets/base",
      "model_module_version": "1.2.0",
      "model_name": "LayoutModel",
      "state": {
       "_model_module": "@jupyter-widgets/base",
       "_model_module_version": "1.2.0",
       "_model_name": "LayoutModel",
       "_view_count": null,
       "_view_module": "@jupyter-widgets/base",
       "_view_module_version": "1.2.0",
       "_view_name": "LayoutView",
       "align_content": null,
       "align_items": null,
       "align_self": null,
       "border": null,
       "bottom": null,
       "display": null,
       "flex": null,
       "flex_flow": null,
       "grid_area": null,
       "grid_auto_columns": null,
       "grid_auto_flow": null,
       "grid_auto_rows": null,
       "grid_column": null,
       "grid_gap": null,
       "grid_row": null,
       "grid_template_areas": null,
       "grid_template_columns": null,
       "grid_template_rows": null,
       "height": null,
       "justify_content": null,
       "justify_items": null,
       "left": null,
       "margin": null,
       "max_height": null,
       "max_width": null,
       "min_height": null,
       "min_width": null,
       "object_fit": null,
       "object_position": null,
       "order": null,
       "overflow": null,
       "overflow_x": null,
       "overflow_y": null,
       "padding": null,
       "right": null,
       "top": null,
       "visibility": null,
       "width": null
      }
     },
     "681ed8b709fd4a908d870e17e47cb6b9": {
      "model_module": "@jupyter-widgets/controls",
      "model_module_version": "1.5.0",
      "model_name": "DescriptionStyleModel",
      "state": {
       "_model_module": "@jupyter-widgets/controls",
       "_model_module_version": "1.5.0",
       "_model_name": "DescriptionStyleModel",
       "_view_count": null,
       "_view_module": "@jupyter-widgets/base",
       "_view_module_version": "1.2.0",
       "_view_name": "StyleView",
       "description_width": ""
      }
     },
     "68ea400e04464ef994e880b79ddf8968": {
      "model_module": "@jupyter-widgets/controls",
      "model_module_version": "1.5.0",
      "model_name": "ProgressStyleModel",
      "state": {
       "_model_module": "@jupyter-widgets/controls",
       "_model_module_version": "1.5.0",
       "_model_name": "ProgressStyleModel",
       "_view_count": null,
       "_view_module": "@jupyter-widgets/base",
       "_view_module_version": "1.2.0",
       "_view_name": "StyleView",
       "bar_color": null,
       "description_width": "initial"
      }
     },
     "6b09b4cdfb744f449507f9af20a9941d": {
      "model_module": "@jupyter-widgets/controls",
      "model_module_version": "1.5.0",
      "model_name": "FloatProgressModel",
      "state": {
       "_dom_classes": [],
       "_model_module": "@jupyter-widgets/controls",
       "_model_module_version": "1.5.0",
       "_model_name": "FloatProgressModel",
       "_view_count": null,
       "_view_module": "@jupyter-widgets/controls",
       "_view_module_version": "1.5.0",
       "_view_name": "ProgressView",
       "bar_style": "success",
       "description": "",
       "description_tooltip": null,
       "layout": "IPY_MODEL_245c286837914044b50f15537bd199ff",
       "max": 1680,
       "min": 0,
       "orientation": "horizontal",
       "style": "IPY_MODEL_807096cb132b403e8bda686a1202bdc6",
       "value": 1680
      }
     },
     "6c205676c2c54d40b55278cf7ae74923": {
      "model_module": "@jupyter-widgets/base",
      "model_module_version": "1.2.0",
      "model_name": "LayoutModel",
      "state": {
       "_model_module": "@jupyter-widgets/base",
       "_model_module_version": "1.2.0",
       "_model_name": "LayoutModel",
       "_view_count": null,
       "_view_module": "@jupyter-widgets/base",
       "_view_module_version": "1.2.0",
       "_view_name": "LayoutView",
       "align_content": null,
       "align_items": null,
       "align_self": null,
       "border": null,
       "bottom": null,
       "display": null,
       "flex": null,
       "flex_flow": null,
       "grid_area": null,
       "grid_auto_columns": null,
       "grid_auto_flow": null,
       "grid_auto_rows": null,
       "grid_column": null,
       "grid_gap": null,
       "grid_row": null,
       "grid_template_areas": null,
       "grid_template_columns": null,
       "grid_template_rows": null,
       "height": null,
       "justify_content": null,
       "justify_items": null,
       "left": null,
       "margin": null,
       "max_height": null,
       "max_width": null,
       "min_height": null,
       "min_width": null,
       "object_fit": null,
       "object_position": null,
       "order": null,
       "overflow": null,
       "overflow_x": null,
       "overflow_y": null,
       "padding": null,
       "right": null,
       "top": null,
       "visibility": null,
       "width": null
      }
     },
     "70b5d51be6e14b10bbfb5cf9385fbb94": {
      "model_module": "@jupyter-widgets/base",
      "model_module_version": "1.2.0",
      "model_name": "LayoutModel",
      "state": {
       "_model_module": "@jupyter-widgets/base",
       "_model_module_version": "1.2.0",
       "_model_name": "LayoutModel",
       "_view_count": null,
       "_view_module": "@jupyter-widgets/base",
       "_view_module_version": "1.2.0",
       "_view_name": "LayoutView",
       "align_content": null,
       "align_items": null,
       "align_self": null,
       "border": null,
       "bottom": null,
       "display": null,
       "flex": null,
       "flex_flow": null,
       "grid_area": null,
       "grid_auto_columns": null,
       "grid_auto_flow": null,
       "grid_auto_rows": null,
       "grid_column": null,
       "grid_gap": null,
       "grid_row": null,
       "grid_template_areas": null,
       "grid_template_columns": null,
       "grid_template_rows": null,
       "height": null,
       "justify_content": null,
       "justify_items": null,
       "left": null,
       "margin": null,
       "max_height": null,
       "max_width": null,
       "min_height": null,
       "min_width": null,
       "object_fit": null,
       "object_position": null,
       "order": null,
       "overflow": null,
       "overflow_x": null,
       "overflow_y": null,
       "padding": null,
       "right": null,
       "top": null,
       "visibility": null,
       "width": null
      }
     },
     "7586564a25854830961aa3b2b8fd07fd": {
      "model_module": "@jupyter-widgets/base",
      "model_module_version": "1.2.0",
      "model_name": "LayoutModel",
      "state": {
       "_model_module": "@jupyter-widgets/base",
       "_model_module_version": "1.2.0",
       "_model_name": "LayoutModel",
       "_view_count": null,
       "_view_module": "@jupyter-widgets/base",
       "_view_module_version": "1.2.0",
       "_view_name": "LayoutView",
       "align_content": null,
       "align_items": null,
       "align_self": null,
       "border": null,
       "bottom": null,
       "display": null,
       "flex": null,
       "flex_flow": null,
       "grid_area": null,
       "grid_auto_columns": null,
       "grid_auto_flow": null,
       "grid_auto_rows": null,
       "grid_column": null,
       "grid_gap": null,
       "grid_row": null,
       "grid_template_areas": null,
       "grid_template_columns": null,
       "grid_template_rows": null,
       "height": null,
       "justify_content": null,
       "justify_items": null,
       "left": null,
       "margin": null,
       "max_height": null,
       "max_width": null,
       "min_height": null,
       "min_width": null,
       "object_fit": null,
       "object_position": null,
       "order": null,
       "overflow": null,
       "overflow_x": null,
       "overflow_y": null,
       "padding": null,
       "right": null,
       "top": null,
       "visibility": null,
       "width": null
      }
     },
     "75e296870e7540c4bd258da94347f5d4": {
      "model_module": "@jupyter-widgets/controls",
      "model_module_version": "1.5.0",
      "model_name": "HTMLModel",
      "state": {
       "_dom_classes": [],
       "_model_module": "@jupyter-widgets/controls",
       "_model_module_version": "1.5.0",
       "_model_name": "HTMLModel",
       "_view_count": null,
       "_view_module": "@jupyter-widgets/controls",
       "_view_module_version": "1.5.0",
       "_view_name": "HTMLView",
       "description": "",
       "description_tooltip": null,
       "layout": "IPY_MODEL_7876c6bbc0c44e198c2fa0a869fabaa0",
       "placeholder": "​",
       "style": "IPY_MODEL_28e9b53a41254ca49bfb06309270779f",
       "value": "&lt;tqdm.auto.tqdm object at 0x7f7945109f90&gt;"
      }
     },
     "76ed50d93e854009843d5e2a87ab3e26": {
      "model_module": "@jupyter-widgets/base",
      "model_module_version": "1.2.0",
      "model_name": "LayoutModel",
      "state": {
       "_model_module": "@jupyter-widgets/base",
       "_model_module_version": "1.2.0",
       "_model_name": "LayoutModel",
       "_view_count": null,
       "_view_module": "@jupyter-widgets/base",
       "_view_module_version": "1.2.0",
       "_view_name": "LayoutView",
       "align_content": null,
       "align_items": null,
       "align_self": null,
       "border": null,
       "bottom": null,
       "display": null,
       "flex": null,
       "flex_flow": null,
       "grid_area": null,
       "grid_auto_columns": null,
       "grid_auto_flow": null,
       "grid_auto_rows": null,
       "grid_column": null,
       "grid_gap": null,
       "grid_row": null,
       "grid_template_areas": null,
       "grid_template_columns": null,
       "grid_template_rows": null,
       "height": null,
       "justify_content": null,
       "justify_items": null,
       "left": null,
       "margin": null,
       "max_height": null,
       "max_width": null,
       "min_height": null,
       "min_width": null,
       "object_fit": null,
       "object_position": null,
       "order": null,
       "overflow": null,
       "overflow_x": null,
       "overflow_y": null,
       "padding": null,
       "right": null,
       "top": null,
       "visibility": null,
       "width": null
      }
     },
     "77d2ddb85ec041cca3deec25f09b0c78": {
      "model_module": "@jupyter-widgets/base",
      "model_module_version": "1.2.0",
      "model_name": "LayoutModel",
      "state": {
       "_model_module": "@jupyter-widgets/base",
       "_model_module_version": "1.2.0",
       "_model_name": "LayoutModel",
       "_view_count": null,
       "_view_module": "@jupyter-widgets/base",
       "_view_module_version": "1.2.0",
       "_view_name": "LayoutView",
       "align_content": null,
       "align_items": null,
       "align_self": null,
       "border": null,
       "bottom": null,
       "display": null,
       "flex": null,
       "flex_flow": null,
       "grid_area": null,
       "grid_auto_columns": null,
       "grid_auto_flow": null,
       "grid_auto_rows": null,
       "grid_column": null,
       "grid_gap": null,
       "grid_row": null,
       "grid_template_areas": null,
       "grid_template_columns": null,
       "grid_template_rows": null,
       "height": null,
       "justify_content": null,
       "justify_items": null,
       "left": null,
       "margin": null,
       "max_height": null,
       "max_width": null,
       "min_height": null,
       "min_width": null,
       "object_fit": null,
       "object_position": null,
       "order": null,
       "overflow": null,
       "overflow_x": null,
       "overflow_y": null,
       "padding": null,
       "right": null,
       "top": null,
       "visibility": null,
       "width": null
      }
     },
     "7876c6bbc0c44e198c2fa0a869fabaa0": {
      "model_module": "@jupyter-widgets/base",
      "model_module_version": "1.2.0",
      "model_name": "LayoutModel",
      "state": {
       "_model_module": "@jupyter-widgets/base",
       "_model_module_version": "1.2.0",
       "_model_name": "LayoutModel",
       "_view_count": null,
       "_view_module": "@jupyter-widgets/base",
       "_view_module_version": "1.2.0",
       "_view_name": "LayoutView",
       "align_content": null,
       "align_items": null,
       "align_self": null,
       "border": null,
       "bottom": null,
       "display": null,
       "flex": null,
       "flex_flow": null,
       "grid_area": null,
       "grid_auto_columns": null,
       "grid_auto_flow": null,
       "grid_auto_rows": null,
       "grid_column": null,
       "grid_gap": null,
       "grid_row": null,
       "grid_template_areas": null,
       "grid_template_columns": null,
       "grid_template_rows": null,
       "height": null,
       "justify_content": null,
       "justify_items": null,
       "left": null,
       "margin": null,
       "max_height": null,
       "max_width": null,
       "min_height": null,
       "min_width": null,
       "object_fit": null,
       "object_position": null,
       "order": null,
       "overflow": null,
       "overflow_x": null,
       "overflow_y": null,
       "padding": null,
       "right": null,
       "top": null,
       "visibility": null,
       "width": null
      }
     },
     "7b9a258b1f424ff9950fe8ad722f3c5e": {
      "model_module": "@jupyter-widgets/controls",
      "model_module_version": "1.5.0",
      "model_name": "ProgressStyleModel",
      "state": {
       "_model_module": "@jupyter-widgets/controls",
       "_model_module_version": "1.5.0",
       "_model_name": "ProgressStyleModel",
       "_view_count": null,
       "_view_module": "@jupyter-widgets/base",
       "_view_module_version": "1.2.0",
       "_view_name": "StyleView",
       "bar_color": null,
       "description_width": "initial"
      }
     },
     "7c561dd3549e49aca600562ecbbdd54c": {
      "model_module": "@jupyter-widgets/controls",
      "model_module_version": "1.5.0",
      "model_name": "ProgressStyleModel",
      "state": {
       "_model_module": "@jupyter-widgets/controls",
       "_model_module_version": "1.5.0",
       "_model_name": "ProgressStyleModel",
       "_view_count": null,
       "_view_module": "@jupyter-widgets/base",
       "_view_module_version": "1.2.0",
       "_view_name": "StyleView",
       "bar_color": null,
       "description_width": "initial"
      }
     },
     "7d006bbf8d584fc785d23394677819c7": {
      "model_module": "@jupyter-widgets/base",
      "model_module_version": "1.2.0",
      "model_name": "LayoutModel",
      "state": {
       "_model_module": "@jupyter-widgets/base",
       "_model_module_version": "1.2.0",
       "_model_name": "LayoutModel",
       "_view_count": null,
       "_view_module": "@jupyter-widgets/base",
       "_view_module_version": "1.2.0",
       "_view_name": "LayoutView",
       "align_content": null,
       "align_items": null,
       "align_self": null,
       "border": null,
       "bottom": null,
       "display": null,
       "flex": null,
       "flex_flow": null,
       "grid_area": null,
       "grid_auto_columns": null,
       "grid_auto_flow": null,
       "grid_auto_rows": null,
       "grid_column": null,
       "grid_gap": null,
       "grid_row": null,
       "grid_template_areas": null,
       "grid_template_columns": null,
       "grid_template_rows": null,
       "height": null,
       "justify_content": null,
       "justify_items": null,
       "left": null,
       "margin": null,
       "max_height": null,
       "max_width": null,
       "min_height": null,
       "min_width": null,
       "object_fit": null,
       "object_position": null,
       "order": null,
       "overflow": null,
       "overflow_x": null,
       "overflow_y": null,
       "padding": null,
       "right": null,
       "top": null,
       "visibility": null,
       "width": "20px"
      }
     },
     "7eb58589a3b04dbba69c31dfa52a8efc": {
      "model_module": "@jupyter-widgets/controls",
      "model_module_version": "1.5.0",
      "model_name": "DescriptionStyleModel",
      "state": {
       "_model_module": "@jupyter-widgets/controls",
       "_model_module_version": "1.5.0",
       "_model_name": "DescriptionStyleModel",
       "_view_count": null,
       "_view_module": "@jupyter-widgets/base",
       "_view_module_version": "1.2.0",
       "_view_name": "StyleView",
       "description_width": ""
      }
     },
     "7ff98ab710634d808be93053d5ca1739": {
      "model_module": "@jupyter-widgets/controls",
      "model_module_version": "1.5.0",
      "model_name": "HTMLModel",
      "state": {
       "_dom_classes": [],
       "_model_module": "@jupyter-widgets/controls",
       "_model_module_version": "1.5.0",
       "_model_name": "HTMLModel",
       "_view_count": null,
       "_view_module": "@jupyter-widgets/controls",
       "_view_module_version": "1.5.0",
       "_view_name": "HTMLView",
       "description": "",
       "description_tooltip": null,
       "layout": "IPY_MODEL_14ef159cb86045a1af4f7dd4ba7a4c97",
       "placeholder": "​",
       "style": "IPY_MODEL_bd64d2ea7eca4a86ba02aaacc1f22ce6",
       "value": "&lt;tqdm.auto.tqdm object at 0x7f79432214d0&gt;"
      }
     },
     "807096cb132b403e8bda686a1202bdc6": {
      "model_module": "@jupyter-widgets/controls",
      "model_module_version": "1.5.0",
      "model_name": "ProgressStyleModel",
      "state": {
       "_model_module": "@jupyter-widgets/controls",
       "_model_module_version": "1.5.0",
       "_model_name": "ProgressStyleModel",
       "_view_count": null,
       "_view_module": "@jupyter-widgets/base",
       "_view_module_version": "1.2.0",
       "_view_name": "StyleView",
       "bar_color": null,
       "description_width": "initial"
      }
     },
     "8406b58e6b0149ccac1b1d76d5002a11": {
      "model_module": "@jupyter-widgets/controls",
      "model_module_version": "1.5.0",
      "model_name": "FloatProgressModel",
      "state": {
       "_dom_classes": [],
       "_model_module": "@jupyter-widgets/controls",
       "_model_module_version": "1.5.0",
       "_model_name": "FloatProgressModel",
       "_view_count": null,
       "_view_module": "@jupyter-widgets/controls",
       "_view_module_version": "1.5.0",
       "_view_name": "ProgressView",
       "bar_style": "success",
       "description": "",
       "description_tooltip": null,
       "layout": "IPY_MODEL_1ddb2250cf064f1c93875b5170232196",
       "max": 1680,
       "min": 0,
       "orientation": "horizontal",
       "style": "IPY_MODEL_9ce3b55749434511aabb4623af14bb08",
       "value": 1680
      }
     },
     "85eaf02f13664303889085a353c171db": {
      "model_module": "@jupyter-widgets/controls",
      "model_module_version": "1.5.0",
      "model_name": "ProgressStyleModel",
      "state": {
       "_model_module": "@jupyter-widgets/controls",
       "_model_module_version": "1.5.0",
       "_model_name": "ProgressStyleModel",
       "_view_count": null,
       "_view_module": "@jupyter-widgets/base",
       "_view_module_version": "1.2.0",
       "_view_name": "StyleView",
       "bar_color": null,
       "description_width": "initial"
      }
     },
     "87189d6d344b48a4b893d8a344c2a538": {
      "model_module": "@jupyter-widgets/controls",
      "model_module_version": "1.5.0",
      "model_name": "HTMLModel",
      "state": {
       "_dom_classes": [],
       "_model_module": "@jupyter-widgets/controls",
       "_model_module_version": "1.5.0",
       "_model_name": "HTMLModel",
       "_view_count": null,
       "_view_module": "@jupyter-widgets/controls",
       "_view_module_version": "1.5.0",
       "_view_name": "HTMLView",
       "description": "",
       "description_tooltip": null,
       "layout": "IPY_MODEL_3e19ee81e14745c584106f88ac400d37",
       "placeholder": "​",
       "style": "IPY_MODEL_3fed48911f444c1f8599ef8bd46b7a13",
       "value": "&lt;tqdm.auto.tqdm object at 0x7f7a055cb8d0&gt;"
      }
     },
     "8b367e1c15b5474d920e619c346cc18c": {
      "model_module": "@jupyter-widgets/controls",
      "model_module_version": "1.5.0",
      "model_name": "FloatProgressModel",
      "state": {
       "_dom_classes": [],
       "_model_module": "@jupyter-widgets/controls",
       "_model_module_version": "1.5.0",
       "_model_name": "FloatProgressModel",
       "_view_count": null,
       "_view_module": "@jupyter-widgets/controls",
       "_view_module_version": "1.5.0",
       "_view_name": "ProgressView",
       "bar_style": "success",
       "description": "",
       "description_tooltip": null,
       "layout": "IPY_MODEL_2fdb2e73cc064b8d9383a7f636421620",
       "max": 4620,
       "min": 0,
       "orientation": "horizontal",
       "style": "IPY_MODEL_baf29f072e5546718da97521a57d4829",
       "value": 4620
      }
     },
     "915e00cd2d8349458e7feb004803f16b": {
      "model_module": "@jupyter-widgets/base",
      "model_module_version": "1.2.0",
      "model_name": "LayoutModel",
      "state": {
       "_model_module": "@jupyter-widgets/base",
       "_model_module_version": "1.2.0",
       "_model_name": "LayoutModel",
       "_view_count": null,
       "_view_module": "@jupyter-widgets/base",
       "_view_module_version": "1.2.0",
       "_view_name": "LayoutView",
       "align_content": null,
       "align_items": null,
       "align_self": null,
       "border": null,
       "bottom": null,
       "display": null,
       "flex": null,
       "flex_flow": null,
       "grid_area": null,
       "grid_auto_columns": null,
       "grid_auto_flow": null,
       "grid_auto_rows": null,
       "grid_column": null,
       "grid_gap": null,
       "grid_row": null,
       "grid_template_areas": null,
       "grid_template_columns": null,
       "grid_template_rows": null,
       "height": null,
       "justify_content": null,
       "justify_items": null,
       "left": null,
       "margin": null,
       "max_height": null,
       "max_width": null,
       "min_height": null,
       "min_width": null,
       "object_fit": null,
       "object_position": null,
       "order": null,
       "overflow": null,
       "overflow_x": null,
       "overflow_y": null,
       "padding": null,
       "right": null,
       "top": null,
       "visibility": null,
       "width": null
      }
     },
     "94faa46ce57e4169a78fc351cd2eb2b6": {
      "model_module": "@jupyter-widgets/controls",
      "model_module_version": "1.5.0",
      "model_name": "DescriptionStyleModel",
      "state": {
       "_model_module": "@jupyter-widgets/controls",
       "_model_module_version": "1.5.0",
       "_model_name": "DescriptionStyleModel",
       "_view_count": null,
       "_view_module": "@jupyter-widgets/base",
       "_view_module_version": "1.2.0",
       "_view_name": "StyleView",
       "description_width": ""
      }
     },
     "9533d72bed16441cb8bfe7a99355e0f5": {
      "model_module": "@jupyter-widgets/base",
      "model_module_version": "1.2.0",
      "model_name": "LayoutModel",
      "state": {
       "_model_module": "@jupyter-widgets/base",
       "_model_module_version": "1.2.0",
       "_model_name": "LayoutModel",
       "_view_count": null,
       "_view_module": "@jupyter-widgets/base",
       "_view_module_version": "1.2.0",
       "_view_name": "LayoutView",
       "align_content": null,
       "align_items": null,
       "align_self": null,
       "border": null,
       "bottom": null,
       "display": null,
       "flex": null,
       "flex_flow": null,
       "grid_area": null,
       "grid_auto_columns": null,
       "grid_auto_flow": null,
       "grid_auto_rows": null,
       "grid_column": null,
       "grid_gap": null,
       "grid_row": null,
       "grid_template_areas": null,
       "grid_template_columns": null,
       "grid_template_rows": null,
       "height": null,
       "justify_content": null,
       "justify_items": null,
       "left": null,
       "margin": null,
       "max_height": null,
       "max_width": null,
       "min_height": null,
       "min_width": null,
       "object_fit": null,
       "object_position": null,
       "order": null,
       "overflow": null,
       "overflow_x": null,
       "overflow_y": null,
       "padding": null,
       "right": null,
       "top": null,
       "visibility": null,
       "width": null
      }
     },
     "9563c14e19754be4ba171efb64970283": {
      "model_module": "@jupyter-widgets/controls",
      "model_module_version": "1.5.0",
      "model_name": "HTMLModel",
      "state": {
       "_dom_classes": [],
       "_model_module": "@jupyter-widgets/controls",
       "_model_module_version": "1.5.0",
       "_model_name": "HTMLModel",
       "_view_count": null,
       "_view_module": "@jupyter-widgets/controls",
       "_view_module_version": "1.5.0",
       "_view_name": "HTMLView",
       "description": "",
       "description_tooltip": null,
       "layout": "IPY_MODEL_ee4293db8fb346ea81794b71adbf4f73",
       "placeholder": "​",
       "style": "IPY_MODEL_021aa6fff72d4436ac5bf1a9c7e8de3a",
       "value": "&lt;tqdm.auto.tqdm object at 0x7f782c6731d0&gt;"
      }
     },
     "99368dbed120407ea575e2aa0a51ec96": {
      "model_module": "@jupyter-widgets/controls",
      "model_module_version": "1.5.0",
      "model_name": "HTMLModel",
      "state": {
       "_dom_classes": [],
       "_model_module": "@jupyter-widgets/controls",
       "_model_module_version": "1.5.0",
       "_model_name": "HTMLModel",
       "_view_count": null,
       "_view_module": "@jupyter-widgets/controls",
       "_view_module_version": "1.5.0",
       "_view_name": "HTMLView",
       "description": "",
       "description_tooltip": null,
       "layout": "IPY_MODEL_7586564a25854830961aa3b2b8fd07fd",
       "placeholder": "​",
       "style": "IPY_MODEL_681ed8b709fd4a908d870e17e47cb6b9",
       "value": "&lt;tqdm.auto.tqdm object at 0x7f7a0688a0d0&gt;"
      }
     },
     "9b4b789b15374fb995ad4cc629128c28": {
      "model_module": "@jupyter-widgets/controls",
      "model_module_version": "1.5.0",
      "model_name": "DescriptionStyleModel",
      "state": {
       "_model_module": "@jupyter-widgets/controls",
       "_model_module_version": "1.5.0",
       "_model_name": "DescriptionStyleModel",
       "_view_count": null,
       "_view_module": "@jupyter-widgets/base",
       "_view_module_version": "1.2.0",
       "_view_name": "StyleView",
       "description_width": ""
      }
     },
     "9c5958bdc2514ce3b7cf62149d37ad0f": {
      "model_module": "@jupyter-widgets/controls",
      "model_module_version": "1.5.0",
      "model_name": "FloatProgressModel",
      "state": {
       "_dom_classes": [],
       "_model_module": "@jupyter-widgets/controls",
       "_model_module_version": "1.5.0",
       "_model_name": "FloatProgressModel",
       "_view_count": null,
       "_view_module": "@jupyter-widgets/controls",
       "_view_module_version": "1.5.0",
       "_view_name": "ProgressView",
       "bar_style": "success",
       "description": "",
       "description_tooltip": null,
       "layout": "IPY_MODEL_18d6bdd0c32c442ebc2f625364ef566e",
       "max": 1,
       "min": 0,
       "orientation": "horizontal",
       "style": "IPY_MODEL_7b9a258b1f424ff9950fe8ad722f3c5e",
       "value": 1
      }
     },
     "9ce3b55749434511aabb4623af14bb08": {
      "model_module": "@jupyter-widgets/controls",
      "model_module_version": "1.5.0",
      "model_name": "ProgressStyleModel",
      "state": {
       "_model_module": "@jupyter-widgets/controls",
       "_model_module_version": "1.5.0",
       "_model_name": "ProgressStyleModel",
       "_view_count": null,
       "_view_module": "@jupyter-widgets/base",
       "_view_module_version": "1.2.0",
       "_view_name": "StyleView",
       "bar_color": null,
       "description_width": "initial"
      }
     },
     "9dd0a664fea942778a41a7c55ced5d3e": {
      "model_module": "@jupyter-widgets/controls",
      "model_module_version": "1.5.0",
      "model_name": "HBoxModel",
      "state": {
       "_dom_classes": [],
       "_model_module": "@jupyter-widgets/controls",
       "_model_module_version": "1.5.0",
       "_model_name": "HBoxModel",
       "_view_count": null,
       "_view_module": "@jupyter-widgets/controls",
       "_view_module_version": "1.5.0",
       "_view_name": "HBoxView",
       "box_style": "",
       "children": [
        "IPY_MODEL_8b367e1c15b5474d920e619c346cc18c",
        "IPY_MODEL_ce3b32ff69f6456db0409b0db1a07d2b"
       ],
       "layout": "IPY_MODEL_6042ad7350224c7488c8c4828437ef6a"
      }
     },
     "a06b03fbef674006922cdf66b0ce4fda": {
      "model_module": "@jupyter-widgets/controls",
      "model_module_version": "1.5.0",
      "model_name": "FloatProgressModel",
      "state": {
       "_dom_classes": [],
       "_model_module": "@jupyter-widgets/controls",
       "_model_module_version": "1.5.0",
       "_model_name": "FloatProgressModel",
       "_view_count": null,
       "_view_module": "@jupyter-widgets/controls",
       "_view_module_version": "1.5.0",
       "_view_name": "ProgressView",
       "bar_style": "success",
       "description": "",
       "description_tooltip": null,
       "layout": "IPY_MODEL_13209840ce814df5810212d8c5614c09",
       "max": 1764,
       "min": 0,
       "orientation": "horizontal",
       "style": "IPY_MODEL_85eaf02f13664303889085a353c171db",
       "value": 1764
      }
     },
     "a283d4ea8ca445658d91953ad35ecb8b": {
      "model_module": "@jupyter-widgets/controls",
      "model_module_version": "1.5.0",
      "model_name": "HBoxModel",
      "state": {
       "_dom_classes": [],
       "_model_module": "@jupyter-widgets/controls",
       "_model_module_version": "1.5.0",
       "_model_name": "HBoxModel",
       "_view_count": null,
       "_view_module": "@jupyter-widgets/controls",
       "_view_module_version": "1.5.0",
       "_view_name": "HBoxView",
       "box_style": "",
       "children": [
        "IPY_MODEL_9c5958bdc2514ce3b7cf62149d37ad0f",
        "IPY_MODEL_516c22456f05406badd3f046de5f5483"
       ],
       "layout": "IPY_MODEL_39c07bae21944a19b9675c18741f6dbe"
      }
     },
     "a47d82b993354bc584ecd9ec11a8f13d": {
      "model_module": "@jupyter-widgets/base",
      "model_module_version": "1.2.0",
      "model_name": "LayoutModel",
      "state": {
       "_model_module": "@jupyter-widgets/base",
       "_model_module_version": "1.2.0",
       "_model_name": "LayoutModel",
       "_view_count": null,
       "_view_module": "@jupyter-widgets/base",
       "_view_module_version": "1.2.0",
       "_view_name": "LayoutView",
       "align_content": null,
       "align_items": null,
       "align_self": null,
       "border": null,
       "bottom": null,
       "display": null,
       "flex": null,
       "flex_flow": null,
       "grid_area": null,
       "grid_auto_columns": null,
       "grid_auto_flow": null,
       "grid_auto_rows": null,
       "grid_column": null,
       "grid_gap": null,
       "grid_row": null,
       "grid_template_areas": null,
       "grid_template_columns": null,
       "grid_template_rows": null,
       "height": null,
       "justify_content": null,
       "justify_items": null,
       "left": null,
       "margin": null,
       "max_height": null,
       "max_width": null,
       "min_height": null,
       "min_width": null,
       "object_fit": null,
       "object_position": null,
       "order": null,
       "overflow": null,
       "overflow_x": null,
       "overflow_y": null,
       "padding": null,
       "right": null,
       "top": null,
       "visibility": null,
       "width": null
      }
     },
     "a4ff6471eb884b86a119b686fbd73c7e": {
      "model_module": "@jupyter-widgets/controls",
      "model_module_version": "1.5.0",
      "model_name": "FloatProgressModel",
      "state": {
       "_dom_classes": [],
       "_model_module": "@jupyter-widgets/controls",
       "_model_module_version": "1.5.0",
       "_model_name": "FloatProgressModel",
       "_view_count": null,
       "_view_module": "@jupyter-widgets/controls",
       "_view_module_version": "1.5.0",
       "_view_name": "ProgressView",
       "bar_style": "info",
       "description": "",
       "description_tooltip": null,
       "layout": "IPY_MODEL_7d006bbf8d584fc785d23394677819c7",
       "max": 1,
       "min": 0,
       "orientation": "horizontal",
       "style": "IPY_MODEL_5054f64b06fe47058f89a7deba802ba5",
       "value": 1
      }
     },
     "a7337cfc95764fe3b2c07f751857a0f2": {
      "model_module": "@jupyter-widgets/base",
      "model_module_version": "1.2.0",
      "model_name": "LayoutModel",
      "state": {
       "_model_module": "@jupyter-widgets/base",
       "_model_module_version": "1.2.0",
       "_model_name": "LayoutModel",
       "_view_count": null,
       "_view_module": "@jupyter-widgets/base",
       "_view_module_version": "1.2.0",
       "_view_name": "LayoutView",
       "align_content": null,
       "align_items": null,
       "align_self": null,
       "border": null,
       "bottom": null,
       "display": null,
       "flex": null,
       "flex_flow": null,
       "grid_area": null,
       "grid_auto_columns": null,
       "grid_auto_flow": null,
       "grid_auto_rows": null,
       "grid_column": null,
       "grid_gap": null,
       "grid_row": null,
       "grid_template_areas": null,
       "grid_template_columns": null,
       "grid_template_rows": null,
       "height": null,
       "justify_content": null,
       "justify_items": null,
       "left": null,
       "margin": null,
       "max_height": null,
       "max_width": null,
       "min_height": null,
       "min_width": null,
       "object_fit": null,
       "object_position": null,
       "order": null,
       "overflow": null,
       "overflow_x": null,
       "overflow_y": null,
       "padding": null,
       "right": null,
       "top": null,
       "visibility": null,
       "width": null
      }
     },
     "ac9c0cad4ec34d5196888dc922c7b26e": {
      "model_module": "@jupyter-widgets/controls",
      "model_module_version": "1.5.0",
      "model_name": "HTMLModel",
      "state": {
       "_dom_classes": [],
       "_model_module": "@jupyter-widgets/controls",
       "_model_module_version": "1.5.0",
       "_model_name": "HTMLModel",
       "_view_count": null,
       "_view_module": "@jupyter-widgets/controls",
       "_view_module_version": "1.5.0",
       "_view_name": "HTMLView",
       "description": "",
       "description_tooltip": null,
       "layout": "IPY_MODEL_100023d572dc44b99707a1174776e6a3",
       "placeholder": "​",
       "style": "IPY_MODEL_cb6e1ca1a0ed44ebbd87565db6247ac7",
       "value": "&lt;tqdm.auto.tqdm object at 0x7f7a052d3990&gt;"
      }
     },
     "aceb63de4a08461796cb5e1dda8c7175": {
      "model_module": "@jupyter-widgets/controls",
      "model_module_version": "1.5.0",
      "model_name": "HBoxModel",
      "state": {
       "_dom_classes": [],
       "_model_module": "@jupyter-widgets/controls",
       "_model_module_version": "1.5.0",
       "_model_name": "HBoxModel",
       "_view_count": null,
       "_view_module": "@jupyter-widgets/controls",
       "_view_module_version": "1.5.0",
       "_view_name": "HBoxView",
       "box_style": "",
       "children": [
        "IPY_MODEL_6b09b4cdfb744f449507f9af20a9941d",
        "IPY_MODEL_75e296870e7540c4bd258da94347f5d4"
       ],
       "layout": "IPY_MODEL_e98b25b2477b4168b6b0e46dda30a3bd"
      }
     },
     "ae70a771c8394ba3902d1ca5fd5742ef": {
      "model_module": "@jupyter-widgets/base",
      "model_module_version": "1.2.0",
      "model_name": "LayoutModel",
      "state": {
       "_model_module": "@jupyter-widgets/base",
       "_model_module_version": "1.2.0",
       "_model_name": "LayoutModel",
       "_view_count": null,
       "_view_module": "@jupyter-widgets/base",
       "_view_module_version": "1.2.0",
       "_view_name": "LayoutView",
       "align_content": null,
       "align_items": null,
       "align_self": null,
       "border": null,
       "bottom": null,
       "display": null,
       "flex": null,
       "flex_flow": null,
       "grid_area": null,
       "grid_auto_columns": null,
       "grid_auto_flow": null,
       "grid_auto_rows": null,
       "grid_column": null,
       "grid_gap": null,
       "grid_row": null,
       "grid_template_areas": null,
       "grid_template_columns": null,
       "grid_template_rows": null,
       "height": null,
       "justify_content": null,
       "justify_items": null,
       "left": null,
       "margin": null,
       "max_height": null,
       "max_width": null,
       "min_height": null,
       "min_width": null,
       "object_fit": null,
       "object_position": null,
       "order": null,
       "overflow": null,
       "overflow_x": null,
       "overflow_y": null,
       "padding": null,
       "right": null,
       "top": null,
       "visibility": null,
       "width": null
      }
     },
     "b2878b27a42e4a2eafb956054059f2a3": {
      "model_module": "@jupyter-widgets/controls",
      "model_module_version": "1.5.0",
      "model_name": "DescriptionStyleModel",
      "state": {
       "_model_module": "@jupyter-widgets/controls",
       "_model_module_version": "1.5.0",
       "_model_name": "DescriptionStyleModel",
       "_view_count": null,
       "_view_module": "@jupyter-widgets/base",
       "_view_module_version": "1.2.0",
       "_view_name": "StyleView",
       "description_width": ""
      }
     },
     "b9d9374318d44dbd8ec6d716728fccd1": {
      "model_module": "@jupyter-widgets/base",
      "model_module_version": "1.2.0",
      "model_name": "LayoutModel",
      "state": {
       "_model_module": "@jupyter-widgets/base",
       "_model_module_version": "1.2.0",
       "_model_name": "LayoutModel",
       "_view_count": null,
       "_view_module": "@jupyter-widgets/base",
       "_view_module_version": "1.2.0",
       "_view_name": "LayoutView",
       "align_content": null,
       "align_items": null,
       "align_self": null,
       "border": null,
       "bottom": null,
       "display": null,
       "flex": null,
       "flex_flow": null,
       "grid_area": null,
       "grid_auto_columns": null,
       "grid_auto_flow": null,
       "grid_auto_rows": null,
       "grid_column": null,
       "grid_gap": null,
       "grid_row": null,
       "grid_template_areas": null,
       "grid_template_columns": null,
       "grid_template_rows": null,
       "height": null,
       "justify_content": null,
       "justify_items": null,
       "left": null,
       "margin": null,
       "max_height": null,
       "max_width": null,
       "min_height": null,
       "min_width": null,
       "object_fit": null,
       "object_position": null,
       "order": null,
       "overflow": null,
       "overflow_x": null,
       "overflow_y": null,
       "padding": null,
       "right": null,
       "top": null,
       "visibility": null,
       "width": null
      }
     },
     "baf29f072e5546718da97521a57d4829": {
      "model_module": "@jupyter-widgets/controls",
      "model_module_version": "1.5.0",
      "model_name": "ProgressStyleModel",
      "state": {
       "_model_module": "@jupyter-widgets/controls",
       "_model_module_version": "1.5.0",
       "_model_name": "ProgressStyleModel",
       "_view_count": null,
       "_view_module": "@jupyter-widgets/base",
       "_view_module_version": "1.2.0",
       "_view_name": "StyleView",
       "bar_color": null,
       "description_width": "initial"
      }
     },
     "bd64d2ea7eca4a86ba02aaacc1f22ce6": {
      "model_module": "@jupyter-widgets/controls",
      "model_module_version": "1.5.0",
      "model_name": "DescriptionStyleModel",
      "state": {
       "_model_module": "@jupyter-widgets/controls",
       "_model_module_version": "1.5.0",
       "_model_name": "DescriptionStyleModel",
       "_view_count": null,
       "_view_module": "@jupyter-widgets/base",
       "_view_module_version": "1.2.0",
       "_view_name": "StyleView",
       "description_width": ""
      }
     },
     "c0e57dbbc09a4842b0dbee735d91f1aa": {
      "model_module": "@jupyter-widgets/controls",
      "model_module_version": "1.5.0",
      "model_name": "HBoxModel",
      "state": {
       "_dom_classes": [],
       "_model_module": "@jupyter-widgets/controls",
       "_model_module_version": "1.5.0",
       "_model_name": "HBoxModel",
       "_view_count": null,
       "_view_module": "@jupyter-widgets/controls",
       "_view_module_version": "1.5.0",
       "_view_name": "HBoxView",
       "box_style": "",
       "children": [
        "IPY_MODEL_d90dbf17997a40cdaa9643e80c448157",
        "IPY_MODEL_2140705c120946cda01ffffa82e975d7"
       ],
       "layout": "IPY_MODEL_a47d82b993354bc584ecd9ec11a8f13d"
      }
     },
     "c5e511d66ad143d2976ef81f2dd8dcf1": {
      "model_module": "@jupyter-widgets/controls",
      "model_module_version": "1.5.0",
      "model_name": "ProgressStyleModel",
      "state": {
       "_model_module": "@jupyter-widgets/controls",
       "_model_module_version": "1.5.0",
       "_model_name": "ProgressStyleModel",
       "_view_count": null,
       "_view_module": "@jupyter-widgets/base",
       "_view_module_version": "1.2.0",
       "_view_name": "StyleView",
       "bar_color": null,
       "description_width": "initial"
      }
     },
     "cb6e1ca1a0ed44ebbd87565db6247ac7": {
      "model_module": "@jupyter-widgets/controls",
      "model_module_version": "1.5.0",
      "model_name": "DescriptionStyleModel",
      "state": {
       "_model_module": "@jupyter-widgets/controls",
       "_model_module_version": "1.5.0",
       "_model_name": "DescriptionStyleModel",
       "_view_count": null,
       "_view_module": "@jupyter-widgets/base",
       "_view_module_version": "1.2.0",
       "_view_name": "StyleView",
       "description_width": ""
      }
     },
     "ce3b32ff69f6456db0409b0db1a07d2b": {
      "model_module": "@jupyter-widgets/controls",
      "model_module_version": "1.5.0",
      "model_name": "HTMLModel",
      "state": {
       "_dom_classes": [],
       "_model_module": "@jupyter-widgets/controls",
       "_model_module_version": "1.5.0",
       "_model_name": "HTMLModel",
       "_view_count": null,
       "_view_module": "@jupyter-widgets/controls",
       "_view_module_version": "1.5.0",
       "_view_name": "HTMLView",
       "description": "",
       "description_tooltip": null,
       "layout": "IPY_MODEL_a7337cfc95764fe3b2c07f751857a0f2",
       "placeholder": "​",
       "style": "IPY_MODEL_cf6af4a1b5484fe5bd08ac5029927817",
       "value": "&lt;tqdm.auto.tqdm object at 0x7f794324bb10&gt;"
      }
     },
     "cf6af4a1b5484fe5bd08ac5029927817": {
      "model_module": "@jupyter-widgets/controls",
      "model_module_version": "1.5.0",
      "model_name": "DescriptionStyleModel",
      "state": {
       "_model_module": "@jupyter-widgets/controls",
       "_model_module_version": "1.5.0",
       "_model_name": "DescriptionStyleModel",
       "_view_count": null,
       "_view_module": "@jupyter-widgets/base",
       "_view_module_version": "1.2.0",
       "_view_name": "StyleView",
       "description_width": ""
      }
     },
     "d160104f1a3d441cbdd3e9602dd51749": {
      "model_module": "@jupyter-widgets/controls",
      "model_module_version": "1.5.0",
      "model_name": "FloatProgressModel",
      "state": {
       "_dom_classes": [],
       "_model_module": "@jupyter-widgets/controls",
       "_model_module_version": "1.5.0",
       "_model_name": "FloatProgressModel",
       "_view_count": null,
       "_view_module": "@jupyter-widgets/controls",
       "_view_module_version": "1.5.0",
       "_view_name": "ProgressView",
       "bar_style": "success",
       "description": "",
       "description_tooltip": null,
       "layout": "IPY_MODEL_6c205676c2c54d40b55278cf7ae74923",
       "max": 1006,
       "min": 0,
       "orientation": "horizontal",
       "style": "IPY_MODEL_09626b389b8a4df3a66e6e23b38b05fb",
       "value": 1006
      }
     },
     "d1e47b8969794548a92bf51f8a3247b3": {
      "model_module": "@jupyter-widgets/base",
      "model_module_version": "1.2.0",
      "model_name": "LayoutModel",
      "state": {
       "_model_module": "@jupyter-widgets/base",
       "_model_module_version": "1.2.0",
       "_model_name": "LayoutModel",
       "_view_count": null,
       "_view_module": "@jupyter-widgets/base",
       "_view_module_version": "1.2.0",
       "_view_name": "LayoutView",
       "align_content": null,
       "align_items": null,
       "align_self": null,
       "border": null,
       "bottom": null,
       "display": null,
       "flex": null,
       "flex_flow": null,
       "grid_area": null,
       "grid_auto_columns": null,
       "grid_auto_flow": null,
       "grid_auto_rows": null,
       "grid_column": null,
       "grid_gap": null,
       "grid_row": null,
       "grid_template_areas": null,
       "grid_template_columns": null,
       "grid_template_rows": null,
       "height": null,
       "justify_content": null,
       "justify_items": null,
       "left": null,
       "margin": null,
       "max_height": null,
       "max_width": null,
       "min_height": null,
       "min_width": null,
       "object_fit": null,
       "object_position": null,
       "order": null,
       "overflow": null,
       "overflow_x": null,
       "overflow_y": null,
       "padding": null,
       "right": null,
       "top": null,
       "visibility": null,
       "width": "20px"
      }
     },
     "d2246a51c84b4b2e950f9d8eb62df484": {
      "model_module": "@jupyter-widgets/controls",
      "model_module_version": "1.5.0",
      "model_name": "HBoxModel",
      "state": {
       "_dom_classes": [],
       "_model_module": "@jupyter-widgets/controls",
       "_model_module_version": "1.5.0",
       "_model_name": "HBoxModel",
       "_view_count": null,
       "_view_module": "@jupyter-widgets/controls",
       "_view_module_version": "1.5.0",
       "_view_name": "HBoxView",
       "box_style": "",
       "children": [
        "IPY_MODEL_a06b03fbef674006922cdf66b0ce4fda",
        "IPY_MODEL_d46660308fe14c5a90165f864b7779d6"
       ],
       "layout": "IPY_MODEL_dff3ff3ac24a4f37bc2741c816bd380d"
      }
     },
     "d26f27b150874bec9ecb906ea0d549fc": {
      "model_module": "@jupyter-widgets/controls",
      "model_module_version": "1.5.0",
      "model_name": "ProgressStyleModel",
      "state": {
       "_model_module": "@jupyter-widgets/controls",
       "_model_module_version": "1.5.0",
       "_model_name": "ProgressStyleModel",
       "_view_count": null,
       "_view_module": "@jupyter-widgets/base",
       "_view_module_version": "1.2.0",
       "_view_name": "StyleView",
       "bar_color": null,
       "description_width": "initial"
      }
     },
     "d46660308fe14c5a90165f864b7779d6": {
      "model_module": "@jupyter-widgets/controls",
      "model_module_version": "1.5.0",
      "model_name": "HTMLModel",
      "state": {
       "_dom_classes": [],
       "_model_module": "@jupyter-widgets/controls",
       "_model_module_version": "1.5.0",
       "_model_name": "HTMLModel",
       "_view_count": null,
       "_view_module": "@jupyter-widgets/controls",
       "_view_module_version": "1.5.0",
       "_view_name": "HTMLView",
       "description": "",
       "description_tooltip": null,
       "layout": "IPY_MODEL_70b5d51be6e14b10bbfb5cf9385fbb94",
       "placeholder": "​",
       "style": "IPY_MODEL_b2878b27a42e4a2eafb956054059f2a3",
       "value": "&lt;tqdm.auto.tqdm object at 0x7f794514c210&gt;"
      }
     },
     "d79d974cf51e4d719c1571a71ab2a959": {
      "model_module": "@jupyter-widgets/base",
      "model_module_version": "1.2.0",
      "model_name": "LayoutModel",
      "state": {
       "_model_module": "@jupyter-widgets/base",
       "_model_module_version": "1.2.0",
       "_model_name": "LayoutModel",
       "_view_count": null,
       "_view_module": "@jupyter-widgets/base",
       "_view_module_version": "1.2.0",
       "_view_name": "LayoutView",
       "align_content": null,
       "align_items": null,
       "align_self": null,
       "border": null,
       "bottom": null,
       "display": null,
       "flex": null,
       "flex_flow": null,
       "grid_area": null,
       "grid_auto_columns": null,
       "grid_auto_flow": null,
       "grid_auto_rows": null,
       "grid_column": null,
       "grid_gap": null,
       "grid_row": null,
       "grid_template_areas": null,
       "grid_template_columns": null,
       "grid_template_rows": null,
       "height": null,
       "justify_content": null,
       "justify_items": null,
       "left": null,
       "margin": null,
       "max_height": null,
       "max_width": null,
       "min_height": null,
       "min_width": null,
       "object_fit": null,
       "object_position": null,
       "order": null,
       "overflow": null,
       "overflow_x": null,
       "overflow_y": null,
       "padding": null,
       "right": null,
       "top": null,
       "visibility": null,
       "width": null
      }
     },
     "d90dbf17997a40cdaa9643e80c448157": {
      "model_module": "@jupyter-widgets/controls",
      "model_module_version": "1.5.0",
      "model_name": "FloatProgressModel",
      "state": {
       "_dom_classes": [],
       "_model_module": "@jupyter-widgets/controls",
       "_model_module_version": "1.5.0",
       "_model_name": "FloatProgressModel",
       "_view_count": null,
       "_view_module": "@jupyter-widgets/controls",
       "_view_module_version": "1.5.0",
       "_view_name": "ProgressView",
       "bar_style": "success",
       "description": "",
       "description_tooltip": null,
       "layout": "IPY_MODEL_76ed50d93e854009843d5e2a87ab3e26",
       "max": 377569754,
       "min": 0,
       "orientation": "horizontal",
       "style": "IPY_MODEL_285f8a97341a4048b18d05de91174fcd",
       "value": 377569754
      }
     },
     "dd802aad132a4c17b2ecb916af3d61af": {
      "model_module": "@jupyter-widgets/base",
      "model_module_version": "1.2.0",
      "model_name": "LayoutModel",
      "state": {
       "_model_module": "@jupyter-widgets/base",
       "_model_module_version": "1.2.0",
       "_model_name": "LayoutModel",
       "_view_count": null,
       "_view_module": "@jupyter-widgets/base",
       "_view_module_version": "1.2.0",
       "_view_name": "LayoutView",
       "align_content": null,
       "align_items": null,
       "align_self": null,
       "border": null,
       "bottom": null,
       "display": null,
       "flex": null,
       "flex_flow": null,
       "grid_area": null,
       "grid_auto_columns": null,
       "grid_auto_flow": null,
       "grid_auto_rows": null,
       "grid_column": null,
       "grid_gap": null,
       "grid_row": null,
       "grid_template_areas": null,
       "grid_template_columns": null,
       "grid_template_rows": null,
       "height": null,
       "justify_content": null,
       "justify_items": null,
       "left": null,
       "margin": null,
       "max_height": null,
       "max_width": null,
       "min_height": null,
       "min_width": null,
       "object_fit": null,
       "object_position": null,
       "order": null,
       "overflow": null,
       "overflow_x": null,
       "overflow_y": null,
       "padding": null,
       "right": null,
       "top": null,
       "visibility": null,
       "width": null
      }
     },
     "dff3ff3ac24a4f37bc2741c816bd380d": {
      "model_module": "@jupyter-widgets/base",
      "model_module_version": "1.2.0",
      "model_name": "LayoutModel",
      "state": {
       "_model_module": "@jupyter-widgets/base",
       "_model_module_version": "1.2.0",
       "_model_name": "LayoutModel",
       "_view_count": null,
       "_view_module": "@jupyter-widgets/base",
       "_view_module_version": "1.2.0",
       "_view_name": "LayoutView",
       "align_content": null,
       "align_items": null,
       "align_self": null,
       "border": null,
       "bottom": null,
       "display": null,
       "flex": null,
       "flex_flow": null,
       "grid_area": null,
       "grid_auto_columns": null,
       "grid_auto_flow": null,
       "grid_auto_rows": null,
       "grid_column": null,
       "grid_gap": null,
       "grid_row": null,
       "grid_template_areas": null,
       "grid_template_columns": null,
       "grid_template_rows": null,
       "height": null,
       "justify_content": null,
       "justify_items": null,
       "left": null,
       "margin": null,
       "max_height": null,
       "max_width": null,
       "min_height": null,
       "min_width": null,
       "object_fit": null,
       "object_position": null,
       "order": null,
       "overflow": null,
       "overflow_x": null,
       "overflow_y": null,
       "padding": null,
       "right": null,
       "top": null,
       "visibility": null,
       "width": null
      }
     },
     "e2b39acfb90940f8ae2c7303e3c51962": {
      "model_module": "@jupyter-widgets/base",
      "model_module_version": "1.2.0",
      "model_name": "LayoutModel",
      "state": {
       "_model_module": "@jupyter-widgets/base",
       "_model_module_version": "1.2.0",
       "_model_name": "LayoutModel",
       "_view_count": null,
       "_view_module": "@jupyter-widgets/base",
       "_view_module_version": "1.2.0",
       "_view_name": "LayoutView",
       "align_content": null,
       "align_items": null,
       "align_self": null,
       "border": null,
       "bottom": null,
       "display": null,
       "flex": null,
       "flex_flow": null,
       "grid_area": null,
       "grid_auto_columns": null,
       "grid_auto_flow": null,
       "grid_auto_rows": null,
       "grid_column": null,
       "grid_gap": null,
       "grid_row": null,
       "grid_template_areas": null,
       "grid_template_columns": null,
       "grid_template_rows": null,
       "height": null,
       "justify_content": null,
       "justify_items": null,
       "left": null,
       "margin": null,
       "max_height": null,
       "max_width": null,
       "min_height": null,
       "min_width": null,
       "object_fit": null,
       "object_position": null,
       "order": null,
       "overflow": null,
       "overflow_x": null,
       "overflow_y": null,
       "padding": null,
       "right": null,
       "top": null,
       "visibility": null,
       "width": null
      }
     },
     "e98b25b2477b4168b6b0e46dda30a3bd": {
      "model_module": "@jupyter-widgets/base",
      "model_module_version": "1.2.0",
      "model_name": "LayoutModel",
      "state": {
       "_model_module": "@jupyter-widgets/base",
       "_model_module_version": "1.2.0",
       "_model_name": "LayoutModel",
       "_view_count": null,
       "_view_module": "@jupyter-widgets/base",
       "_view_module_version": "1.2.0",
       "_view_name": "LayoutView",
       "align_content": null,
       "align_items": null,
       "align_self": null,
       "border": null,
       "bottom": null,
       "display": null,
       "flex": null,
       "flex_flow": null,
       "grid_area": null,
       "grid_auto_columns": null,
       "grid_auto_flow": null,
       "grid_auto_rows": null,
       "grid_column": null,
       "grid_gap": null,
       "grid_row": null,
       "grid_template_areas": null,
       "grid_template_columns": null,
       "grid_template_rows": null,
       "height": null,
       "justify_content": null,
       "justify_items": null,
       "left": null,
       "margin": null,
       "max_height": null,
       "max_width": null,
       "min_height": null,
       "min_width": null,
       "object_fit": null,
       "object_position": null,
       "order": null,
       "overflow": null,
       "overflow_x": null,
       "overflow_y": null,
       "padding": null,
       "right": null,
       "top": null,
       "visibility": null,
       "width": null
      }
     },
     "eba346ae4e4a4c56abfc79979c835c77": {
      "model_module": "@jupyter-widgets/base",
      "model_module_version": "1.2.0",
      "model_name": "LayoutModel",
      "state": {
       "_model_module": "@jupyter-widgets/base",
       "_model_module_version": "1.2.0",
       "_model_name": "LayoutModel",
       "_view_count": null,
       "_view_module": "@jupyter-widgets/base",
       "_view_module_version": "1.2.0",
       "_view_name": "LayoutView",
       "align_content": null,
       "align_items": null,
       "align_self": null,
       "border": null,
       "bottom": null,
       "display": null,
       "flex": null,
       "flex_flow": null,
       "grid_area": null,
       "grid_auto_columns": null,
       "grid_auto_flow": null,
       "grid_auto_rows": null,
       "grid_column": null,
       "grid_gap": null,
       "grid_row": null,
       "grid_template_areas": null,
       "grid_template_columns": null,
       "grid_template_rows": null,
       "height": null,
       "justify_content": null,
       "justify_items": null,
       "left": null,
       "margin": null,
       "max_height": null,
       "max_width": null,
       "min_height": null,
       "min_width": null,
       "object_fit": null,
       "object_position": null,
       "order": null,
       "overflow": null,
       "overflow_x": null,
       "overflow_y": null,
       "padding": null,
       "right": null,
       "top": null,
       "visibility": null,
       "width": null
      }
     },
     "ee4293db8fb346ea81794b71adbf4f73": {
      "model_module": "@jupyter-widgets/base",
      "model_module_version": "1.2.0",
      "model_name": "LayoutModel",
      "state": {
       "_model_module": "@jupyter-widgets/base",
       "_model_module_version": "1.2.0",
       "_model_name": "LayoutModel",
       "_view_count": null,
       "_view_module": "@jupyter-widgets/base",
       "_view_module_version": "1.2.0",
       "_view_name": "LayoutView",
       "align_content": null,
       "align_items": null,
       "align_self": null,
       "border": null,
       "bottom": null,
       "display": null,
       "flex": null,
       "flex_flow": null,
       "grid_area": null,
       "grid_auto_columns": null,
       "grid_auto_flow": null,
       "grid_auto_rows": null,
       "grid_column": null,
       "grid_gap": null,
       "grid_row": null,
       "grid_template_areas": null,
       "grid_template_columns": null,
       "grid_template_rows": null,
       "height": null,
       "justify_content": null,
       "justify_items": null,
       "left": null,
       "margin": null,
       "max_height": null,
       "max_width": null,
       "min_height": null,
       "min_width": null,
       "object_fit": null,
       "object_position": null,
       "order": null,
       "overflow": null,
       "overflow_x": null,
       "overflow_y": null,
       "padding": null,
       "right": null,
       "top": null,
       "visibility": null,
       "width": null
      }
     },
     "eeef411232964d52961279ab858dcd45": {
      "model_module": "@jupyter-widgets/controls",
      "model_module_version": "1.5.0",
      "model_name": "HTMLModel",
      "state": {
       "_dom_classes": [],
       "_model_module": "@jupyter-widgets/controls",
       "_model_module_version": "1.5.0",
       "_model_name": "HTMLModel",
       "_view_count": null,
       "_view_module": "@jupyter-widgets/controls",
       "_view_module_version": "1.5.0",
       "_view_name": "HTMLView",
       "description": "",
       "description_tooltip": null,
       "layout": "IPY_MODEL_915e00cd2d8349458e7feb004803f16b",
       "placeholder": "​",
       "style": "IPY_MODEL_4181e97a87d745b3a6282fa78a505155",
       "value": "&lt;tqdm.auto.tqdm object at 0x7f79431df910&gt;"
      }
     },
     "f345519973834d8d806991930f789527": {
      "model_module": "@jupyter-widgets/controls",
      "model_module_version": "1.5.0",
      "model_name": "HTMLModel",
      "state": {
       "_dom_classes": [],
       "_model_module": "@jupyter-widgets/controls",
       "_model_module_version": "1.5.0",
       "_model_name": "HTMLModel",
       "_view_count": null,
       "_view_module": "@jupyter-widgets/controls",
       "_view_module_version": "1.5.0",
       "_view_name": "HTMLView",
       "description": "",
       "description_tooltip": null,
       "layout": "IPY_MODEL_53bdc52a8af943d9830f686500e05e98",
       "placeholder": "​",
       "style": "IPY_MODEL_7eb58589a3b04dbba69c31dfa52a8efc",
       "value": "&lt;tqdm.auto.tqdm object at 0x7f7a05580f90&gt;"
      }
     },
     "f76cb8a0a6f74b8ab05b744a4142f7f3": {
      "model_module": "@jupyter-widgets/controls",
      "model_module_version": "1.5.0",
      "model_name": "HTMLModel",
      "state": {
       "_dom_classes": [],
       "_model_module": "@jupyter-widgets/controls",
       "_model_module_version": "1.5.0",
       "_model_name": "HTMLModel",
       "_view_count": null,
       "_view_module": "@jupyter-widgets/controls",
       "_view_module_version": "1.5.0",
       "_view_name": "HTMLView",
       "description": "",
       "description_tooltip": null,
       "layout": "IPY_MODEL_11571697ccf84680a4bad7554a50f02e",
       "placeholder": "​",
       "style": "IPY_MODEL_4d72150b08744cb8b26d907097be1612",
       "value": "&lt;tqdm.auto.tqdm object at 0x7f7a055cb8d0&gt;"
      }
     },
     "fa69c046780448c7bee7880805196fb9": {
      "model_module": "@jupyter-widgets/base",
      "model_module_version": "1.2.0",
      "model_name": "LayoutModel",
      "state": {
       "_model_module": "@jupyter-widgets/base",
       "_model_module_version": "1.2.0",
       "_model_name": "LayoutModel",
       "_view_count": null,
       "_view_module": "@jupyter-widgets/base",
       "_view_module_version": "1.2.0",
       "_view_name": "LayoutView",
       "align_content": null,
       "align_items": null,
       "align_self": null,
       "border": null,
       "bottom": null,
       "display": null,
       "flex": null,
       "flex_flow": null,
       "grid_area": null,
       "grid_auto_columns": null,
       "grid_auto_flow": null,
       "grid_auto_rows": null,
       "grid_column": null,
       "grid_gap": null,
       "grid_row": null,
       "grid_template_areas": null,
       "grid_template_columns": null,
       "grid_template_rows": null,
       "height": null,
       "justify_content": null,
       "justify_items": null,
       "left": null,
       "margin": null,
       "max_height": null,
       "max_width": null,
       "min_height": null,
       "min_width": null,
       "object_fit": null,
       "object_position": null,
       "order": null,
       "overflow": null,
       "overflow_x": null,
       "overflow_y": null,
       "padding": null,
       "right": null,
       "top": null,
       "visibility": null,
       "width": null
      }
     }
    },
    "version_major": 2,
    "version_minor": 0
   }
  }
 },
 "nbformat": 4,
 "nbformat_minor": 5
}
